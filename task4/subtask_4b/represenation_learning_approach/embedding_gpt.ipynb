{
 "cells": [
  {
   "metadata": {},
   "cell_type": "markdown",
   "source": [
    "# Getting started\n",
    "\n",
    "### CLEF 2025 - CheckThat! Lab  - Task 4 Scientific Web Discourse - Subtask 4b (Scientific Claim Source Retrieval)\n",
    "\n",
    "This notebook enables participants of subtask 4b to quickly get started. It includes the following:\n",
    "- Code to upload data, including:\n",
    "    - code to upload the collection set (CORD-19 academic papers' metadata)\n",
    "    - code to upload the query set (tweets with implicit references to CORD-19 papers)\n",
    "- Code to run a baseline retrieval model (BM25)\n",
    "- Code to evaluate the baseline model\n",
    "\n",
    "Participants are free to use this notebook and add their own models for the competition."
   ],
   "id": "e089e2d573669e5c"
  },
  {
   "metadata": {},
   "cell_type": "markdown",
   "source": "# 1) Importing data",
   "id": "e6d21c32930baece"
  },
  {
   "metadata": {
    "ExecuteTime": {
     "end_time": "2025-05-08T12:56:28.913086Z",
     "start_time": "2025-05-08T12:56:28.905645Z"
    }
   },
   "cell_type": "code",
   "source": [
    "import numpy as np\n",
    "import pandas as pd\n",
    "import tqdm\n",
    "from tqdm.auto import tqdm\n",
    "import openai\n",
    "import numpy as np\n",
    "from sklearn.preprocessing import normalize\n",
    "from tqdm.auto import tqdm"
   ],
   "id": "91c4adf5cc55a432",
   "outputs": [],
   "execution_count": 16
  },
  {
   "metadata": {},
   "cell_type": "markdown",
   "source": [
    "## 1.a) Import the collection set\n",
    "The collection set contains metadata of CORD-19 academic papers.\n",
    "\n",
    "The preprocessed and filtered CORD-19 dataset is available on the Gitlab repository here: https://gitlab.com/checkthat_lab/clef2025-checkthat-lab/-/tree/main/task4/subtask_4b\n",
    "\n",
    "Participants should first download the file then upload it on the Google Colab session with the following steps.\n"
   ],
   "id": "ccd9a649ccc40b9b"
  },
  {
   "metadata": {
    "ExecuteTime": {
     "end_time": "2025-05-08T12:56:28.946299Z",
     "start_time": "2025-05-08T12:56:28.944336Z"
    }
   },
   "cell_type": "code",
   "source": [
    "# 1) Download the collection set from the Gitlab repository: https://gitlab.com/checkthat_lab/clef2025-checkthat-lab/-/tree/main/task4/subtask_4b\n",
    "# 2) Drag and drop the downloaded file to the \"Files\" section (left vertical menu on Colab)\n",
    "# 3) Modify the path to your local file path\n",
    "PATH_COLLECTION_DATA = '../subtask4b_collection_data.pkl' #MODIFY PATH"
   ],
   "id": "af395bd3844e25e",
   "outputs": [],
   "execution_count": 17
  },
  {
   "metadata": {
    "ExecuteTime": {
     "end_time": "2025-05-08T12:56:28.982903Z",
     "start_time": "2025-05-08T12:56:28.950682Z"
    }
   },
   "cell_type": "code",
   "source": "df_collection = pd.read_pickle(PATH_COLLECTION_DATA)",
   "id": "9191476e620dacf3",
   "outputs": [],
   "execution_count": 18
  },
  {
   "metadata": {
    "ExecuteTime": {
     "end_time": "2025-05-08T12:56:28.997836Z",
     "start_time": "2025-05-08T12:56:28.990166Z"
    }
   },
   "cell_type": "code",
   "source": "df_collection.info()",
   "id": "938bbb023bb30459",
   "outputs": [
    {
     "name": "stdout",
     "output_type": "stream",
     "text": [
      "<class 'pandas.core.frame.DataFrame'>\n",
      "Index: 7718 entries, 162 to 1056448\n",
      "Data columns (total 17 columns):\n",
      " #   Column            Non-Null Count  Dtype         \n",
      "---  ------            --------------  -----         \n",
      " 0   cord_uid          7718 non-null   object        \n",
      " 1   source_x          7718 non-null   object        \n",
      " 2   title             7718 non-null   object        \n",
      " 3   doi               7677 non-null   object        \n",
      " 4   pmcid             4959 non-null   object        \n",
      " 5   pubmed_id         6233 non-null   object        \n",
      " 6   license           7718 non-null   object        \n",
      " 7   abstract          7718 non-null   object        \n",
      " 8   publish_time      7715 non-null   object        \n",
      " 9   authors           7674 non-null   object        \n",
      " 10  journal           6668 non-null   object        \n",
      " 11  mag_id            0 non-null      float64       \n",
      " 12  who_covidence_id  528 non-null    object        \n",
      " 13  arxiv_id          20 non-null     object        \n",
      " 14  label             7718 non-null   object        \n",
      " 15  time              7715 non-null   datetime64[ns]\n",
      " 16  timet             7718 non-null   int64         \n",
      "dtypes: datetime64[ns](1), float64(1), int64(1), object(14)\n",
      "memory usage: 1.1+ MB\n"
     ]
    }
   ],
   "execution_count": 19
  },
  {
   "metadata": {
    "ExecuteTime": {
     "end_time": "2025-05-08T12:56:29.011834Z",
     "start_time": "2025-05-08T12:56:29.006061Z"
    }
   },
   "cell_type": "code",
   "source": "df_collection.head()",
   "id": "2bb109da808255b0",
   "outputs": [
    {
     "data": {
      "text/plain": [
       "      cord_uid source_x                                              title  \\\n",
       "162   umvrwgaw      PMC  Professional and Home-Made Face Masks Reduce E...   \n",
       "611   spiud6ok      PMC                               The Failure of R (0)   \n",
       "918   aclzp3iy      PMC  Pulmonary sequelae in a patient recovered from...   \n",
       "993   ycxyn2a2      PMC  What was the primary mode of smallpox transmis...   \n",
       "1053  zxe95qy9      PMC  Lessons from the History of Quarantine, from P...   \n",
       "\n",
       "                               doi       pmcid pubmed_id      license  \\\n",
       "162   10.1371/journal.pone.0002618  PMC2440799  18612429        cc-by   \n",
       "611            10.1155/2011/527610  PMC3157160  21860658        cc-by   \n",
       "918        10.4103/0970-2113.99118  PMC3424870  22919170  cc-by-nc-sa   \n",
       "993       10.3389/fcimb.2012.00150  PMC3509329  23226686        cc-by   \n",
       "1053        10.3201/eid1902.120312  PMC3559034  23343512        no-cc   \n",
       "\n",
       "                                               abstract publish_time  \\\n",
       "162   BACKGROUND: Governments are preparing for a po...   2008-07-09   \n",
       "611   The basic reproductive ratio, R (0), is one of...   2011-08-16   \n",
       "918   The pandemic of swine flu (H1N1) influenza spr...         2012   \n",
       "993   The mode of infection transmission has profoun...   2012-11-29   \n",
       "1053  In the new millennium, the centuries-old strat...   2013-02-03   \n",
       "\n",
       "                                                authors  \\\n",
       "162   van der Sande, Marianne; Teunis, Peter; Sabel,...   \n",
       "611       Li, Jing; Blakeley, Daniel; Smith?, Robert J.   \n",
       "918   Singh, Virendra; Sharma, Bharat Bhushan; Patel...   \n",
       "993                                   Milton, Donald K.   \n",
       "1053                                  Tognotti, Eugenia   \n",
       "\n",
       "                          journal  mag_id who_covidence_id arxiv_id     label  \\\n",
       "162                      PLoS One     NaN              NaN      NaN  umvrwgaw   \n",
       "611       Comput Math Methods Med     NaN              NaN      NaN  spiud6ok   \n",
       "918                    Lung India     NaN              NaN      NaN  aclzp3iy   \n",
       "993   Front Cell Infect Microbiol     NaN              NaN      NaN  ycxyn2a2   \n",
       "1053             Emerg Infect Dis     NaN              NaN      NaN  zxe95qy9   \n",
       "\n",
       "           time       timet  \n",
       "162  2008-07-09  1215561600  \n",
       "611  2011-08-16  1313452800  \n",
       "918  2012-01-01  1325376000  \n",
       "993  2012-11-29  1354147200  \n",
       "1053 2013-02-03  1359849600  "
      ],
      "text/html": [
       "<div>\n",
       "<style scoped>\n",
       "    .dataframe tbody tr th:only-of-type {\n",
       "        vertical-align: middle;\n",
       "    }\n",
       "\n",
       "    .dataframe tbody tr th {\n",
       "        vertical-align: top;\n",
       "    }\n",
       "\n",
       "    .dataframe thead th {\n",
       "        text-align: right;\n",
       "    }\n",
       "</style>\n",
       "<table border=\"1\" class=\"dataframe\">\n",
       "  <thead>\n",
       "    <tr style=\"text-align: right;\">\n",
       "      <th></th>\n",
       "      <th>cord_uid</th>\n",
       "      <th>source_x</th>\n",
       "      <th>title</th>\n",
       "      <th>doi</th>\n",
       "      <th>pmcid</th>\n",
       "      <th>pubmed_id</th>\n",
       "      <th>license</th>\n",
       "      <th>abstract</th>\n",
       "      <th>publish_time</th>\n",
       "      <th>authors</th>\n",
       "      <th>journal</th>\n",
       "      <th>mag_id</th>\n",
       "      <th>who_covidence_id</th>\n",
       "      <th>arxiv_id</th>\n",
       "      <th>label</th>\n",
       "      <th>time</th>\n",
       "      <th>timet</th>\n",
       "    </tr>\n",
       "  </thead>\n",
       "  <tbody>\n",
       "    <tr>\n",
       "      <th>162</th>\n",
       "      <td>umvrwgaw</td>\n",
       "      <td>PMC</td>\n",
       "      <td>Professional and Home-Made Face Masks Reduce E...</td>\n",
       "      <td>10.1371/journal.pone.0002618</td>\n",
       "      <td>PMC2440799</td>\n",
       "      <td>18612429</td>\n",
       "      <td>cc-by</td>\n",
       "      <td>BACKGROUND: Governments are preparing for a po...</td>\n",
       "      <td>2008-07-09</td>\n",
       "      <td>van der Sande, Marianne; Teunis, Peter; Sabel,...</td>\n",
       "      <td>PLoS One</td>\n",
       "      <td>NaN</td>\n",
       "      <td>NaN</td>\n",
       "      <td>NaN</td>\n",
       "      <td>umvrwgaw</td>\n",
       "      <td>2008-07-09</td>\n",
       "      <td>1215561600</td>\n",
       "    </tr>\n",
       "    <tr>\n",
       "      <th>611</th>\n",
       "      <td>spiud6ok</td>\n",
       "      <td>PMC</td>\n",
       "      <td>The Failure of R (0)</td>\n",
       "      <td>10.1155/2011/527610</td>\n",
       "      <td>PMC3157160</td>\n",
       "      <td>21860658</td>\n",
       "      <td>cc-by</td>\n",
       "      <td>The basic reproductive ratio, R (0), is one of...</td>\n",
       "      <td>2011-08-16</td>\n",
       "      <td>Li, Jing; Blakeley, Daniel; Smith?, Robert J.</td>\n",
       "      <td>Comput Math Methods Med</td>\n",
       "      <td>NaN</td>\n",
       "      <td>NaN</td>\n",
       "      <td>NaN</td>\n",
       "      <td>spiud6ok</td>\n",
       "      <td>2011-08-16</td>\n",
       "      <td>1313452800</td>\n",
       "    </tr>\n",
       "    <tr>\n",
       "      <th>918</th>\n",
       "      <td>aclzp3iy</td>\n",
       "      <td>PMC</td>\n",
       "      <td>Pulmonary sequelae in a patient recovered from...</td>\n",
       "      <td>10.4103/0970-2113.99118</td>\n",
       "      <td>PMC3424870</td>\n",
       "      <td>22919170</td>\n",
       "      <td>cc-by-nc-sa</td>\n",
       "      <td>The pandemic of swine flu (H1N1) influenza spr...</td>\n",
       "      <td>2012</td>\n",
       "      <td>Singh, Virendra; Sharma, Bharat Bhushan; Patel...</td>\n",
       "      <td>Lung India</td>\n",
       "      <td>NaN</td>\n",
       "      <td>NaN</td>\n",
       "      <td>NaN</td>\n",
       "      <td>aclzp3iy</td>\n",
       "      <td>2012-01-01</td>\n",
       "      <td>1325376000</td>\n",
       "    </tr>\n",
       "    <tr>\n",
       "      <th>993</th>\n",
       "      <td>ycxyn2a2</td>\n",
       "      <td>PMC</td>\n",
       "      <td>What was the primary mode of smallpox transmis...</td>\n",
       "      <td>10.3389/fcimb.2012.00150</td>\n",
       "      <td>PMC3509329</td>\n",
       "      <td>23226686</td>\n",
       "      <td>cc-by</td>\n",
       "      <td>The mode of infection transmission has profoun...</td>\n",
       "      <td>2012-11-29</td>\n",
       "      <td>Milton, Donald K.</td>\n",
       "      <td>Front Cell Infect Microbiol</td>\n",
       "      <td>NaN</td>\n",
       "      <td>NaN</td>\n",
       "      <td>NaN</td>\n",
       "      <td>ycxyn2a2</td>\n",
       "      <td>2012-11-29</td>\n",
       "      <td>1354147200</td>\n",
       "    </tr>\n",
       "    <tr>\n",
       "      <th>1053</th>\n",
       "      <td>zxe95qy9</td>\n",
       "      <td>PMC</td>\n",
       "      <td>Lessons from the History of Quarantine, from P...</td>\n",
       "      <td>10.3201/eid1902.120312</td>\n",
       "      <td>PMC3559034</td>\n",
       "      <td>23343512</td>\n",
       "      <td>no-cc</td>\n",
       "      <td>In the new millennium, the centuries-old strat...</td>\n",
       "      <td>2013-02-03</td>\n",
       "      <td>Tognotti, Eugenia</td>\n",
       "      <td>Emerg Infect Dis</td>\n",
       "      <td>NaN</td>\n",
       "      <td>NaN</td>\n",
       "      <td>NaN</td>\n",
       "      <td>zxe95qy9</td>\n",
       "      <td>2013-02-03</td>\n",
       "      <td>1359849600</td>\n",
       "    </tr>\n",
       "  </tbody>\n",
       "</table>\n",
       "</div>"
      ]
     },
     "execution_count": 20,
     "metadata": {},
     "output_type": "execute_result"
    }
   ],
   "execution_count": 20
  },
  {
   "metadata": {},
   "cell_type": "markdown",
   "source": [
    "## 1.b) Import the query set\n",
    "\n",
    "The query set contains tweets with implicit references to academic papers from the collection set.\n",
    "\n",
    "The preprocessed query set is available on the Gitlab repository here: https://gitlab.com/checkthat_lab/clef2025-checkthat-lab/-/tree/main/task4/subtask_4b\n",
    "\n",
    "Participants should first download the file then upload it on the Google Colab session with the following steps."
   ],
   "id": "266bc37ac35f296e"
  },
  {
   "metadata": {
    "ExecuteTime": {
     "end_time": "2025-05-08T12:59:38.769309Z",
     "start_time": "2025-05-08T12:59:38.764386Z"
    }
   },
   "cell_type": "code",
   "source": [
    "# 1) Download the query tweets from the Gitlab repository: https://gitlab.com/checkthat_lab/clef2025-checkthat-lab/-/tree/main/task4/subtask_4b?ref_type=heads\n",
    "# 2) Drag and drop the downloaded file to the \"Files\" section (left vertical menu on Colab)\n",
    "# 3) Modify the path to your local file path\n",
    "PATH_QUERY_TRAIN_DATA = '../subtask4b_query_tweets_train.tsv' #MODIFY PATH\n",
    "PATH_QUERY_DEV_DATA = '../subtask4b_query_tweets_dev.tsv' #MODIFY PATH\n",
    "PATH_QUERY_TEST_DATA = '../subtask4b_query_tweets_test.tsv'"
   ],
   "id": "28c8ca5953661a87",
   "outputs": [],
   "execution_count": 36
  },
  {
   "metadata": {
    "ExecuteTime": {
     "end_time": "2025-05-08T12:59:42.414011Z",
     "start_time": "2025-05-08T12:59:42.365382Z"
    }
   },
   "cell_type": "code",
   "source": [
    "df_query_train = pd.read_csv(PATH_QUERY_TRAIN_DATA, sep = '\\t')\n",
    "df_query_dev = pd.read_csv(PATH_QUERY_DEV_DATA, sep = '\\t')\n",
    "df_query_test = pd.read_csv(PATH_QUERY_TEST_DATA, sep = '\\t')"
   ],
   "id": "fac1fa9391badbd8",
   "outputs": [],
   "execution_count": 37
  },
  {
   "metadata": {
    "ExecuteTime": {
     "end_time": "2025-05-08T12:59:49.425087Z",
     "start_time": "2025-05-08T12:59:49.410479Z"
    }
   },
   "cell_type": "code",
   "source": "df_query_test.head()",
   "id": "3254e9e8eab0a39",
   "outputs": [
    {
     "data": {
      "text/plain": [
       "   post_id                                         tweet_text\n",
       "0        1  A recent research study published yesterday cl...\n",
       "1        2  \"We should track the long-term effects of thes...\n",
       "2        3        the agony of \"long haul\" covid-19 symptoms.\n",
       "3        4  Home and online monitoring and assessment of b...\n",
       "4        5  it may be a long one, folks! to avoid exceedin..."
      ],
      "text/html": [
       "<div>\n",
       "<style scoped>\n",
       "    .dataframe tbody tr th:only-of-type {\n",
       "        vertical-align: middle;\n",
       "    }\n",
       "\n",
       "    .dataframe tbody tr th {\n",
       "        vertical-align: top;\n",
       "    }\n",
       "\n",
       "    .dataframe thead th {\n",
       "        text-align: right;\n",
       "    }\n",
       "</style>\n",
       "<table border=\"1\" class=\"dataframe\">\n",
       "  <thead>\n",
       "    <tr style=\"text-align: right;\">\n",
       "      <th></th>\n",
       "      <th>post_id</th>\n",
       "      <th>tweet_text</th>\n",
       "    </tr>\n",
       "  </thead>\n",
       "  <tbody>\n",
       "    <tr>\n",
       "      <th>0</th>\n",
       "      <td>1</td>\n",
       "      <td>A recent research study published yesterday cl...</td>\n",
       "    </tr>\n",
       "    <tr>\n",
       "      <th>1</th>\n",
       "      <td>2</td>\n",
       "      <td>\"We should track the long-term effects of thes...</td>\n",
       "    </tr>\n",
       "    <tr>\n",
       "      <th>2</th>\n",
       "      <td>3</td>\n",
       "      <td>the agony of \"long haul\" covid-19 symptoms.</td>\n",
       "    </tr>\n",
       "    <tr>\n",
       "      <th>3</th>\n",
       "      <td>4</td>\n",
       "      <td>Home and online monitoring and assessment of b...</td>\n",
       "    </tr>\n",
       "    <tr>\n",
       "      <th>4</th>\n",
       "      <td>5</td>\n",
       "      <td>it may be a long one, folks! to avoid exceedin...</td>\n",
       "    </tr>\n",
       "  </tbody>\n",
       "</table>\n",
       "</div>"
      ]
     },
     "execution_count": 38,
     "metadata": {},
     "output_type": "execute_result"
    }
   ],
   "execution_count": 38
  },
  {
   "metadata": {},
   "cell_type": "code",
   "outputs": [],
   "execution_count": null,
   "source": "df_query_train.head()",
   "id": "ce1d63b1df90ea04"
  },
  {
   "metadata": {},
   "cell_type": "code",
   "outputs": [],
   "execution_count": null,
   "source": "df_query_train.info()",
   "id": "2cfc7ef9db166f88"
  },
  {
   "metadata": {
    "ExecuteTime": {
     "end_time": "2025-05-08T12:56:29.210290Z",
     "start_time": "2025-05-08T12:56:29.207084Z"
    }
   },
   "cell_type": "code",
   "source": "df_query_dev.head()",
   "id": "d48053449732b563",
   "outputs": [
    {
     "data": {
      "text/plain": [
       "   post_id                                         tweet_text  cord_uid\n",
       "0       16  covid recovery: this study from the usa reveal...  3qvh482o\n",
       "1       69  \"Among 139 clients exposed to two symptomatic ...  r58aohnu\n",
       "2       73  I recall early on reading that researchers who...  sts48u9i\n",
       "3       93  You know you're credible when NIH website has ...  3sr2exq9\n",
       "4       96  Resistance to antifungal medications is a grow...  ybwwmyqy"
      ],
      "text/html": [
       "<div>\n",
       "<style scoped>\n",
       "    .dataframe tbody tr th:only-of-type {\n",
       "        vertical-align: middle;\n",
       "    }\n",
       "\n",
       "    .dataframe tbody tr th {\n",
       "        vertical-align: top;\n",
       "    }\n",
       "\n",
       "    .dataframe thead th {\n",
       "        text-align: right;\n",
       "    }\n",
       "</style>\n",
       "<table border=\"1\" class=\"dataframe\">\n",
       "  <thead>\n",
       "    <tr style=\"text-align: right;\">\n",
       "      <th></th>\n",
       "      <th>post_id</th>\n",
       "      <th>tweet_text</th>\n",
       "      <th>cord_uid</th>\n",
       "    </tr>\n",
       "  </thead>\n",
       "  <tbody>\n",
       "    <tr>\n",
       "      <th>0</th>\n",
       "      <td>16</td>\n",
       "      <td>covid recovery: this study from the usa reveal...</td>\n",
       "      <td>3qvh482o</td>\n",
       "    </tr>\n",
       "    <tr>\n",
       "      <th>1</th>\n",
       "      <td>69</td>\n",
       "      <td>\"Among 139 clients exposed to two symptomatic ...</td>\n",
       "      <td>r58aohnu</td>\n",
       "    </tr>\n",
       "    <tr>\n",
       "      <th>2</th>\n",
       "      <td>73</td>\n",
       "      <td>I recall early on reading that researchers who...</td>\n",
       "      <td>sts48u9i</td>\n",
       "    </tr>\n",
       "    <tr>\n",
       "      <th>3</th>\n",
       "      <td>93</td>\n",
       "      <td>You know you're credible when NIH website has ...</td>\n",
       "      <td>3sr2exq9</td>\n",
       "    </tr>\n",
       "    <tr>\n",
       "      <th>4</th>\n",
       "      <td>96</td>\n",
       "      <td>Resistance to antifungal medications is a grow...</td>\n",
       "      <td>ybwwmyqy</td>\n",
       "    </tr>\n",
       "  </tbody>\n",
       "</table>\n",
       "</div>"
      ]
     },
     "execution_count": 25,
     "metadata": {},
     "output_type": "execute_result"
    }
   ],
   "execution_count": 25
  },
  {
   "metadata": {
    "ExecuteTime": {
     "end_time": "2025-05-08T12:56:29.249897Z",
     "start_time": "2025-05-08T12:56:29.246562Z"
    }
   },
   "cell_type": "code",
   "source": "df_query_dev.info()",
   "id": "f15925b061cdaf7c",
   "outputs": [
    {
     "name": "stdout",
     "output_type": "stream",
     "text": [
      "<class 'pandas.core.frame.DataFrame'>\n",
      "RangeIndex: 1400 entries, 0 to 1399\n",
      "Data columns (total 3 columns):\n",
      " #   Column      Non-Null Count  Dtype \n",
      "---  ------      --------------  ----- \n",
      " 0   post_id     1400 non-null   int64 \n",
      " 1   tweet_text  1400 non-null   object\n",
      " 2   cord_uid    1400 non-null   object\n",
      "dtypes: int64(1), object(2)\n",
      "memory usage: 32.9+ KB\n"
     ]
    }
   ],
   "execution_count": 26
  },
  {
   "metadata": {},
   "cell_type": "markdown",
   "source": "# 3) Evaluating",
   "id": "b0761803beb9e4bd"
  },
  {
   "metadata": {
    "ExecuteTime": {
     "end_time": "2025-05-08T12:56:29.292470Z",
     "start_time": "2025-05-08T12:56:29.290278Z"
    }
   },
   "cell_type": "code",
   "source": [
    "# Evaluate retrieved candidates using MRR@k\n",
    "def get_performance_mrr(data, col_gold, col_pred, list_k = [1, 5, 10]):\n",
    "    d_performance = {}\n",
    "    for k in list_k:\n",
    "        data[\"in_topx\"] = data.apply(lambda x: (1/([i for i in x[col_pred][:k]].index(x[col_gold]) + 1) if x[col_gold] in [i for i in x[col_pred][:k]] else 0), axis=1)\n",
    "        #performances.append(data[\"in_topx\"].mean())\n",
    "        d_performance[k] = data[\"in_topx\"].mean()\n",
    "    return d_performance\n"
   ],
   "id": "e8ea6dd94e098a1d",
   "outputs": [],
   "execution_count": 27
  },
  {
   "metadata": {},
   "cell_type": "markdown",
   "source": "# 4) Embedding",
   "id": "596a8a4d206e56ca"
  },
  {
   "metadata": {
    "ExecuteTime": {
     "end_time": "2025-05-08T12:56:29.311729Z",
     "start_time": "2025-05-08T12:56:29.309854Z"
    }
   },
   "cell_type": "code",
   "source": [
    "openai.api_key = \"XXXX\"\n",
    "EMBED_MODEL   = \"text-embedding-3-large\"\n",
    "TOP_K_FINAL   = 10\n",
    "CORPUS_BATCH  = 500"
   ],
   "id": "b63374adc98f5eee",
   "outputs": [],
   "execution_count": 28
  },
  {
   "metadata": {
    "ExecuteTime": {
     "end_time": "2025-05-08T12:56:29.365152Z",
     "start_time": "2025-05-08T12:56:29.330760Z"
    }
   },
   "cell_type": "code",
   "source": [
    "corpus_texts = (\n",
    "    df_collection[\"title\"].fillna(\"\").str.strip()\n",
    "    + \"\\n\\n\" +\n",
    "    df_collection[\"abstract\"].fillna(\"\").str.strip()\n",
    ").tolist()\n",
    "uids = df_collection[\"cord_uid\"].tolist()"
   ],
   "id": "4c29e03737975fa6",
   "outputs": [],
   "execution_count": 29
  },
  {
   "metadata": {
    "ExecuteTime": {
     "end_time": "2025-05-08T12:58:54.181425Z",
     "start_time": "2025-05-08T12:56:29.372958Z"
    }
   },
   "cell_type": "code",
   "source": [
    "corpus_embs = []\n",
    "for i in tqdm(range(0, len(corpus_texts), CORPUS_BATCH), desc=\"Embedding corpus\"):\n",
    "    #time.sleep(5)\n",
    "    batch = corpus_texts[i : i + CORPUS_BATCH]\n",
    "    resp  = openai.embeddings.create(model=EMBED_MODEL, input=batch)\n",
    "    batch_embs = [d.embedding for d in resp.data]\n",
    "    corpus_embs.extend(batch_embs)\n",
    "\n",
    "corpus_embs = normalize(np.array(corpus_embs, dtype=np.float32), axis=1)"
   ],
   "id": "cc582219b40a42ce",
   "outputs": [
    {
     "name": "stderr",
     "output_type": "stream",
     "text": [
      "Embedding corpus: 100%|██████████| 16/16 [02:23<00:00,  8.99s/it]\n"
     ]
    }
   ],
   "execution_count": 30
  },
  {
   "metadata": {
    "ExecuteTime": {
     "end_time": "2025-05-08T12:59:00.728214Z",
     "start_time": "2025-05-08T12:58:54.627035Z"
    }
   },
   "cell_type": "code",
   "source": [
    "claims   = df_query_dev[\"tweet_text\"].tolist()\n",
    "resp_q   = openai.embeddings.create(model=EMBED_MODEL, input=claims)\n",
    "query_embs = normalize(\n",
    "    np.array([d.embedding for d in resp_q.data], dtype=np.float32),\n",
    "    axis=1\n",
    ")"
   ],
   "id": "e924aa093d40f7d2",
   "outputs": [],
   "execution_count": 31
  },
  {
   "metadata": {
    "ExecuteTime": {
     "end_time": "2025-05-08T12:59:04.438759Z",
     "start_time": "2025-05-08T12:59:00.731352Z"
    }
   },
   "cell_type": "code",
   "source": [
    "results = []\n",
    "for qi, q_emb in enumerate(tqdm(query_embs, desc=\"Retrieving\")):\n",
    "    sims     = corpus_embs @ q_emb\n",
    "    top_idxs = np.argsort(sims)[::-1][:TOP_K_FINAL]\n",
    "    results.append([uids[i] for i in top_idxs])"
   ],
   "id": "5f7dd10204e62f2d",
   "outputs": [
    {
     "name": "stderr",
     "output_type": "stream",
     "text": [
      "Retrieving: 100%|██████████| 1400/1400 [00:03<00:00, 377.95it/s]\n"
     ]
    }
   ],
   "execution_count": 32
  },
  {
   "metadata": {
    "ExecuteTime": {
     "end_time": "2025-05-08T12:59:06.211393Z",
     "start_time": "2025-05-08T12:59:06.206312Z"
    }
   },
   "cell_type": "code",
   "source": "df_query_dev[\"dense_embed_top10\"] = results",
   "id": "26cb99180cc3ed49",
   "outputs": [],
   "execution_count": 33
  },
  {
   "metadata": {
    "ExecuteTime": {
     "end_time": "2025-05-08T12:59:09.440437Z",
     "start_time": "2025-05-08T12:59:09.435761Z"
    }
   },
   "cell_type": "code",
   "source": "df_query_dev[[\"tweet_text\",\"dense_embed_top10\"]].head()",
   "id": "1ba795dbac943a44",
   "outputs": [
    {
     "data": {
      "text/plain": [
       "                                          tweet_text  \\\n",
       "0  covid recovery: this study from the usa reveal...   \n",
       "1  \"Among 139 clients exposed to two symptomatic ...   \n",
       "2  I recall early on reading that researchers who...   \n",
       "3  You know you're credible when NIH website has ...   \n",
       "4  Resistance to antifungal medications is a grow...   \n",
       "\n",
       "                                   dense_embed_top10  \n",
       "0  [hg3xpej0, jrqlhjsm, rthsl7a9, nksd3wuw, 5hxsa...  \n",
       "1  [r58aohnu, tjhtk2up, 1m1hi735, yrowv62k, icgsb...  \n",
       "2  [sts48u9i, u5nxm9tu, a7frertc, qkg8fwbp, 6l7h3...  \n",
       "3  [3sr2exq9, 8j3bb6zx, k0f4cwig, u43jmpyx, xlczc...  \n",
       "4  [ybwwmyqy, ouvq2wpq, vabb2f26, wdw0a2kl, qh6ri...  "
      ],
      "text/html": [
       "<div>\n",
       "<style scoped>\n",
       "    .dataframe tbody tr th:only-of-type {\n",
       "        vertical-align: middle;\n",
       "    }\n",
       "\n",
       "    .dataframe tbody tr th {\n",
       "        vertical-align: top;\n",
       "    }\n",
       "\n",
       "    .dataframe thead th {\n",
       "        text-align: right;\n",
       "    }\n",
       "</style>\n",
       "<table border=\"1\" class=\"dataframe\">\n",
       "  <thead>\n",
       "    <tr style=\"text-align: right;\">\n",
       "      <th></th>\n",
       "      <th>tweet_text</th>\n",
       "      <th>dense_embed_top10</th>\n",
       "    </tr>\n",
       "  </thead>\n",
       "  <tbody>\n",
       "    <tr>\n",
       "      <th>0</th>\n",
       "      <td>covid recovery: this study from the usa reveal...</td>\n",
       "      <td>[hg3xpej0, jrqlhjsm, rthsl7a9, nksd3wuw, 5hxsa...</td>\n",
       "    </tr>\n",
       "    <tr>\n",
       "      <th>1</th>\n",
       "      <td>\"Among 139 clients exposed to two symptomatic ...</td>\n",
       "      <td>[r58aohnu, tjhtk2up, 1m1hi735, yrowv62k, icgsb...</td>\n",
       "    </tr>\n",
       "    <tr>\n",
       "      <th>2</th>\n",
       "      <td>I recall early on reading that researchers who...</td>\n",
       "      <td>[sts48u9i, u5nxm9tu, a7frertc, qkg8fwbp, 6l7h3...</td>\n",
       "    </tr>\n",
       "    <tr>\n",
       "      <th>3</th>\n",
       "      <td>You know you're credible when NIH website has ...</td>\n",
       "      <td>[3sr2exq9, 8j3bb6zx, k0f4cwig, u43jmpyx, xlczc...</td>\n",
       "    </tr>\n",
       "    <tr>\n",
       "      <th>4</th>\n",
       "      <td>Resistance to antifungal medications is a grow...</td>\n",
       "      <td>[ybwwmyqy, ouvq2wpq, vabb2f26, wdw0a2kl, qh6ri...</td>\n",
       "    </tr>\n",
       "  </tbody>\n",
       "</table>\n",
       "</div>"
      ]
     },
     "execution_count": 34,
     "metadata": {},
     "output_type": "execute_result"
    }
   ],
   "execution_count": 34
  },
  {
   "metadata": {
    "ExecuteTime": {
     "end_time": "2025-05-08T12:59:09.463624Z",
     "start_time": "2025-05-08T12:59:09.443998Z"
    }
   },
   "cell_type": "code",
   "source": [
    "results_reranked = get_performance_mrr(df_query_dev, 'cord_uid', 'dense_embed_top10')\n",
    "print(f\"Results on the reranked set: {results_reranked}\")"
   ],
   "id": "e27d95e8b40b27b5",
   "outputs": [
    {
     "name": "stdout",
     "output_type": "stream",
     "text": [
      "Results on the reranked set: {1: np.float64(0.6621428571428571), 5: np.float64(0.7201190476190475), 10: np.float64(0.7257925170068026)}\n"
     ]
    }
   ],
   "execution_count": 35
  },
  {
   "metadata": {},
   "cell_type": "markdown",
   "source": "# 5) Test",
   "id": "33a120cad8b75766"
  },
  {
   "metadata": {
    "ExecuteTime": {
     "end_time": "2025-05-08T13:01:49.594448Z",
     "start_time": "2025-05-08T13:01:43.638072Z"
    }
   },
   "cell_type": "code",
   "source": [
    "claims   = df_query_test[\"tweet_text\"].tolist()\n",
    "resp_q   = openai.embeddings.create(model=EMBED_MODEL, input=claims)\n",
    "query_embs = normalize(\n",
    "    np.array([d.embedding for d in resp_q.data], dtype=np.float32),\n",
    "    axis=1\n",
    ")"
   ],
   "id": "ee80358244e5d0ce",
   "outputs": [],
   "execution_count": 39
  },
  {
   "metadata": {
    "ExecuteTime": {
     "end_time": "2025-05-08T13:01:53.273497Z",
     "start_time": "2025-05-08T13:01:49.597693Z"
    }
   },
   "cell_type": "code",
   "source": [
    "results = []\n",
    "for qi, q_emb in enumerate(tqdm(query_embs, desc=\"Retrieving\")):\n",
    "    sims     = corpus_embs @ q_emb\n",
    "    top_idxs = np.argsort(sims)[::-1][:5]\n",
    "    results.append([uids[i] for i in top_idxs])"
   ],
   "id": "d93a67d74ec18dde",
   "outputs": [
    {
     "name": "stderr",
     "output_type": "stream",
     "text": [
      "Retrieving: 100%|██████████| 1446/1446 [00:03<00:00, 393.74it/s]\n"
     ]
    }
   ],
   "execution_count": 40
  },
  {
   "metadata": {
    "ExecuteTime": {
     "end_time": "2025-05-08T13:02:20.202968Z",
     "start_time": "2025-05-08T13:02:20.199684Z"
    }
   },
   "cell_type": "code",
   "source": "df_query_test[\"preds\"] = results",
   "id": "3f63f781dc31723b",
   "outputs": [],
   "execution_count": 44
  },
  {
   "metadata": {
    "ExecuteTime": {
     "end_time": "2025-05-08T13:02:21.968020Z",
     "start_time": "2025-05-08T13:02:21.961580Z"
    }
   },
   "cell_type": "code",
   "source": "df_query_test.head(2)",
   "id": "e8477675f210ea62",
   "outputs": [
    {
     "data": {
      "text/plain": [
       "   post_id                                         tweet_text  \\\n",
       "0        1  A recent research study published yesterday cl...   \n",
       "1        2  \"We should track the long-term effects of thes...   \n",
       "\n",
       "                                                pred  \\\n",
       "0  [bv7hvc1e, pxo11hwp, qgwu9fsk, x4zuv4jo, 26kx1...   \n",
       "1  [855atuue, wigakw9h, evf9nz05, gjsrfmj4, in69f...   \n",
       "\n",
       "                                               preds  \n",
       "0  [bv7hvc1e, pxo11hwp, qgwu9fsk, x4zuv4jo, 26kx1...  \n",
       "1  [855atuue, wigakw9h, evf9nz05, gjsrfmj4, in69f...  "
      ],
      "text/html": [
       "<div>\n",
       "<style scoped>\n",
       "    .dataframe tbody tr th:only-of-type {\n",
       "        vertical-align: middle;\n",
       "    }\n",
       "\n",
       "    .dataframe tbody tr th {\n",
       "        vertical-align: top;\n",
       "    }\n",
       "\n",
       "    .dataframe thead th {\n",
       "        text-align: right;\n",
       "    }\n",
       "</style>\n",
       "<table border=\"1\" class=\"dataframe\">\n",
       "  <thead>\n",
       "    <tr style=\"text-align: right;\">\n",
       "      <th></th>\n",
       "      <th>post_id</th>\n",
       "      <th>tweet_text</th>\n",
       "      <th>pred</th>\n",
       "      <th>preds</th>\n",
       "    </tr>\n",
       "  </thead>\n",
       "  <tbody>\n",
       "    <tr>\n",
       "      <th>0</th>\n",
       "      <td>1</td>\n",
       "      <td>A recent research study published yesterday cl...</td>\n",
       "      <td>[bv7hvc1e, pxo11hwp, qgwu9fsk, x4zuv4jo, 26kx1...</td>\n",
       "      <td>[bv7hvc1e, pxo11hwp, qgwu9fsk, x4zuv4jo, 26kx1...</td>\n",
       "    </tr>\n",
       "    <tr>\n",
       "      <th>1</th>\n",
       "      <td>2</td>\n",
       "      <td>\"We should track the long-term effects of thes...</td>\n",
       "      <td>[855atuue, wigakw9h, evf9nz05, gjsrfmj4, in69f...</td>\n",
       "      <td>[855atuue, wigakw9h, evf9nz05, gjsrfmj4, in69f...</td>\n",
       "    </tr>\n",
       "  </tbody>\n",
       "</table>\n",
       "</div>"
      ]
     },
     "execution_count": 45,
     "metadata": {},
     "output_type": "execute_result"
    }
   ],
   "execution_count": 45
  },
  {
   "metadata": {
    "ExecuteTime": {
     "end_time": "2025-05-08T13:03:40.221659Z",
     "start_time": "2025-05-08T13:03:40.200314Z"
    }
   },
   "cell_type": "code",
   "source": "df_query_test[['post_id', 'preds']].to_csv('predictions_embedding_gpt.tsv', index=None, sep='\\t')",
   "id": "8dd7d2f7c43973c",
   "outputs": [],
   "execution_count": 47
  }
 ],
 "metadata": {
  "kernelspec": {
   "name": "python3",
   "language": "python",
   "display_name": "Python 3 (ipykernel)"
  }
 },
 "nbformat": 5,
 "nbformat_minor": 9
}
