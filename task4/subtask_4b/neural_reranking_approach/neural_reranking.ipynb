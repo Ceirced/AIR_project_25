{
 "cells": [
  {
   "cell_type": "markdown",
   "metadata": {
    "id": "MfnQvGfvtH1w"
   },
   "source": [
    "# Getting started\n",
    "\n",
    "### CLEF 2025 - CheckThat! Lab  - Task 4 Scientific Web Discourse - Subtask 4b (Scientific Claim Source Retrieval)\n",
    "\n",
    "This notebook enables participants of subtask 4b to quickly get started. It includes the following:\n",
    "- Code to upload data, including:\n",
    "    - code to upload the collection set (CORD-19 academic papers' metadata)\n",
    "    - code to upload the query set (tweets with implicit references to CORD-19 papers)\n",
    "- Code to run a baseline retrieval model (BM25)\n",
    "- Code to evaluate the baseline model\n",
    "\n",
    "Participants are free to use this notebook and add their own models for the competition."
   ]
  },
  {
   "cell_type": "markdown",
   "metadata": {
    "id": "vpDCfBMouNAL"
   },
   "source": [
    "# 1) Importing data and libraries"
   ]
  },
  {
   "cell_type": "code",
   "metadata": {
    "executionInfo": {
     "elapsed": 403,
     "status": "ok",
     "timestamp": 1742975967136,
     "user": {
      "displayName": "Yavuz",
      "userId": "01318046262282431930"
     },
     "user_tz": -60
    },
    "id": "rQPqDKP_QHFM",
    "ExecuteTime": {
     "end_time": "2025-05-08T09:22:08.850744Z",
     "start_time": "2025-05-08T09:22:08.832035Z"
    }
   },
   "source": [
    "import numpy as np\n",
    "import pandas as pd\n",
    "from tqdm import tqdm\n",
    "from rank_bm25 import BM25Okapi\n",
    "from sklearn.preprocessing import MinMaxScaler\n",
    "from sentence_transformers import SentenceTransformer, CrossEncoder, util"
   ],
   "outputs": [],
   "execution_count": 15
  },
  {
   "cell_type": "markdown",
   "metadata": {
    "id": "u8N7h9BhQI5m"
   },
   "source": [
    "## 1.a) Import the collection set\n",
    "The collection set contains metadata of CORD-19 academic papers.\n",
    "\n",
    "The preprocessed and filtered CORD-19 dataset is available on the Gitlab repository here: https://gitlab.com/checkthat_lab/clef2025-checkthat-lab/-/tree/main/task4/subtask_4b\n",
    "\n",
    "Participants should first download the file then upload it on the Google Colab session with the following steps.\n"
   ]
  },
  {
   "cell_type": "code",
   "metadata": {
    "executionInfo": {
     "elapsed": 7,
     "status": "ok",
     "timestamp": 1742975971100,
     "user": {
      "displayName": "Yavuz",
      "userId": "01318046262282431930"
     },
     "user_tz": -60
    },
    "id": "2GQI4HcKR6hS",
    "ExecuteTime": {
     "end_time": "2025-05-08T09:22:10.526380Z",
     "start_time": "2025-05-08T09:22:10.520012Z"
    }
   },
   "source": [
    "# 1) Download the collection set from the Gitlab repository: https://gitlab.com/checkthat_lab/clef2025-checkthat-lab/-/tree/main/task4/subtask_4b\n",
    "# 2) Drag and drop the downloaded file to the \"Files\" section (left vertical menu on Colab)\n",
    "# 3) Modify the path to your local file path\n",
    "PATH_COLLECTION_DATA = '../subtask4b_collection_data.pkl' #MODIFY PATH"
   ],
   "outputs": [],
   "execution_count": 16
  },
  {
   "cell_type": "code",
   "metadata": {
    "executionInfo": {
     "elapsed": 42,
     "status": "ok",
     "timestamp": 1742975975524,
     "user": {
      "displayName": "Yavuz",
      "userId": "01318046262282431930"
     },
     "user_tz": -60
    },
    "id": "SYBB3UYbMwTA",
    "ExecuteTime": {
     "end_time": "2025-05-08T09:22:13.772884Z",
     "start_time": "2025-05-08T09:22:13.709858Z"
    }
   },
   "source": [
    "df_collection = pd.read_pickle(PATH_COLLECTION_DATA)"
   ],
   "outputs": [],
   "execution_count": 17
  },
  {
   "cell_type": "code",
   "metadata": {
    "colab": {
     "base_uri": "https://localhost:8080/"
    },
    "executionInfo": {
     "elapsed": 37,
     "status": "ok",
     "timestamp": 1742975976305,
     "user": {
      "displayName": "Yavuz",
      "userId": "01318046262282431930"
     },
     "user_tz": -60
    },
    "id": "4v3lygNOQQSn",
    "outputId": "ee5b9abd-f889-4a4e-ce11-32d2691433cb",
    "ExecuteTime": {
     "end_time": "2025-05-08T09:22:15.002912Z",
     "start_time": "2025-05-08T09:22:14.985626Z"
    }
   },
   "source": [
    "df_collection.info()"
   ],
   "outputs": [
    {
     "name": "stdout",
     "output_type": "stream",
     "text": [
      "<class 'pandas.core.frame.DataFrame'>\n",
      "Index: 7718 entries, 162 to 1056448\n",
      "Data columns (total 17 columns):\n",
      " #   Column            Non-Null Count  Dtype         \n",
      "---  ------            --------------  -----         \n",
      " 0   cord_uid          7718 non-null   object        \n",
      " 1   source_x          7718 non-null   object        \n",
      " 2   title             7718 non-null   object        \n",
      " 3   doi               7677 non-null   object        \n",
      " 4   pmcid             4959 non-null   object        \n",
      " 5   pubmed_id         6233 non-null   object        \n",
      " 6   license           7718 non-null   object        \n",
      " 7   abstract          7718 non-null   object        \n",
      " 8   publish_time      7715 non-null   object        \n",
      " 9   authors           7674 non-null   object        \n",
      " 10  journal           6668 non-null   object        \n",
      " 11  mag_id            0 non-null      float64       \n",
      " 12  who_covidence_id  528 non-null    object        \n",
      " 13  arxiv_id          20 non-null     object        \n",
      " 14  label             7718 non-null   object        \n",
      " 15  time              7715 non-null   datetime64[ns]\n",
      " 16  timet             7718 non-null   int64         \n",
      "dtypes: datetime64[ns](1), float64(1), int64(1), object(14)\n",
      "memory usage: 1.1+ MB\n"
     ]
    }
   ],
   "execution_count": 18
  },
  {
   "cell_type": "code",
   "metadata": {
    "colab": {
     "base_uri": "https://localhost:8080/",
     "height": 608
    },
    "executionInfo": {
     "elapsed": 211,
     "status": "ok",
     "timestamp": 1742975978238,
     "user": {
      "displayName": "Yavuz",
      "userId": "01318046262282431930"
     },
     "user_tz": -60
    },
    "id": "9veNFFGDZRx7",
    "outputId": "5eec7f85-7d20-44d7-8986-a85cb00533d8",
    "ExecuteTime": {
     "end_time": "2025-05-08T09:22:18.789577Z",
     "start_time": "2025-05-08T09:22:18.771073Z"
    }
   },
   "source": [
    "df_collection.head()"
   ],
   "outputs": [
    {
     "data": {
      "text/plain": [
       "      cord_uid source_x                                              title  \\\n",
       "162   umvrwgaw      PMC  Professional and Home-Made Face Masks Reduce E...   \n",
       "611   spiud6ok      PMC                               The Failure of R (0)   \n",
       "918   aclzp3iy      PMC  Pulmonary sequelae in a patient recovered from...   \n",
       "993   ycxyn2a2      PMC  What was the primary mode of smallpox transmis...   \n",
       "1053  zxe95qy9      PMC  Lessons from the History of Quarantine, from P...   \n",
       "\n",
       "                               doi       pmcid pubmed_id      license  \\\n",
       "162   10.1371/journal.pone.0002618  PMC2440799  18612429        cc-by   \n",
       "611            10.1155/2011/527610  PMC3157160  21860658        cc-by   \n",
       "918        10.4103/0970-2113.99118  PMC3424870  22919170  cc-by-nc-sa   \n",
       "993       10.3389/fcimb.2012.00150  PMC3509329  23226686        cc-by   \n",
       "1053        10.3201/eid1902.120312  PMC3559034  23343512        no-cc   \n",
       "\n",
       "                                               abstract publish_time  \\\n",
       "162   BACKGROUND: Governments are preparing for a po...   2008-07-09   \n",
       "611   The basic reproductive ratio, R (0), is one of...   2011-08-16   \n",
       "918   The pandemic of swine flu (H1N1) influenza spr...         2012   \n",
       "993   The mode of infection transmission has profoun...   2012-11-29   \n",
       "1053  In the new millennium, the centuries-old strat...   2013-02-03   \n",
       "\n",
       "                                                authors  \\\n",
       "162   van der Sande, Marianne; Teunis, Peter; Sabel,...   \n",
       "611       Li, Jing; Blakeley, Daniel; Smith?, Robert J.   \n",
       "918   Singh, Virendra; Sharma, Bharat Bhushan; Patel...   \n",
       "993                                   Milton, Donald K.   \n",
       "1053                                  Tognotti, Eugenia   \n",
       "\n",
       "                          journal  mag_id who_covidence_id arxiv_id     label  \\\n",
       "162                      PLoS One     NaN              NaN      NaN  umvrwgaw   \n",
       "611       Comput Math Methods Med     NaN              NaN      NaN  spiud6ok   \n",
       "918                    Lung India     NaN              NaN      NaN  aclzp3iy   \n",
       "993   Front Cell Infect Microbiol     NaN              NaN      NaN  ycxyn2a2   \n",
       "1053             Emerg Infect Dis     NaN              NaN      NaN  zxe95qy9   \n",
       "\n",
       "           time       timet  \n",
       "162  2008-07-09  1215561600  \n",
       "611  2011-08-16  1313452800  \n",
       "918  2012-01-01  1325376000  \n",
       "993  2012-11-29  1354147200  \n",
       "1053 2013-02-03  1359849600  "
      ],
      "text/html": [
       "<div>\n",
       "<style scoped>\n",
       "    .dataframe tbody tr th:only-of-type {\n",
       "        vertical-align: middle;\n",
       "    }\n",
       "\n",
       "    .dataframe tbody tr th {\n",
       "        vertical-align: top;\n",
       "    }\n",
       "\n",
       "    .dataframe thead th {\n",
       "        text-align: right;\n",
       "    }\n",
       "</style>\n",
       "<table border=\"1\" class=\"dataframe\">\n",
       "  <thead>\n",
       "    <tr style=\"text-align: right;\">\n",
       "      <th></th>\n",
       "      <th>cord_uid</th>\n",
       "      <th>source_x</th>\n",
       "      <th>title</th>\n",
       "      <th>doi</th>\n",
       "      <th>pmcid</th>\n",
       "      <th>pubmed_id</th>\n",
       "      <th>license</th>\n",
       "      <th>abstract</th>\n",
       "      <th>publish_time</th>\n",
       "      <th>authors</th>\n",
       "      <th>journal</th>\n",
       "      <th>mag_id</th>\n",
       "      <th>who_covidence_id</th>\n",
       "      <th>arxiv_id</th>\n",
       "      <th>label</th>\n",
       "      <th>time</th>\n",
       "      <th>timet</th>\n",
       "    </tr>\n",
       "  </thead>\n",
       "  <tbody>\n",
       "    <tr>\n",
       "      <th>162</th>\n",
       "      <td>umvrwgaw</td>\n",
       "      <td>PMC</td>\n",
       "      <td>Professional and Home-Made Face Masks Reduce E...</td>\n",
       "      <td>10.1371/journal.pone.0002618</td>\n",
       "      <td>PMC2440799</td>\n",
       "      <td>18612429</td>\n",
       "      <td>cc-by</td>\n",
       "      <td>BACKGROUND: Governments are preparing for a po...</td>\n",
       "      <td>2008-07-09</td>\n",
       "      <td>van der Sande, Marianne; Teunis, Peter; Sabel,...</td>\n",
       "      <td>PLoS One</td>\n",
       "      <td>NaN</td>\n",
       "      <td>NaN</td>\n",
       "      <td>NaN</td>\n",
       "      <td>umvrwgaw</td>\n",
       "      <td>2008-07-09</td>\n",
       "      <td>1215561600</td>\n",
       "    </tr>\n",
       "    <tr>\n",
       "      <th>611</th>\n",
       "      <td>spiud6ok</td>\n",
       "      <td>PMC</td>\n",
       "      <td>The Failure of R (0)</td>\n",
       "      <td>10.1155/2011/527610</td>\n",
       "      <td>PMC3157160</td>\n",
       "      <td>21860658</td>\n",
       "      <td>cc-by</td>\n",
       "      <td>The basic reproductive ratio, R (0), is one of...</td>\n",
       "      <td>2011-08-16</td>\n",
       "      <td>Li, Jing; Blakeley, Daniel; Smith?, Robert J.</td>\n",
       "      <td>Comput Math Methods Med</td>\n",
       "      <td>NaN</td>\n",
       "      <td>NaN</td>\n",
       "      <td>NaN</td>\n",
       "      <td>spiud6ok</td>\n",
       "      <td>2011-08-16</td>\n",
       "      <td>1313452800</td>\n",
       "    </tr>\n",
       "    <tr>\n",
       "      <th>918</th>\n",
       "      <td>aclzp3iy</td>\n",
       "      <td>PMC</td>\n",
       "      <td>Pulmonary sequelae in a patient recovered from...</td>\n",
       "      <td>10.4103/0970-2113.99118</td>\n",
       "      <td>PMC3424870</td>\n",
       "      <td>22919170</td>\n",
       "      <td>cc-by-nc-sa</td>\n",
       "      <td>The pandemic of swine flu (H1N1) influenza spr...</td>\n",
       "      <td>2012</td>\n",
       "      <td>Singh, Virendra; Sharma, Bharat Bhushan; Patel...</td>\n",
       "      <td>Lung India</td>\n",
       "      <td>NaN</td>\n",
       "      <td>NaN</td>\n",
       "      <td>NaN</td>\n",
       "      <td>aclzp3iy</td>\n",
       "      <td>2012-01-01</td>\n",
       "      <td>1325376000</td>\n",
       "    </tr>\n",
       "    <tr>\n",
       "      <th>993</th>\n",
       "      <td>ycxyn2a2</td>\n",
       "      <td>PMC</td>\n",
       "      <td>What was the primary mode of smallpox transmis...</td>\n",
       "      <td>10.3389/fcimb.2012.00150</td>\n",
       "      <td>PMC3509329</td>\n",
       "      <td>23226686</td>\n",
       "      <td>cc-by</td>\n",
       "      <td>The mode of infection transmission has profoun...</td>\n",
       "      <td>2012-11-29</td>\n",
       "      <td>Milton, Donald K.</td>\n",
       "      <td>Front Cell Infect Microbiol</td>\n",
       "      <td>NaN</td>\n",
       "      <td>NaN</td>\n",
       "      <td>NaN</td>\n",
       "      <td>ycxyn2a2</td>\n",
       "      <td>2012-11-29</td>\n",
       "      <td>1354147200</td>\n",
       "    </tr>\n",
       "    <tr>\n",
       "      <th>1053</th>\n",
       "      <td>zxe95qy9</td>\n",
       "      <td>PMC</td>\n",
       "      <td>Lessons from the History of Quarantine, from P...</td>\n",
       "      <td>10.3201/eid1902.120312</td>\n",
       "      <td>PMC3559034</td>\n",
       "      <td>23343512</td>\n",
       "      <td>no-cc</td>\n",
       "      <td>In the new millennium, the centuries-old strat...</td>\n",
       "      <td>2013-02-03</td>\n",
       "      <td>Tognotti, Eugenia</td>\n",
       "      <td>Emerg Infect Dis</td>\n",
       "      <td>NaN</td>\n",
       "      <td>NaN</td>\n",
       "      <td>NaN</td>\n",
       "      <td>zxe95qy9</td>\n",
       "      <td>2013-02-03</td>\n",
       "      <td>1359849600</td>\n",
       "    </tr>\n",
       "  </tbody>\n",
       "</table>\n",
       "</div>"
      ]
     },
     "execution_count": 19,
     "metadata": {},
     "output_type": "execute_result"
    }
   ],
   "execution_count": 19
  },
  {
   "cell_type": "markdown",
   "metadata": {
    "id": "AAUiDU0xXLBt"
   },
   "source": [
    "## 1.b) Import the query set\n",
    "\n",
    "The query set contains tweets with implicit references to academic papers from the collection set.\n",
    "\n",
    "The preprocessed query set is available on the Gitlab repository here: https://gitlab.com/checkthat_lab/clef2025-checkthat-lab/-/tree/main/task4/subtask_4b\n",
    "\n",
    "Participants should first download the file then upload it on the Google Colab session with the following steps."
   ]
  },
  {
   "cell_type": "code",
   "metadata": {
    "executionInfo": {
     "elapsed": 11,
     "status": "ok",
     "timestamp": 1742975982410,
     "user": {
      "displayName": "Yavuz",
      "userId": "01318046262282431930"
     },
     "user_tz": -60
    },
    "id": "v8gwkZDSXPsd",
    "ExecuteTime": {
     "end_time": "2025-05-08T09:22:20.923545Z",
     "start_time": "2025-05-08T09:22:20.910989Z"
    }
   },
   "source": [
    "# 1) Download the query tweets from the Gitlab repository: https://gitlab.com/checkthat_lab/clef2025-checkthat-lab/-/tree/main/task4/subtask_4b?ref_type=heads\n",
    "# 2) Drag and drop the downloaded file to the \"Files\" section (left vertical menu on Colab)\n",
    "# 3) Modify the path to your local file path\n",
    "PATH_QUERY_TRAIN_DATA = '../subtask4b_query_tweets_train.tsv' #MODIFY PATH\n",
    "PATH_QUERY_DEV_DATA = '../subtask4b_query_tweets_dev.tsv' #MODIFY PATH\n",
    "PATH_QUERY_TEST_DATA = '../subtask4b_query_tweets_test.tsv' #MODIFY PATH"
   ],
   "outputs": [],
   "execution_count": 20
  },
  {
   "cell_type": "code",
   "metadata": {
    "executionInfo": {
     "elapsed": 17,
     "status": "ok",
     "timestamp": 1742976006985,
     "user": {
      "displayName": "Yavuz",
      "userId": "01318046262282431930"
     },
     "user_tz": -60
    },
    "id": "VqxjYq2tYDmE",
    "ExecuteTime": {
     "end_time": "2025-05-08T09:22:23.025148Z",
     "start_time": "2025-05-08T09:22:22.939050Z"
    }
   },
   "source": [
    "df_query_train = pd.read_csv(PATH_QUERY_TRAIN_DATA, sep = '\\t')\n",
    "df_query_dev = pd.read_csv(PATH_QUERY_DEV_DATA, sep = '\\t')"
   ],
   "outputs": [],
   "execution_count": 21
  },
  {
   "cell_type": "code",
   "metadata": {
    "id": "szMEK3OkYLvX",
    "ExecuteTime": {
     "end_time": "2025-05-08T09:22:24.254341Z",
     "start_time": "2025-05-08T09:22:24.240840Z"
    }
   },
   "source": [
    "df_query_train.head()"
   ],
   "outputs": [
    {
     "data": {
      "text/plain": [
       "   post_id                                         tweet_text  cord_uid\n",
       "0        0  Oral care in rehabilitation medicine: oral vul...  htlvpvz5\n",
       "1        1  this study isn't receiving sufficient attentio...  4kfl29ul\n",
       "2        2  thanks, xi jinping. a reminder that this study...  jtwb17u8\n",
       "3        3  Taiwan - a population of 23 million has had ju...  0w9k8iy1\n",
       "4        4  Obtaining a diagnosis of autism in lower incom...  tiqksd69"
      ],
      "text/html": [
       "<div>\n",
       "<style scoped>\n",
       "    .dataframe tbody tr th:only-of-type {\n",
       "        vertical-align: middle;\n",
       "    }\n",
       "\n",
       "    .dataframe tbody tr th {\n",
       "        vertical-align: top;\n",
       "    }\n",
       "\n",
       "    .dataframe thead th {\n",
       "        text-align: right;\n",
       "    }\n",
       "</style>\n",
       "<table border=\"1\" class=\"dataframe\">\n",
       "  <thead>\n",
       "    <tr style=\"text-align: right;\">\n",
       "      <th></th>\n",
       "      <th>post_id</th>\n",
       "      <th>tweet_text</th>\n",
       "      <th>cord_uid</th>\n",
       "    </tr>\n",
       "  </thead>\n",
       "  <tbody>\n",
       "    <tr>\n",
       "      <th>0</th>\n",
       "      <td>0</td>\n",
       "      <td>Oral care in rehabilitation medicine: oral vul...</td>\n",
       "      <td>htlvpvz5</td>\n",
       "    </tr>\n",
       "    <tr>\n",
       "      <th>1</th>\n",
       "      <td>1</td>\n",
       "      <td>this study isn't receiving sufficient attentio...</td>\n",
       "      <td>4kfl29ul</td>\n",
       "    </tr>\n",
       "    <tr>\n",
       "      <th>2</th>\n",
       "      <td>2</td>\n",
       "      <td>thanks, xi jinping. a reminder that this study...</td>\n",
       "      <td>jtwb17u8</td>\n",
       "    </tr>\n",
       "    <tr>\n",
       "      <th>3</th>\n",
       "      <td>3</td>\n",
       "      <td>Taiwan - a population of 23 million has had ju...</td>\n",
       "      <td>0w9k8iy1</td>\n",
       "    </tr>\n",
       "    <tr>\n",
       "      <th>4</th>\n",
       "      <td>4</td>\n",
       "      <td>Obtaining a diagnosis of autism in lower incom...</td>\n",
       "      <td>tiqksd69</td>\n",
       "    </tr>\n",
       "  </tbody>\n",
       "</table>\n",
       "</div>"
      ]
     },
     "execution_count": 22,
     "metadata": {},
     "output_type": "execute_result"
    }
   ],
   "execution_count": 22
  },
  {
   "cell_type": "code",
   "metadata": {
    "id": "aslmTTJQyL2X",
    "ExecuteTime": {
     "end_time": "2025-05-08T09:22:26.485883Z",
     "start_time": "2025-05-08T09:22:26.470830Z"
    }
   },
   "source": [
    "df_query_train.info()"
   ],
   "outputs": [
    {
     "name": "stdout",
     "output_type": "stream",
     "text": [
      "<class 'pandas.core.frame.DataFrame'>\n",
      "RangeIndex: 12853 entries, 0 to 12852\n",
      "Data columns (total 3 columns):\n",
      " #   Column      Non-Null Count  Dtype \n",
      "---  ------      --------------  ----- \n",
      " 0   post_id     12853 non-null  int64 \n",
      " 1   tweet_text  12853 non-null  object\n",
      " 2   cord_uid    12853 non-null  object\n",
      "dtypes: int64(1), object(2)\n",
      "memory usage: 301.4+ KB\n"
     ]
    }
   ],
   "execution_count": 23
  },
  {
   "cell_type": "code",
   "metadata": {
    "colab": {
     "base_uri": "https://localhost:8080/",
     "height": 206
    },
    "executionInfo": {
     "elapsed": 28,
     "status": "ok",
     "timestamp": 1742976030778,
     "user": {
      "displayName": "Yavuz",
      "userId": "01318046262282431930"
     },
     "user_tz": -60
    },
    "id": "B5X8FwLhLY3u",
    "outputId": "36e21737-8257-4568-8346-0d3e0980ee53",
    "ExecuteTime": {
     "end_time": "2025-05-08T09:22:30.930281Z",
     "start_time": "2025-05-08T09:22:30.918168Z"
    }
   },
   "source": [
    "df_query_dev.head()"
   ],
   "outputs": [
    {
     "data": {
      "text/plain": [
       "   post_id                                         tweet_text  cord_uid\n",
       "0       16  covid recovery: this study from the usa reveal...  3qvh482o\n",
       "1       69  \"Among 139 clients exposed to two symptomatic ...  r58aohnu\n",
       "2       73  I recall early on reading that researchers who...  sts48u9i\n",
       "3       93  You know you're credible when NIH website has ...  3sr2exq9\n",
       "4       96  Resistance to antifungal medications is a grow...  ybwwmyqy"
      ],
      "text/html": [
       "<div>\n",
       "<style scoped>\n",
       "    .dataframe tbody tr th:only-of-type {\n",
       "        vertical-align: middle;\n",
       "    }\n",
       "\n",
       "    .dataframe tbody tr th {\n",
       "        vertical-align: top;\n",
       "    }\n",
       "\n",
       "    .dataframe thead th {\n",
       "        text-align: right;\n",
       "    }\n",
       "</style>\n",
       "<table border=\"1\" class=\"dataframe\">\n",
       "  <thead>\n",
       "    <tr style=\"text-align: right;\">\n",
       "      <th></th>\n",
       "      <th>post_id</th>\n",
       "      <th>tweet_text</th>\n",
       "      <th>cord_uid</th>\n",
       "    </tr>\n",
       "  </thead>\n",
       "  <tbody>\n",
       "    <tr>\n",
       "      <th>0</th>\n",
       "      <td>16</td>\n",
       "      <td>covid recovery: this study from the usa reveal...</td>\n",
       "      <td>3qvh482o</td>\n",
       "    </tr>\n",
       "    <tr>\n",
       "      <th>1</th>\n",
       "      <td>69</td>\n",
       "      <td>\"Among 139 clients exposed to two symptomatic ...</td>\n",
       "      <td>r58aohnu</td>\n",
       "    </tr>\n",
       "    <tr>\n",
       "      <th>2</th>\n",
       "      <td>73</td>\n",
       "      <td>I recall early on reading that researchers who...</td>\n",
       "      <td>sts48u9i</td>\n",
       "    </tr>\n",
       "    <tr>\n",
       "      <th>3</th>\n",
       "      <td>93</td>\n",
       "      <td>You know you're credible when NIH website has ...</td>\n",
       "      <td>3sr2exq9</td>\n",
       "    </tr>\n",
       "    <tr>\n",
       "      <th>4</th>\n",
       "      <td>96</td>\n",
       "      <td>Resistance to antifungal medications is a grow...</td>\n",
       "      <td>ybwwmyqy</td>\n",
       "    </tr>\n",
       "  </tbody>\n",
       "</table>\n",
       "</div>"
      ]
     },
     "execution_count": 24,
     "metadata": {},
     "output_type": "execute_result"
    }
   ],
   "execution_count": 24
  },
  {
   "cell_type": "code",
   "metadata": {
    "colab": {
     "base_uri": "https://localhost:8080/"
    },
    "executionInfo": {
     "elapsed": 14,
     "status": "ok",
     "timestamp": 1742976032804,
     "user": {
      "displayName": "Yavuz",
      "userId": "01318046262282431930"
     },
     "user_tz": -60
    },
    "id": "t6gDlBZnLcdH",
    "outputId": "11cd57d2-a4b7-4b06-a9af-9ba5e29c191b",
    "ExecuteTime": {
     "end_time": "2025-05-08T09:22:33.392630Z",
     "start_time": "2025-05-08T09:22:33.376778Z"
    }
   },
   "source": [
    "df_query_dev.info()"
   ],
   "outputs": [
    {
     "name": "stdout",
     "output_type": "stream",
     "text": [
      "<class 'pandas.core.frame.DataFrame'>\n",
      "RangeIndex: 1400 entries, 0 to 1399\n",
      "Data columns (total 3 columns):\n",
      " #   Column      Non-Null Count  Dtype \n",
      "---  ------      --------------  ----- \n",
      " 0   post_id     1400 non-null   int64 \n",
      " 1   tweet_text  1400 non-null   object\n",
      " 2   cord_uid    1400 non-null   object\n",
      "dtypes: int64(1), object(2)\n",
      "memory usage: 32.9+ KB\n"
     ]
    }
   ],
   "execution_count": 25
  },
  {
   "metadata": {},
   "cell_type": "markdown",
   "source": "# 2) Importing Baselinemodels"
  },
  {
   "metadata": {},
   "cell_type": "markdown",
   "source": "## 2.1) Bi-Encoder"
  },
  {
   "metadata": {
    "ExecuteTime": {
     "end_time": "2025-05-08T09:35:38.806720Z",
     "start_time": "2025-05-08T09:32:30.828591Z"
    }
   },
   "cell_type": "code",
   "source": [
    "from sentence_transformers import SentenceTransformer, util\n",
    "import torch\n",
    "from tqdm import tqdm\n",
    "\n",
    "bi_encoder = SentenceTransformer('all-MiniLM-L6-v2')\n",
    "\n",
    "corpus = df_collection[['title', 'abstract']].apply(\n",
    "    lambda x: f\"{x['title']} {x['abstract']}\", axis=1).tolist()\n",
    "cord_uids = df_collection['cord_uid'].tolist()\n",
    "\n",
    "corpus_embeddings = bi_encoder.encode(corpus, convert_to_tensor=True, show_progress_bar=True)\n"
   ],
   "outputs": [
    {
     "data": {
      "text/plain": [
       "modules.json:   0%|          | 0.00/349 [00:00<?, ?B/s]"
      ],
      "application/vnd.jupyter.widget-view+json": {
       "version_major": 2,
       "version_minor": 0,
       "model_id": "6ed94c19645a419bb1ba240911559c15"
      }
     },
     "metadata": {},
     "output_type": "display_data"
    },
    {
     "name": "stderr",
     "output_type": "stream",
     "text": [
      "C:\\Users\\mayer\\anaconda3\\envs\\AIR_project_25\\Lib\\site-packages\\huggingface_hub\\file_download.py:142: UserWarning: `huggingface_hub` cache-system uses symlinks by default to efficiently store duplicated files but your machine does not support them in C:\\Users\\mayer\\.cache\\huggingface\\hub\\models--sentence-transformers--all-MiniLM-L6-v2. Caching files will still work but in a degraded version that might require more space on your disk. This warning can be disabled by setting the `HF_HUB_DISABLE_SYMLINKS_WARNING` environment variable. For more details, see https://huggingface.co/docs/huggingface_hub/how-to-cache#limitations.\n",
      "To support symlinks on Windows, you either need to activate Developer Mode or to run Python as an administrator. In order to activate developer mode, see this article: https://docs.microsoft.com/en-us/windows/apps/get-started/enable-your-device-for-development\n",
      "  warnings.warn(message)\n"
     ]
    },
    {
     "data": {
      "text/plain": [
       "config_sentence_transformers.json:   0%|          | 0.00/116 [00:00<?, ?B/s]"
      ],
      "application/vnd.jupyter.widget-view+json": {
       "version_major": 2,
       "version_minor": 0,
       "model_id": "67eaead6d4a74aeb83dfb242964924f4"
      }
     },
     "metadata": {},
     "output_type": "display_data"
    },
    {
     "data": {
      "text/plain": [
       "README.md:   0%|          | 0.00/10.5k [00:00<?, ?B/s]"
      ],
      "application/vnd.jupyter.widget-view+json": {
       "version_major": 2,
       "version_minor": 0,
       "model_id": "578a1a6303bc41939a59c342bd960856"
      }
     },
     "metadata": {},
     "output_type": "display_data"
    },
    {
     "data": {
      "text/plain": [
       "sentence_bert_config.json:   0%|          | 0.00/53.0 [00:00<?, ?B/s]"
      ],
      "application/vnd.jupyter.widget-view+json": {
       "version_major": 2,
       "version_minor": 0,
       "model_id": "10159c0a0d2242e3944534737a92db1b"
      }
     },
     "metadata": {},
     "output_type": "display_data"
    },
    {
     "data": {
      "text/plain": [
       "config.json:   0%|          | 0.00/612 [00:00<?, ?B/s]"
      ],
      "application/vnd.jupyter.widget-view+json": {
       "version_major": 2,
       "version_minor": 0,
       "model_id": "49754de3479e4164ac44c39f9c437cc9"
      }
     },
     "metadata": {},
     "output_type": "display_data"
    },
    {
     "data": {
      "text/plain": [
       "model.safetensors:   0%|          | 0.00/90.9M [00:00<?, ?B/s]"
      ],
      "application/vnd.jupyter.widget-view+json": {
       "version_major": 2,
       "version_minor": 0,
       "model_id": "24f84b431ceb43fdb5c0042064c6e7d4"
      }
     },
     "metadata": {},
     "output_type": "display_data"
    },
    {
     "data": {
      "text/plain": [
       "tokenizer_config.json:   0%|          | 0.00/350 [00:00<?, ?B/s]"
      ],
      "application/vnd.jupyter.widget-view+json": {
       "version_major": 2,
       "version_minor": 0,
       "model_id": "2490d54959214cf698ec4850bc0e93db"
      }
     },
     "metadata": {},
     "output_type": "display_data"
    },
    {
     "data": {
      "text/plain": [
       "vocab.txt:   0%|          | 0.00/232k [00:00<?, ?B/s]"
      ],
      "application/vnd.jupyter.widget-view+json": {
       "version_major": 2,
       "version_minor": 0,
       "model_id": "77a2c26d46b54ea89ccb2c5b4e6e09c4"
      }
     },
     "metadata": {},
     "output_type": "display_data"
    },
    {
     "data": {
      "text/plain": [
       "tokenizer.json:   0%|          | 0.00/466k [00:00<?, ?B/s]"
      ],
      "application/vnd.jupyter.widget-view+json": {
       "version_major": 2,
       "version_minor": 0,
       "model_id": "2605278086ce451f81107fca41059f3e"
      }
     },
     "metadata": {},
     "output_type": "display_data"
    },
    {
     "data": {
      "text/plain": [
       "special_tokens_map.json:   0%|          | 0.00/112 [00:00<?, ?B/s]"
      ],
      "application/vnd.jupyter.widget-view+json": {
       "version_major": 2,
       "version_minor": 0,
       "model_id": "b41c311d19224fd4b2deba4548d20544"
      }
     },
     "metadata": {},
     "output_type": "display_data"
    },
    {
     "data": {
      "text/plain": [
       "config.json:   0%|          | 0.00/190 [00:00<?, ?B/s]"
      ],
      "application/vnd.jupyter.widget-view+json": {
       "version_major": 2,
       "version_minor": 0,
       "model_id": "8faabef0dee14569b78fc834c3dee824"
      }
     },
     "metadata": {},
     "output_type": "display_data"
    },
    {
     "data": {
      "text/plain": [
       "Batches:   0%|          | 0/242 [00:00<?, ?it/s]"
      ],
      "application/vnd.jupyter.widget-view+json": {
       "version_major": 2,
       "version_minor": 0,
       "model_id": "04a70f34fd2242ddb5fcd46534ab34e3"
      }
     },
     "metadata": {},
     "output_type": "display_data"
    }
   ],
   "execution_count": 27
  },
  {
   "metadata": {
    "ExecuteTime": {
     "end_time": "2025-05-08T09:38:01.813588Z",
     "start_time": "2025-05-08T09:38:01.804845Z"
    }
   },
   "cell_type": "code",
   "source": [
    "def get_top_cord_uids_bi_encoder(query, top_k=20):\n",
    "    query_embedding = bi_encoder.encode(query, convert_to_tensor=True)\n",
    "    \n",
    "    cos_scores = util.cos_sim(query_embedding, corpus_embeddings)[0]\n",
    "    top_results = torch.topk(cos_scores, k=top_k)\n",
    "    \n",
    "    top_cord_uids = [cord_uids[idx] for idx in top_results.indices]\n",
    "    return top_cord_uids\n"
   ],
   "outputs": [],
   "execution_count": 28
  },
  {
   "metadata": {
    "ExecuteTime": {
     "end_time": "2025-05-08T09:48:47.987983Z",
     "start_time": "2025-05-08T09:38:03.642155Z"
    }
   },
   "cell_type": "code",
   "source": [
    "tqdm.pandas()\n",
    "df_query_train['bi_topk'] = df_query_train['tweet_text'].progress_apply(lambda x: get_top_cord_uids_bi_encoder(x))\n",
    "df_query_dev['bi_topk'] = df_query_dev['tweet_text'].progress_apply(lambda x: get_top_cord_uids_bi_encoder(x))\n"
   ],
   "outputs": [
    {
     "name": "stderr",
     "output_type": "stream",
     "text": [
      "100%|██████████| 12853/12853 [09:47<00:00, 21.88it/s]\n",
      "100%|██████████| 1400/1400 [00:56<00:00, 24.57it/s]\n"
     ]
    }
   ],
   "execution_count": 29
  },
  {
   "metadata": {},
   "cell_type": "markdown",
   "source": "## 2.1.1) Evaluating the baseline bi-encoder"
  },
  {
   "metadata": {
    "ExecuteTime": {
     "end_time": "2025-05-08T09:50:00.487305Z",
     "start_time": "2025-05-08T09:50:00.469814Z"
    }
   },
   "cell_type": "code",
   "source": [
    "def get_performance_mrr(data, col_gold, col_pred, list_k = [1, 5, 10]):\n",
    "    d_performance = {}\n",
    "    for k in list_k:\n",
    "        data[\"in_topx\"] = data.apply(lambda x: (1/([i for i in x[col_pred][:k]].index(x[col_gold]) + 1) if x[col_gold] in [i for i in x[col_pred][:k]] else 0), axis=1)\n",
    "        #performances.append(data[\"in_topx\"].mean())\n",
    "        d_performance[k] = data[\"in_topx\"].mean()\n",
    "    return d_performance\n"
   ],
   "outputs": [],
   "execution_count": 30
  },
  {
   "metadata": {
    "ExecuteTime": {
     "end_time": "2025-05-08T09:50:01.925391Z",
     "start_time": "2025-05-08T09:50:01.174890Z"
    }
   },
   "cell_type": "code",
   "source": [
    "results_train = get_performance_mrr(df_query_train, 'cord_uid', 'bi_topk')\n",
    "results_dev = get_performance_mrr(df_query_dev, 'cord_uid', 'bi_topk')\n"
   ],
   "outputs": [],
   "execution_count": 31
  },
  {
   "metadata": {
    "ExecuteTime": {
     "end_time": "2025-05-08T09:50:20.754467Z",
     "start_time": "2025-05-08T09:50:20.742749Z"
    }
   },
   "cell_type": "code",
   "source": "results_train",
   "outputs": [
    {
     "data": {
      "text/plain": [
       "{1: np.float64(0.39313778884307166),\n",
       " 5: np.float64(0.46201016623875096),\n",
       " 10: np.float64(0.47126021471116003)}"
      ]
     },
     "execution_count": 32,
     "metadata": {},
     "output_type": "execute_result"
    }
   ],
   "execution_count": 32
  },
  {
   "metadata": {
    "ExecuteTime": {
     "end_time": "2025-05-08T09:50:37.489302Z",
     "start_time": "2025-05-08T09:50:37.473715Z"
    }
   },
   "cell_type": "code",
   "source": "results_dev",
   "outputs": [
    {
     "data": {
      "text/plain": [
       "{1: np.float64(0.4157142857142857),\n",
       " 5: np.float64(0.48966666666666664),\n",
       " 10: np.float64(0.4993826530612245)}"
      ]
     },
     "execution_count": 33,
     "metadata": {},
     "output_type": "execute_result"
    }
   ],
   "execution_count": 33
  },
  {
   "cell_type": "markdown",
   "metadata": {
    "id": "jr_BDzufPmmP"
   },
   "source": [
    "# 2.2) Importing BM-25 baseline\n",
    "The following code runs a BM25 baseline.\n"
   ]
  },
  {
   "cell_type": "code",
   "metadata": {
    "executionInfo": {
     "elapsed": 1414,
     "status": "ok",
     "timestamp": 1742976047296,
     "user": {
      "displayName": "Yavuz",
      "userId": "01318046262282431930"
     },
     "user_tz": -60
    },
    "id": "jXCC7K_ZPQL2",
    "ExecuteTime": {
     "end_time": "2025-05-08T09:59:58.393558Z",
     "start_time": "2025-05-08T09:59:56.681935Z"
    }
   },
   "source": [
    "# Create the BM25 corpus\n",
    "corpus = df_collection[:][['title', 'abstract']].apply(lambda x: f\"{x['title']} {x['abstract']}\", axis=1).tolist()\n",
    "cord_uids = df_collection[:]['cord_uid'].tolist()\n",
    "tokenized_corpus = [doc.split(' ') for doc in corpus]\n",
    "bm25 = BM25Okapi(tokenized_corpus)"
   ],
   "outputs": [],
   "execution_count": 35
  },
  {
   "cell_type": "markdown",
   "metadata": {},
   "source": [
    "**Note:** After several attempts, we noticed that the top_k with k=20 receives the best results"
   ]
  },
  {
   "cell_type": "code",
   "metadata": {
    "executionInfo": {
     "elapsed": 6,
     "status": "ok",
     "timestamp": 1742976047304,
     "user": {
      "displayName": "Yavuz",
      "userId": "01318046262282431930"
     },
     "user_tz": -60
    },
    "id": "e8NeJWGYPQZG",
    "ExecuteTime": {
     "end_time": "2025-05-08T08:58:39.722722Z",
     "start_time": "2025-05-08T08:58:39.710671Z"
    }
   },
   "source": [
    "def get_top_cord_uids(query):\n",
    "  text2bm25top = {}\n",
    "  if query in text2bm25top.keys():\n",
    "      return text2bm25top[query]\n",
    "  else:\n",
    "      tokenized_query = query.split(' ')\n",
    "      doc_scores = bm25.get_scores(tokenized_query)\n",
    "      indices = np.argsort(-doc_scores)[:20]\n",
    "      bm25_topk = [cord_uids[x] for x in indices]\n",
    "\n",
    "      text2bm25top[query] = bm25_topk\n",
    "      return bm25_topk\n"
   ],
   "outputs": [],
   "execution_count": 14
  },
  {
   "cell_type": "code",
   "metadata": {
    "id": "Fk4-BqEtTgUj",
    "ExecuteTime": {
     "end_time": "2025-05-08T10:28:40.466593Z",
     "start_time": "2025-05-08T10:00:08.129415Z"
    }
   },
   "source": [
    "# Retrieve topk candidates using the BM25 model\n",
    "tqdm.pandas()\n",
    "df_query_train['bm25_topk'] = df_query_train['tweet_text'].progress_apply(lambda x: get_top_cord_uids(x))\n",
    "df_query_dev['bm25_topk'] = df_query_dev['tweet_text'].progress_apply(lambda x: get_top_cord_uids(x))"
   ],
   "outputs": [
    {
     "name": "stderr",
     "output_type": "stream",
     "text": [
      "100%|██████████| 12853/12853 [25:22<00:00,  8.44it/s]\n",
      "100%|██████████| 1400/1400 [03:09<00:00,  7.37it/s]\n"
     ]
    }
   ],
   "execution_count": 36
  },
  {
   "cell_type": "code",
   "metadata": {
    "ExecuteTime": {
     "end_time": "2025-05-08T10:28:40.580247Z",
     "start_time": "2025-05-08T10:28:40.558646Z"
    }
   },
   "source": [
    "df_query_train['bm25_topk'][1]"
   ],
   "outputs": [
    {
     "data": {
      "text/plain": [
       "['2cwvga0k',\n",
       " '33znyrn8',\n",
       " 'st3fyb64',\n",
       " '74dw6emg',\n",
       " 'b68c8qwm',\n",
       " '7xt894vr',\n",
       " 'q1mq5f2t',\n",
       " 'f3eogz0n',\n",
       " 'xua4f77e',\n",
       " '4vkkaqhz',\n",
       " 'gg5c8v7d',\n",
       " 'yj652emy',\n",
       " 'eoumpu50',\n",
       " 'moe0bi1g',\n",
       " '29z4q4fs',\n",
       " 'pva0xii7',\n",
       " 'ksveiiid',\n",
       " 'usi65ft4',\n",
       " 'fm8koqjd',\n",
       " 'zpqgz95r']"
      ]
     },
     "execution_count": 37,
     "metadata": {},
     "output_type": "execute_result"
    }
   ],
   "execution_count": 37
  },
  {
   "cell_type": "markdown",
   "metadata": {
    "id": "QVKBlTCZUMSc"
   },
   "source": [
    "## 2.2.1) Evaluating the baseline\n",
    "The following code evaluates the BM25 retrieval baseline on the query set using the Mean Reciprocal Rank score (MRR@5)."
   ]
  },
  {
   "cell_type": "code",
   "execution_count": 30,
   "metadata": {
    "executionInfo": {
     "elapsed": 3,
     "status": "ok",
     "timestamp": 1742976555898,
     "user": {
      "displayName": "Yavuz",
      "userId": "01318046262282431930"
     },
     "user_tz": -60
    },
    "id": "c-vdGWXXTgjZ"
   },
   "outputs": [],
   "source": [
    "# Evaluate retrieved candidates using MRR@k\n",
    "def get_performance_mrr(data, col_gold, col_pred, list_k = [1, 5, 10]):\n",
    "    d_performance = {}\n",
    "    for k in list_k:\n",
    "        data[\"in_topx\"] = data.apply(lambda x: (1/([i for i in x[col_pred][:k]].index(x[col_gold]) + 1) if x[col_gold] in [i for i in x[col_pred][:k]] else 0), axis=1)\n",
    "        #performances.append(data[\"in_topx\"].mean())\n",
    "        d_performance[k] = data[\"in_topx\"].mean()\n",
    "    return d_performance\n"
   ]
  },
  {
   "cell_type": "code",
   "execution_count": 31,
   "metadata": {
    "colab": {
     "base_uri": "https://localhost:8080/"
    },
    "executionInfo": {
     "elapsed": 44,
     "status": "ok",
     "timestamp": 1742976568622,
     "user": {
      "displayName": "Yavuz",
      "userId": "01318046262282431930"
     },
     "user_tz": -60
    },
    "id": "xLX9SMg5USkH",
    "outputId": "7c414679-6486-4e08-dffe-23d8cffbddf0"
   },
   "outputs": [
    {
     "name": "stdout",
     "output_type": "stream",
     "text": [
      "Results on the train set: {1: np.float64(0.5081303975725512), 5: np.float64(0.5509777224513084), 10: np.float64(0.5559614579512658)}\n",
      "Results on the dev set: {1: np.float64(0.505), 5: np.float64(0.5519166666666666), 10: np.float64(0.5573010204081632)}\n"
     ]
    }
   ],
   "source": [
    "results_train = get_performance_mrr(df_query_train, 'cord_uid', 'bm25_topk')\n",
    "results_dev = get_performance_mrr(df_query_dev, 'cord_uid', 'bm25_topk')\n",
    "# Printed MRR@k results in the following format: {k: MRR@k}\n",
    "print(f\"Results on the train set: {results_train}\")\n",
    "print(f\"Results on the dev set: {results_dev}\")"
   ]
  },
  {
   "cell_type": "markdown",
   "metadata": {
    "id": "RazcRTV84KQC"
   },
   "source": "# 2.3) Exporting results to prepare the submission on Codalab"
  },
  {
   "cell_type": "code",
   "execution_count": 32,
   "metadata": {
    "executionInfo": {
     "elapsed": 39,
     "status": "ok",
     "timestamp": 1742976603546,
     "user": {
      "displayName": "Yavuz",
      "userId": "01318046262282431930"
     },
     "user_tz": -60
    },
    "id": "DFng4ocDw3Hk"
   },
   "outputs": [],
   "source": [
    "df_query_dev['preds'] = df_query_dev['bm25_topk'].apply(lambda x: x[:5])"
   ]
  },
  {
   "cell_type": "code",
   "execution_count": 57,
   "metadata": {
    "executionInfo": {
     "elapsed": 13,
     "status": "ok",
     "timestamp": 1742976608184,
     "user": {
      "displayName": "Yavuz",
      "userId": "01318046262282431930"
     },
     "user_tz": -60
    },
    "id": "nAVBQYh_xP8O"
   },
   "outputs": [],
   "source": [
    "df_query_dev[['post_id', 'preds']].to_csv('predictions_baseline.tsv', index=None, sep='\\t')"
   ]
  },
  {
   "cell_type": "code",
   "execution_count": 34,
   "metadata": {
    "id": "opGI1H1h4Og5"
   },
   "outputs": [
    {
     "data": {
      "text/html": [
       "<div>\n",
       "<style scoped>\n",
       "    .dataframe tbody tr th:only-of-type {\n",
       "        vertical-align: middle;\n",
       "    }\n",
       "\n",
       "    .dataframe tbody tr th {\n",
       "        vertical-align: top;\n",
       "    }\n",
       "\n",
       "    .dataframe thead th {\n",
       "        text-align: right;\n",
       "    }\n",
       "</style>\n",
       "<table border=\"1\" class=\"dataframe\">\n",
       "  <thead>\n",
       "    <tr style=\"text-align: right;\">\n",
       "      <th></th>\n",
       "      <th>post_id</th>\n",
       "      <th>tweet_text</th>\n",
       "      <th>cord_uid</th>\n",
       "      <th>hybrid_cross_encoder_topk</th>\n",
       "      <th>cross_encoder_topk</th>\n",
       "      <th>hybrid_topk</th>\n",
       "      <th>bm25_topk</th>\n",
       "      <th>in_topx</th>\n",
       "      <th>preds</th>\n",
       "    </tr>\n",
       "  </thead>\n",
       "  <tbody>\n",
       "    <tr>\n",
       "      <th>0</th>\n",
       "      <td>16</td>\n",
       "      <td>covid recovery: this study from the usa reveal...</td>\n",
       "      <td>3qvh482o</td>\n",
       "      <td>None</td>\n",
       "      <td>None</td>\n",
       "      <td>None</td>\n",
       "      <td>[25aj8rj5, gatxuwz7, 59up4v56, styavbvi, 6sy80...</td>\n",
       "      <td>0.000000</td>\n",
       "      <td>[25aj8rj5, gatxuwz7, 59up4v56, styavbvi, 6sy80...</td>\n",
       "    </tr>\n",
       "    <tr>\n",
       "      <th>1</th>\n",
       "      <td>69</td>\n",
       "      <td>\"Among 139 clients exposed to two symptomatic ...</td>\n",
       "      <td>r58aohnu</td>\n",
       "      <td>None</td>\n",
       "      <td>None</td>\n",
       "      <td>None</td>\n",
       "      <td>[r58aohnu, p0kg6dyz, 9dlaaye8, iu1d9i57, d06np...</td>\n",
       "      <td>1.000000</td>\n",
       "      <td>[r58aohnu, p0kg6dyz, 9dlaaye8, iu1d9i57, d06np...</td>\n",
       "    </tr>\n",
       "    <tr>\n",
       "      <th>2</th>\n",
       "      <td>73</td>\n",
       "      <td>I recall early on reading that researchers who...</td>\n",
       "      <td>sts48u9i</td>\n",
       "      <td>None</td>\n",
       "      <td>None</td>\n",
       "      <td>None</td>\n",
       "      <td>[tz2shoso, o877uul1, m1sf159a, sgo76prc, gruir...</td>\n",
       "      <td>0.166667</td>\n",
       "      <td>[tz2shoso, o877uul1, m1sf159a, sgo76prc, gruir...</td>\n",
       "    </tr>\n",
       "    <tr>\n",
       "      <th>3</th>\n",
       "      <td>93</td>\n",
       "      <td>You know you're credible when NIH website has ...</td>\n",
       "      <td>3sr2exq9</td>\n",
       "      <td>None</td>\n",
       "      <td>None</td>\n",
       "      <td>None</td>\n",
       "      <td>[3sr2exq9, hgpiig0g, sv48gjkk, k0f4cwig, ihgxt...</td>\n",
       "      <td>1.000000</td>\n",
       "      <td>[3sr2exq9, hgpiig0g, sv48gjkk, k0f4cwig, ihgxt...</td>\n",
       "    </tr>\n",
       "    <tr>\n",
       "      <th>4</th>\n",
       "      <td>96</td>\n",
       "      <td>Resistance to antifungal medications is a grow...</td>\n",
       "      <td>ybwwmyqy</td>\n",
       "      <td>None</td>\n",
       "      <td>None</td>\n",
       "      <td>None</td>\n",
       "      <td>[lzddnb8j, ouvq2wpq, sxx3yid9, vabb2f26, y9fqa...</td>\n",
       "      <td>0.125000</td>\n",
       "      <td>[lzddnb8j, ouvq2wpq, sxx3yid9, vabb2f26, y9fqa...</td>\n",
       "    </tr>\n",
       "  </tbody>\n",
       "</table>\n",
       "</div>"
      ],
      "text/plain": [
       "   post_id                                         tweet_text  cord_uid  \\\n",
       "0       16  covid recovery: this study from the usa reveal...  3qvh482o   \n",
       "1       69  \"Among 139 clients exposed to two symptomatic ...  r58aohnu   \n",
       "2       73  I recall early on reading that researchers who...  sts48u9i   \n",
       "3       93  You know you're credible when NIH website has ...  3sr2exq9   \n",
       "4       96  Resistance to antifungal medications is a grow...  ybwwmyqy   \n",
       "\n",
       "  hybrid_cross_encoder_topk cross_encoder_topk hybrid_topk  \\\n",
       "0                      None               None        None   \n",
       "1                      None               None        None   \n",
       "2                      None               None        None   \n",
       "3                      None               None        None   \n",
       "4                      None               None        None   \n",
       "\n",
       "                                           bm25_topk   in_topx  \\\n",
       "0  [25aj8rj5, gatxuwz7, 59up4v56, styavbvi, 6sy80...  0.000000   \n",
       "1  [r58aohnu, p0kg6dyz, 9dlaaye8, iu1d9i57, d06np...  1.000000   \n",
       "2  [tz2shoso, o877uul1, m1sf159a, sgo76prc, gruir...  0.166667   \n",
       "3  [3sr2exq9, hgpiig0g, sv48gjkk, k0f4cwig, ihgxt...  1.000000   \n",
       "4  [lzddnb8j, ouvq2wpq, sxx3yid9, vabb2f26, y9fqa...  0.125000   \n",
       "\n",
       "                                               preds  \n",
       "0  [25aj8rj5, gatxuwz7, 59up4v56, styavbvi, 6sy80...  \n",
       "1  [r58aohnu, p0kg6dyz, 9dlaaye8, iu1d9i57, d06np...  \n",
       "2  [tz2shoso, o877uul1, m1sf159a, sgo76prc, gruir...  \n",
       "3  [3sr2exq9, hgpiig0g, sv48gjkk, k0f4cwig, ihgxt...  \n",
       "4  [lzddnb8j, ouvq2wpq, sxx3yid9, vabb2f26, y9fqa...  "
      ]
     },
     "execution_count": 34,
     "metadata": {},
     "output_type": "execute_result"
    }
   ],
   "source": [
    "df_query_dev.head()"
   ]
  },
  {
   "cell_type": "code",
   "execution_count": 35,
   "metadata": {},
   "outputs": [
    {
     "data": {
      "text/html": [
       "<div>\n",
       "<style scoped>\n",
       "    .dataframe tbody tr th:only-of-type {\n",
       "        vertical-align: middle;\n",
       "    }\n",
       "\n",
       "    .dataframe tbody tr th {\n",
       "        vertical-align: top;\n",
       "    }\n",
       "\n",
       "    .dataframe thead th {\n",
       "        text-align: right;\n",
       "    }\n",
       "</style>\n",
       "<table border=\"1\" class=\"dataframe\">\n",
       "  <thead>\n",
       "    <tr style=\"text-align: right;\">\n",
       "      <th></th>\n",
       "      <th>post_id</th>\n",
       "      <th>tweet_text</th>\n",
       "      <th>cord_uid</th>\n",
       "      <th>hybrid_topk</th>\n",
       "      <th>bm25_topk</th>\n",
       "      <th>in_topx</th>\n",
       "    </tr>\n",
       "  </thead>\n",
       "  <tbody>\n",
       "    <tr>\n",
       "      <th>0</th>\n",
       "      <td>0</td>\n",
       "      <td>Oral care in rehabilitation medicine: oral vul...</td>\n",
       "      <td>htlvpvz5</td>\n",
       "      <td>None</td>\n",
       "      <td>[htlvpvz5, h7hj64q5, rwgqkow3, dbgtslc8, am11y...</td>\n",
       "      <td>1.000000</td>\n",
       "    </tr>\n",
       "    <tr>\n",
       "      <th>1</th>\n",
       "      <td>1</td>\n",
       "      <td>this study isn't receiving sufficient attentio...</td>\n",
       "      <td>4kfl29ul</td>\n",
       "      <td>None</td>\n",
       "      <td>[2cwvga0k, 33znyrn8, st3fyb64, 74dw6emg, b68c8...</td>\n",
       "      <td>0.000000</td>\n",
       "    </tr>\n",
       "    <tr>\n",
       "      <th>2</th>\n",
       "      <td>2</td>\n",
       "      <td>thanks, xi jinping. a reminder that this study...</td>\n",
       "      <td>jtwb17u8</td>\n",
       "      <td>None</td>\n",
       "      <td>[8hkxbxz9, w98847ai, jtwb17u8, iy1enazk, pg0l9...</td>\n",
       "      <td>0.333333</td>\n",
       "    </tr>\n",
       "    <tr>\n",
       "      <th>3</th>\n",
       "      <td>3</td>\n",
       "      <td>Taiwan - a population of 23 million has had ju...</td>\n",
       "      <td>0w9k8iy1</td>\n",
       "      <td>None</td>\n",
       "      <td>[32ua8wb6, zxe95qy9, 30pl5tx3, l4y7v729, b97ac...</td>\n",
       "      <td>0.000000</td>\n",
       "    </tr>\n",
       "    <tr>\n",
       "      <th>4</th>\n",
       "      <td>4</td>\n",
       "      <td>Obtaining a diagnosis of autism in lower incom...</td>\n",
       "      <td>tiqksd69</td>\n",
       "      <td>None</td>\n",
       "      <td>[tiqksd69, k7smwz6w, b0dzhsrh, yc7cvbii, iiafu...</td>\n",
       "      <td>1.000000</td>\n",
       "    </tr>\n",
       "  </tbody>\n",
       "</table>\n",
       "</div>"
      ],
      "text/plain": [
       "   post_id                                         tweet_text  cord_uid  \\\n",
       "0        0  Oral care in rehabilitation medicine: oral vul...  htlvpvz5   \n",
       "1        1  this study isn't receiving sufficient attentio...  4kfl29ul   \n",
       "2        2  thanks, xi jinping. a reminder that this study...  jtwb17u8   \n",
       "3        3  Taiwan - a population of 23 million has had ju...  0w9k8iy1   \n",
       "4        4  Obtaining a diagnosis of autism in lower incom...  tiqksd69   \n",
       "\n",
       "  hybrid_topk                                          bm25_topk   in_topx  \n",
       "0        None  [htlvpvz5, h7hj64q5, rwgqkow3, dbgtslc8, am11y...  1.000000  \n",
       "1        None  [2cwvga0k, 33znyrn8, st3fyb64, 74dw6emg, b68c8...  0.000000  \n",
       "2        None  [8hkxbxz9, w98847ai, jtwb17u8, iy1enazk, pg0l9...  0.333333  \n",
       "3        None  [32ua8wb6, zxe95qy9, 30pl5tx3, l4y7v729, b97ac...  0.000000  \n",
       "4        None  [tiqksd69, k7smwz6w, b0dzhsrh, yc7cvbii, iiafu...  1.000000  "
      ]
     },
     "execution_count": 35,
     "metadata": {},
     "output_type": "execute_result"
    }
   ],
   "source": [
    "df_query_train.head()"
   ]
  },
  {
   "cell_type": "markdown",
   "metadata": {},
   "source": "## 3) Re-ranking approach"
  },
  {
   "cell_type": "code",
   "execution_count": 36,
   "metadata": {},
   "outputs": [
    {
     "name": "stderr",
     "output_type": "stream",
     "text": [
      "100%|██████████| 1400/1400 [02:49<00:00,  8.25it/s]"
     ]
    },
    {
     "name": "stdout",
     "output_type": "stream",
     "text": [
      "   cord_uid                                 cross_encoder_topk\n",
      "0  3qvh482o  [o4vvlmr4, hg3xpej0, 25aj8rj5, 59up4v56, bqn29...\n",
      "1  r58aohnu  [r58aohnu, tu1vevx9, yrowv62k, mcmqx7og, zd8c1...\n",
      "2  sts48u9i  [osct0lj6, o47v5vgw, sts48u9i, gruir7aw, o877u...\n",
      "3  3sr2exq9  [kdegnr6i, 3sr2exq9, k0f4cwig, sv48gjkk, z795y...\n",
      "4  ybwwmyqy  [ybwwmyqy, vabb2f26, ouvq2wpq, sxx3yid9, lzddn...\n"
     ]
    },
    {
     "name": "stderr",
     "output_type": "stream",
     "text": [
      "\n"
     ]
    }
   ],
   "source": [
    "# Initialize Cross-Encoder once\n",
    "cross_encoder = CrossEncoder('cross-encoder/ms-marco-TinyBERT-L2-v2', max_length=512)\n",
    "\n",
    "def rank_chunks_with_cross_encoder(query, retrieved_chunks, top_k=5):\n",
    "    \"\"\"\n",
    "    Rank the retrieved chunks based on their relevance to the query using a Cross-Encoder.\n",
    "    \"\"\"\n",
    "    query_chunk_pairs = [[query, chunk] for chunk in retrieved_chunks]\n",
    "    scores = cross_encoder.predict(query_chunk_pairs)\n",
    "    ranked_chunks = sorted(zip(retrieved_chunks, scores), key=lambda x: x[1], reverse=True)\n",
    "    return ranked_chunks[:top_k]\n",
    "\n",
    "# Initialize new column\n",
    "df_query_dev[\"cross_encoder_topk\"] = None\n",
    "\n",
    "# Loop over the rows to fill in reranked results\n",
    "for idx, row in tqdm(df_query_dev.iterrows(), total=len(df_query_dev)):\n",
    "    query_text = row[\"tweet_text\"]\n",
    "    topk_ids = row[\"bm25_topk\"]\n",
    "\n",
    "    chunk_to_uid = {}\n",
    "    for uid in topk_ids:\n",
    "        paper_row = df_collection.loc[df_collection[\"cord_uid\"] == uid]\n",
    "        if paper_row.empty:\n",
    "            continue\n",
    "\n",
    "        title = paper_row[\"title\"].values[0] or \"\"\n",
    "        abstract = paper_row[\"abstract\"].values[0] or \"\"\n",
    "        full_text = f\"{title.strip()}\\n{abstract.strip()}\"\n",
    "        chunk_to_uid[full_text] = uid\n",
    "\n",
    "    reranked_chunks = rank_chunks_with_cross_encoder(query_text, list(chunk_to_uid.keys()))\n",
    "    reranked_uids = [chunk_to_uid[chunk] for chunk, _ in reranked_chunks]\n",
    "\n",
    "    # Assign directly to the dataframe\n",
    "    df_query_dev.at[idx, \"cross_encoder_topk\"] = reranked_uids\n",
    "\n",
    "# Preview result\n",
    "print(df_query_dev[[\"cord_uid\", \"cross_encoder_topk\"]].head())\n",
    "\n"
   ]
  },
  {
   "cell_type": "code",
   "execution_count": 37,
   "metadata": {},
   "outputs": [
    {
     "name": "stdout",
     "output_type": "stream",
     "text": [
      "Results on the reranked set: {1: np.float64(0.55), 5: np.float64(0.5952857142857143), 10: np.float64(0.5952857142857143)}\n"
     ]
    }
   ],
   "source": [
    "results_reranked = get_performance_mrr(df_query_dev, 'cord_uid', 'cross_encoder_topk')\n",
    "print(f\"Results on the reranked set: {results_reranked}\")"
   ]
  },
  {
   "metadata": {},
   "cell_type": "markdown",
   "source": "# 4) New approach"
  },
  {
   "cell_type": "markdown",
   "metadata": {},
   "source": "## 4.1) Use hybrid approach as baseline"
  },
  {
   "cell_type": "code",
   "metadata": {
    "ExecuteTime": {
     "end_time": "2025-05-08T10:32:22.507218Z",
     "start_time": "2025-05-08T10:29:06.596677Z"
    }
   },
   "source": [
    "corpus = df_collection.progress_apply(lambda x: f\"{x['title']} {x['abstract']}\", axis=1).tolist()\n",
    "cord_uids = df_collection['cord_uid'].tolist()\n",
    "\n",
    "# Encode corpus once\n",
    "bi_encoder = SentenceTransformer(\"all-MiniLM-L6-v2\")\n",
    "corpus_embeddings = bi_encoder.encode(corpus, convert_to_tensor=True)\n",
    "\n",
    "def hybrid_retrieve(query, bm25, corpus_embeddings, cord_uids, top_k=20):\n",
    "    # Step 1: Get BM25 scores\n",
    "    bm25_scores = bm25.get_scores(query.split())  # shape: (N,)\n",
    "\n",
    "    # Step 2: Get dense (bi-encoder) similarity scores\n",
    "    query_embedding = bi_encoder.encode(query, convert_to_tensor=True)\n",
    "    dense_scores = util.cos_sim(query_embedding, corpus_embeddings)[0].cpu().numpy()  # shape: (N,)\n",
    "\n",
    "    # Step 3: Normalize both score types\n",
    "    scaler = MinMaxScaler()\n",
    "    combined_scores = scaler.fit_transform(np.vstack([bm25_scores, dense_scores]).T)  # shape: (N, 2)\n",
    "    hybrid_scores = combined_scores.sum(axis=1)  # shape: (N,)\n",
    "\n",
    "    # Step 4: Get top-k documents based on hybrid score\n",
    "    top_indices = np.argsort(-hybrid_scores)[:top_k]\n",
    "    top_docs = [cord_uids[i] for i in top_indices]\n",
    "\n",
    "    return top_docs"
   ],
   "outputs": [
    {
     "name": "stderr",
     "output_type": "stream",
     "text": [
      "100%|██████████| 7718/7718 [00:00<00:00, 67645.96it/s]\n"
     ]
    }
   ],
   "execution_count": 39
  },
  {
   "cell_type": "code",
   "metadata": {
    "ExecuteTime": {
     "end_time": "2025-05-08T10:38:04.923641Z",
     "start_time": "2025-05-08T10:32:22.565621Z"
    }
   },
   "source": [
    "df_query_dev[\"hybrid_topk\"] = None\n",
    "\n",
    "# Apply hybrid retrieval to each row\n",
    "for idx, row in tqdm(df_query_dev.iterrows(), total=len(df_query_dev)):\n",
    "    query_text = row[\"tweet_text\"]\n",
    "    top_docs = hybrid_retrieve(query_text, bm25, corpus_embeddings, cord_uids, top_k=20)\n",
    "    df_query_dev.at[idx, \"hybrid_topk\"] = top_docs"
   ],
   "outputs": [
    {
     "name": "stderr",
     "output_type": "stream",
     "text": [
      "100%|██████████| 1400/1400 [05:42<00:00,  4.09it/s]\n"
     ]
    }
   ],
   "execution_count": 40
  },
  {
   "cell_type": "code",
   "metadata": {
    "ExecuteTime": {
     "end_time": "2025-05-08T10:38:04.980559Z",
     "start_time": "2025-05-08T10:38:04.967563Z"
    }
   },
   "source": [
    "df_query_dev[\"hybrid_topk\"]"
   ],
   "outputs": [
    {
     "data": {
      "text/plain": [
       "0       [25aj8rj5, styavbvi, jrqlhjsm, hg3xpej0, o4vvl...\n",
       "1       [r58aohnu, yrowv62k, d06npvro, mcmqx7og, mz1bo...\n",
       "2       [sts48u9i, 8m59whf9, gruir7aw, qkg8fwbp, osct0...\n",
       "3       [3sr2exq9, k0f4cwig, z795y51f, sv48gjkk, 4fzzo...\n",
       "4       [ybwwmyqy, lzddnb8j, vabb2f26, ouvq2wpq, sxx3y...\n",
       "                              ...                        \n",
       "1395    [0gn3b98n, 0e97tdez, soa71kwx, d8x3b9a3, n5sei...\n",
       "1396    [92z77upt, s1qnjgev, 763v4duh, 64ugdvfe, q10pv...\n",
       "1397    [qn6wawxk, 059oj76m, rtus1qyw, wrsk5vh9, t8jli...\n",
       "1398    [47p4g80o, 2tax8ajw, rfv0omd6, unl3n0tn, wt6az...\n",
       "1399    [nih4l4ok, w4dyadpa, dfhxcqr8, p82l6d9a, msut5...\n",
       "Name: hybrid_topk, Length: 1400, dtype: object"
      ]
     },
     "execution_count": 41,
     "metadata": {},
     "output_type": "execute_result"
    }
   ],
   "execution_count": 41
  },
  {
   "cell_type": "code",
   "metadata": {
    "ExecuteTime": {
     "end_time": "2025-05-08T10:38:05.111540Z",
     "start_time": "2025-05-08T10:38:05.049755Z"
    }
   },
   "source": [
    "results_reranked = get_performance_mrr(df_query_dev, 'cord_uid', 'hybrid_topk')\n",
    "print(f\"Results on the hybrid set: {results_reranked}\")"
   ],
   "outputs": [
    {
     "name": "stdout",
     "output_type": "stream",
     "text": [
      "Results on the hybrid set: {1: np.float64(0.57), 5: np.float64(0.6207261904761905), 10: np.float64(0.6278222789115646)}\n"
     ]
    }
   ],
   "execution_count": 42
  },
  {
   "cell_type": "markdown",
   "metadata": {},
   "source": [
    "## 4.2) Rerank hybrid approach\n",
    "Here, we make use of the ms-marco model again to re-rank and find out if we can improve our results by the hybrid approach"
   ]
  },
  {
   "cell_type": "code",
   "metadata": {
    "ExecuteTime": {
     "end_time": "2025-05-08T11:17:14.606675Z",
     "start_time": "2025-05-08T10:38:05.264494Z"
    }
   },
   "source": [
    "# Initialize Cross-Encoder once\n",
    "\n",
    "cross_encoder = CrossEncoder('cross-encoder/ms-marco-TinyBERT-L2-v2', max_length=512)\n",
    "#cross_encoder = CrossEncoder('cross-encoder/ms-marco-MiniLM-L6-v2', max_length=512)\n",
    "\n",
    "def rank_chunks_with_cross_encoder(query, retrieved_chunks, top_k=5):\n",
    "    \"\"\"\n",
    "    Rank the retrieved chunks based on their relevance to the query using a Cross-Encoder.\n",
    "    \"\"\"\n",
    "    query_chunk_pairs = [[query, chunk] for chunk in retrieved_chunks]\n",
    "    scores = cross_encoder.predict(query_chunk_pairs)\n",
    "    ranked_chunks = sorted(zip(retrieved_chunks, scores), key=lambda x: x[1], reverse=True)\n",
    "    return ranked_chunks[:top_k]\n",
    "\n",
    "# Initialize new column\n",
    "df_query_dev[\"hybrid_cross_encoder_topk\"] = None\n",
    "\n",
    "# Loop over the rows to fill in reranked results\n",
    "for idx, row in tqdm(df_query_dev.iterrows(), total=len(df_query_dev)):\n",
    "    query_text = row[\"tweet_text\"]\n",
    "    topk_ids = row[\"hybrid_topk\"]\n",
    "\n",
    "    chunk_to_uid = {}\n",
    "    for uid in topk_ids:\n",
    "        paper_row = df_collection.loc[df_collection[\"cord_uid\"] == uid]\n",
    "        if paper_row.empty:\n",
    "            continue\n",
    "\n",
    "        title = paper_row[\"title\"].values[0] or \"\"\n",
    "        abstract = paper_row[\"abstract\"].values[0] or \"\"\n",
    "        full_text = f\"{title.strip()}\\n{abstract.strip()}\"\n",
    "        chunk_to_uid[full_text] = uid\n",
    "\n",
    "    reranked_chunks = rank_chunks_with_cross_encoder(query_text, list(chunk_to_uid.keys()))\n",
    "    reranked_uids = [chunk_to_uid[chunk] for chunk, _ in reranked_chunks]\n",
    "\n",
    "    # Assign directly to the dataframe\n",
    "    df_query_dev.at[idx, \"hybrid_cross_encoder_topk\"] = reranked_uids\n",
    "\n",
    "# Preview result\n",
    "print(df_query_dev[[\"cord_uid\", \"hybrid_cross_encoder_topk\"]].head())"
   ],
   "outputs": [
    {
     "name": "stderr",
     "output_type": "stream",
     "text": [
      "100%|██████████| 1400/1400 [39:08<00:00,  1.68s/it]"
     ]
    },
    {
     "name": "stdout",
     "output_type": "stream",
     "text": [
      "   cord_uid                          hybrid_cross_encoder_topk\n",
      "0  3qvh482o  [nksd3wuw, 59up4v56, 3qvh482o, jrqlhjsm, mb18f...\n",
      "1  r58aohnu  [r58aohnu, yrowv62k, icgsbelo, wk61uyrt, kiq6x...\n",
      "2  sts48u9i  [sts48u9i, gruir7aw, o47v5vgw, osct0lj6, u5nxm...\n",
      "3  3sr2exq9  [kc3nb2pc, k0f4cwig, 3sr2exq9, wbw7gbfv, 9mdf9...\n",
      "4  ybwwmyqy  [ybwwmyqy, lzddnb8j, vabb2f26, 3l6ipiwk, ouvq2...\n"
     ]
    },
    {
     "name": "stderr",
     "output_type": "stream",
     "text": [
      "\n"
     ]
    }
   ],
   "execution_count": 43
  },
  {
   "cell_type": "code",
   "execution_count": 46,
   "metadata": {},
   "outputs": [
    {
     "name": "stdout",
     "output_type": "stream",
     "text": [
      "Results on the hybrid reranked set: {1: np.float64(0.5657142857142857), 5: np.float64(0.6185119047619048), 10: np.float64(0.6185119047619048)}\n"
     ]
    }
   ],
   "source": [
    "results_reranked = get_performance_mrr(df_query_dev, 'cord_uid', 'hybrid_cross_encoder_topk')\n",
    "print(f\"Results on the hybrid reranked set: {results_reranked}\")"
   ]
  },
  {
   "cell_type": "markdown",
   "metadata": {},
   "source": [
    "Unfortunately, we can not see any further improvements"
   ]
  },
  {
   "cell_type": "markdown",
   "metadata": {},
   "source": "# 4.3) Exporting hybrid approach on dev dataframe for submission on Codalab"
  },
  {
   "cell_type": "code",
   "execution_count": 47,
   "metadata": {},
   "outputs": [],
   "source": [
    "df_query_dev['preds'] = df_query_dev['hybrid_topk'].apply(lambda x: x[:5])"
   ]
  },
  {
   "cell_type": "code",
   "execution_count": 48,
   "metadata": {},
   "outputs": [],
   "source": [
    "df_query_dev[['post_id', 'preds']].to_csv('predictions.tsv', index=None, sep='\\t')"
   ]
  },
  {
   "cell_type": "code",
   "execution_count": 49,
   "metadata": {},
   "outputs": [
    {
     "data": {
      "text/html": [
       "<div>\n",
       "<style scoped>\n",
       "    .dataframe tbody tr th:only-of-type {\n",
       "        vertical-align: middle;\n",
       "    }\n",
       "\n",
       "    .dataframe tbody tr th {\n",
       "        vertical-align: top;\n",
       "    }\n",
       "\n",
       "    .dataframe thead th {\n",
       "        text-align: right;\n",
       "    }\n",
       "</style>\n",
       "<table border=\"1\" class=\"dataframe\">\n",
       "  <thead>\n",
       "    <tr style=\"text-align: right;\">\n",
       "      <th></th>\n",
       "      <th>post_id</th>\n",
       "      <th>tweet_text</th>\n",
       "      <th>cord_uid</th>\n",
       "      <th>hybrid_cross_encoder_topk</th>\n",
       "      <th>cross_encoder_topk</th>\n",
       "      <th>hybrid_topk</th>\n",
       "      <th>bm25_topk</th>\n",
       "      <th>in_topx</th>\n",
       "      <th>preds</th>\n",
       "    </tr>\n",
       "  </thead>\n",
       "  <tbody>\n",
       "    <tr>\n",
       "      <th>0</th>\n",
       "      <td>16</td>\n",
       "      <td>covid recovery: this study from the usa reveal...</td>\n",
       "      <td>3qvh482o</td>\n",
       "      <td>[nksd3wuw, o4vvlmr4, jrqlhjsm, 8t2tic9n, hg3xp...</td>\n",
       "      <td>[o4vvlmr4, hg3xpej0, 25aj8rj5, 59up4v56, bqn29...</td>\n",
       "      <td>[25aj8rj5, styavbvi, jrqlhjsm, hg3xpej0, o4vvl...</td>\n",
       "      <td>[25aj8rj5, gatxuwz7, 59up4v56, styavbvi, 6sy80...</td>\n",
       "      <td>0.0</td>\n",
       "      <td>[25aj8rj5, styavbvi, jrqlhjsm, hg3xpej0, o4vvl...</td>\n",
       "    </tr>\n",
       "    <tr>\n",
       "      <th>1</th>\n",
       "      <td>69</td>\n",
       "      <td>\"Among 139 clients exposed to two symptomatic ...</td>\n",
       "      <td>r58aohnu</td>\n",
       "      <td>[r58aohnu, wk61uyrt, icgsbelo, tu1vevx9, kiq6x...</td>\n",
       "      <td>[r58aohnu, tu1vevx9, yrowv62k, mcmqx7og, zd8c1...</td>\n",
       "      <td>[r58aohnu, yrowv62k, d06npvro, mcmqx7og, mz1bo...</td>\n",
       "      <td>[r58aohnu, p0kg6dyz, 9dlaaye8, iu1d9i57, d06np...</td>\n",
       "      <td>1.0</td>\n",
       "      <td>[r58aohnu, yrowv62k, d06npvro, mcmqx7og, mz1bo...</td>\n",
       "    </tr>\n",
       "    <tr>\n",
       "      <th>2</th>\n",
       "      <td>73</td>\n",
       "      <td>I recall early on reading that researchers who...</td>\n",
       "      <td>sts48u9i</td>\n",
       "      <td>[u5nxm9tu, 4aps0kvp, osct0lj6, o47v5vgw, sts48...</td>\n",
       "      <td>[osct0lj6, o47v5vgw, sts48u9i, gruir7aw, o877u...</td>\n",
       "      <td>[sts48u9i, 8m59whf9, gruir7aw, qkg8fwbp, osct0...</td>\n",
       "      <td>[tz2shoso, o877uul1, m1sf159a, sgo76prc, gruir...</td>\n",
       "      <td>0.2</td>\n",
       "      <td>[sts48u9i, 8m59whf9, gruir7aw, qkg8fwbp, osct0...</td>\n",
       "    </tr>\n",
       "    <tr>\n",
       "      <th>3</th>\n",
       "      <td>93</td>\n",
       "      <td>You know you're credible when NIH website has ...</td>\n",
       "      <td>3sr2exq9</td>\n",
       "      <td>[3sr2exq9, k0f4cwig, sv48gjkk, kc3nb2pc, wbw7g...</td>\n",
       "      <td>[kdegnr6i, 3sr2exq9, k0f4cwig, sv48gjkk, z795y...</td>\n",
       "      <td>[3sr2exq9, k0f4cwig, z795y51f, sv48gjkk, 4fzzo...</td>\n",
       "      <td>[3sr2exq9, hgpiig0g, sv48gjkk, k0f4cwig, ihgxt...</td>\n",
       "      <td>1.0</td>\n",
       "      <td>[3sr2exq9, k0f4cwig, z795y51f, sv48gjkk, 4fzzo...</td>\n",
       "    </tr>\n",
       "    <tr>\n",
       "      <th>4</th>\n",
       "      <td>96</td>\n",
       "      <td>Resistance to antifungal medications is a grow...</td>\n",
       "      <td>ybwwmyqy</td>\n",
       "      <td>[ybwwmyqy, vabb2f26, 3l6ipiwk, ouvq2wpq, sxx3y...</td>\n",
       "      <td>[ybwwmyqy, vabb2f26, ouvq2wpq, sxx3yid9, lzddn...</td>\n",
       "      <td>[ybwwmyqy, lzddnb8j, vabb2f26, ouvq2wpq, sxx3y...</td>\n",
       "      <td>[lzddnb8j, ouvq2wpq, sxx3yid9, vabb2f26, y9fqa...</td>\n",
       "      <td>1.0</td>\n",
       "      <td>[ybwwmyqy, lzddnb8j, vabb2f26, ouvq2wpq, sxx3y...</td>\n",
       "    </tr>\n",
       "  </tbody>\n",
       "</table>\n",
       "</div>"
      ],
      "text/plain": [
       "   post_id                                         tweet_text  cord_uid  \\\n",
       "0       16  covid recovery: this study from the usa reveal...  3qvh482o   \n",
       "1       69  \"Among 139 clients exposed to two symptomatic ...  r58aohnu   \n",
       "2       73  I recall early on reading that researchers who...  sts48u9i   \n",
       "3       93  You know you're credible when NIH website has ...  3sr2exq9   \n",
       "4       96  Resistance to antifungal medications is a grow...  ybwwmyqy   \n",
       "\n",
       "                           hybrid_cross_encoder_topk  \\\n",
       "0  [nksd3wuw, o4vvlmr4, jrqlhjsm, 8t2tic9n, hg3xp...   \n",
       "1  [r58aohnu, wk61uyrt, icgsbelo, tu1vevx9, kiq6x...   \n",
       "2  [u5nxm9tu, 4aps0kvp, osct0lj6, o47v5vgw, sts48...   \n",
       "3  [3sr2exq9, k0f4cwig, sv48gjkk, kc3nb2pc, wbw7g...   \n",
       "4  [ybwwmyqy, vabb2f26, 3l6ipiwk, ouvq2wpq, sxx3y...   \n",
       "\n",
       "                                  cross_encoder_topk  \\\n",
       "0  [o4vvlmr4, hg3xpej0, 25aj8rj5, 59up4v56, bqn29...   \n",
       "1  [r58aohnu, tu1vevx9, yrowv62k, mcmqx7og, zd8c1...   \n",
       "2  [osct0lj6, o47v5vgw, sts48u9i, gruir7aw, o877u...   \n",
       "3  [kdegnr6i, 3sr2exq9, k0f4cwig, sv48gjkk, z795y...   \n",
       "4  [ybwwmyqy, vabb2f26, ouvq2wpq, sxx3yid9, lzddn...   \n",
       "\n",
       "                                         hybrid_topk  \\\n",
       "0  [25aj8rj5, styavbvi, jrqlhjsm, hg3xpej0, o4vvl...   \n",
       "1  [r58aohnu, yrowv62k, d06npvro, mcmqx7og, mz1bo...   \n",
       "2  [sts48u9i, 8m59whf9, gruir7aw, qkg8fwbp, osct0...   \n",
       "3  [3sr2exq9, k0f4cwig, z795y51f, sv48gjkk, 4fzzo...   \n",
       "4  [ybwwmyqy, lzddnb8j, vabb2f26, ouvq2wpq, sxx3y...   \n",
       "\n",
       "                                           bm25_topk  in_topx  \\\n",
       "0  [25aj8rj5, gatxuwz7, 59up4v56, styavbvi, 6sy80...      0.0   \n",
       "1  [r58aohnu, p0kg6dyz, 9dlaaye8, iu1d9i57, d06np...      1.0   \n",
       "2  [tz2shoso, o877uul1, m1sf159a, sgo76prc, gruir...      0.2   \n",
       "3  [3sr2exq9, hgpiig0g, sv48gjkk, k0f4cwig, ihgxt...      1.0   \n",
       "4  [lzddnb8j, ouvq2wpq, sxx3yid9, vabb2f26, y9fqa...      1.0   \n",
       "\n",
       "                                               preds  \n",
       "0  [25aj8rj5, styavbvi, jrqlhjsm, hg3xpej0, o4vvl...  \n",
       "1  [r58aohnu, yrowv62k, d06npvro, mcmqx7og, mz1bo...  \n",
       "2  [sts48u9i, 8m59whf9, gruir7aw, qkg8fwbp, osct0...  \n",
       "3  [3sr2exq9, k0f4cwig, z795y51f, sv48gjkk, 4fzzo...  \n",
       "4  [ybwwmyqy, lzddnb8j, vabb2f26, ouvq2wpq, sxx3y...  "
      ]
     },
     "execution_count": 49,
     "metadata": {},
     "output_type": "execute_result"
    }
   ],
   "source": [
    "df_query_dev.head()"
   ]
  },
  {
   "cell_type": "code",
   "execution_count": 50,
   "metadata": {},
   "outputs": [
    {
     "data": {
      "text/html": [
       "<div>\n",
       "<style scoped>\n",
       "    .dataframe tbody tr th:only-of-type {\n",
       "        vertical-align: middle;\n",
       "    }\n",
       "\n",
       "    .dataframe tbody tr th {\n",
       "        vertical-align: top;\n",
       "    }\n",
       "\n",
       "    .dataframe thead th {\n",
       "        text-align: right;\n",
       "    }\n",
       "</style>\n",
       "<table border=\"1\" class=\"dataframe\">\n",
       "  <thead>\n",
       "    <tr style=\"text-align: right;\">\n",
       "      <th></th>\n",
       "      <th>post_id</th>\n",
       "      <th>tweet_text</th>\n",
       "      <th>cord_uid</th>\n",
       "      <th>hybrid_topk</th>\n",
       "      <th>bm25_topk</th>\n",
       "      <th>in_topx</th>\n",
       "    </tr>\n",
       "  </thead>\n",
       "  <tbody>\n",
       "    <tr>\n",
       "      <th>0</th>\n",
       "      <td>0</td>\n",
       "      <td>Oral care in rehabilitation medicine: oral vul...</td>\n",
       "      <td>htlvpvz5</td>\n",
       "      <td>None</td>\n",
       "      <td>[htlvpvz5, h7hj64q5, rwgqkow3, dbgtslc8, am11y...</td>\n",
       "      <td>1.000000</td>\n",
       "    </tr>\n",
       "    <tr>\n",
       "      <th>1</th>\n",
       "      <td>1</td>\n",
       "      <td>this study isn't receiving sufficient attentio...</td>\n",
       "      <td>4kfl29ul</td>\n",
       "      <td>None</td>\n",
       "      <td>[2cwvga0k, 33znyrn8, st3fyb64, 74dw6emg, b68c8...</td>\n",
       "      <td>0.000000</td>\n",
       "    </tr>\n",
       "    <tr>\n",
       "      <th>2</th>\n",
       "      <td>2</td>\n",
       "      <td>thanks, xi jinping. a reminder that this study...</td>\n",
       "      <td>jtwb17u8</td>\n",
       "      <td>None</td>\n",
       "      <td>[8hkxbxz9, w98847ai, jtwb17u8, iy1enazk, pg0l9...</td>\n",
       "      <td>0.333333</td>\n",
       "    </tr>\n",
       "    <tr>\n",
       "      <th>3</th>\n",
       "      <td>3</td>\n",
       "      <td>Taiwan - a population of 23 million has had ju...</td>\n",
       "      <td>0w9k8iy1</td>\n",
       "      <td>None</td>\n",
       "      <td>[32ua8wb6, zxe95qy9, 30pl5tx3, l4y7v729, b97ac...</td>\n",
       "      <td>0.000000</td>\n",
       "    </tr>\n",
       "    <tr>\n",
       "      <th>4</th>\n",
       "      <td>4</td>\n",
       "      <td>Obtaining a diagnosis of autism in lower incom...</td>\n",
       "      <td>tiqksd69</td>\n",
       "      <td>None</td>\n",
       "      <td>[tiqksd69, k7smwz6w, b0dzhsrh, yc7cvbii, iiafu...</td>\n",
       "      <td>1.000000</td>\n",
       "    </tr>\n",
       "  </tbody>\n",
       "</table>\n",
       "</div>"
      ],
      "text/plain": [
       "   post_id                                         tweet_text  cord_uid  \\\n",
       "0        0  Oral care in rehabilitation medicine: oral vul...  htlvpvz5   \n",
       "1        1  this study isn't receiving sufficient attentio...  4kfl29ul   \n",
       "2        2  thanks, xi jinping. a reminder that this study...  jtwb17u8   \n",
       "3        3  Taiwan - a population of 23 million has had ju...  0w9k8iy1   \n",
       "4        4  Obtaining a diagnosis of autism in lower incom...  tiqksd69   \n",
       "\n",
       "  hybrid_topk                                          bm25_topk   in_topx  \n",
       "0        None  [htlvpvz5, h7hj64q5, rwgqkow3, dbgtslc8, am11y...  1.000000  \n",
       "1        None  [2cwvga0k, 33znyrn8, st3fyb64, 74dw6emg, b68c8...  0.000000  \n",
       "2        None  [8hkxbxz9, w98847ai, jtwb17u8, iy1enazk, pg0l9...  0.333333  \n",
       "3        None  [32ua8wb6, zxe95qy9, 30pl5tx3, l4y7v729, b97ac...  0.000000  \n",
       "4        None  [tiqksd69, k7smwz6w, b0dzhsrh, yc7cvbii, iiafu...  1.000000  "
      ]
     },
     "execution_count": 50,
     "metadata": {},
     "output_type": "execute_result"
    }
   ],
   "source": [
    "df_query_train.head()"
   ]
  },
  {
   "cell_type": "markdown",
   "metadata": {},
   "source": "## 4.4) Applying hybrid approach on test dataframe"
  },
  {
   "cell_type": "code",
   "execution_count": 59,
   "metadata": {},
   "outputs": [],
   "source": [
    "df_query_test = pd.read_csv(PATH_QUERY_TEST_DATA, sep = '\\t')"
   ]
  },
  {
   "cell_type": "code",
   "execution_count": 60,
   "metadata": {},
   "outputs": [
    {
     "data": {
      "text/html": [
       "<div>\n",
       "<style scoped>\n",
       "    .dataframe tbody tr th:only-of-type {\n",
       "        vertical-align: middle;\n",
       "    }\n",
       "\n",
       "    .dataframe tbody tr th {\n",
       "        vertical-align: top;\n",
       "    }\n",
       "\n",
       "    .dataframe thead th {\n",
       "        text-align: right;\n",
       "    }\n",
       "</style>\n",
       "<table border=\"1\" class=\"dataframe\">\n",
       "  <thead>\n",
       "    <tr style=\"text-align: right;\">\n",
       "      <th></th>\n",
       "      <th>post_id</th>\n",
       "      <th>tweet_text</th>\n",
       "    </tr>\n",
       "  </thead>\n",
       "  <tbody>\n",
       "    <tr>\n",
       "      <th>0</th>\n",
       "      <td>1</td>\n",
       "      <td>A recent research study published yesterday cl...</td>\n",
       "    </tr>\n",
       "    <tr>\n",
       "      <th>1</th>\n",
       "      <td>2</td>\n",
       "      <td>\"We should track the long-term effects of thes...</td>\n",
       "    </tr>\n",
       "    <tr>\n",
       "      <th>2</th>\n",
       "      <td>3</td>\n",
       "      <td>the agony of \"long haul\" covid-19 symptoms.</td>\n",
       "    </tr>\n",
       "    <tr>\n",
       "      <th>3</th>\n",
       "      <td>4</td>\n",
       "      <td>Home and online monitoring and assessment of b...</td>\n",
       "    </tr>\n",
       "    <tr>\n",
       "      <th>4</th>\n",
       "      <td>5</td>\n",
       "      <td>it may be a long one, folks! to avoid exceedin...</td>\n",
       "    </tr>\n",
       "  </tbody>\n",
       "</table>\n",
       "</div>"
      ],
      "text/plain": [
       "   post_id                                         tweet_text\n",
       "0        1  A recent research study published yesterday cl...\n",
       "1        2  \"We should track the long-term effects of thes...\n",
       "2        3        the agony of \"long haul\" covid-19 symptoms.\n",
       "3        4  Home and online monitoring and assessment of b...\n",
       "4        5  it may be a long one, folks! to avoid exceedin..."
      ]
     },
     "execution_count": 60,
     "metadata": {},
     "output_type": "execute_result"
    }
   ],
   "source": [
    "df_query_test.head()"
   ]
  },
  {
   "cell_type": "code",
   "execution_count": 62,
   "metadata": {},
   "outputs": [
    {
     "name": "stderr",
     "output_type": "stream",
     "text": [
      "100%|██████████| 1446/1446 [01:05<00:00, 22.04it/s]\n"
     ]
    }
   ],
   "source": [
    "df_query_test['bm25_topk'] = df_query_test['tweet_text'].progress_apply(lambda x: get_top_cord_uids(x))"
   ]
  },
  {
   "cell_type": "code",
   "execution_count": 63,
   "metadata": {},
   "outputs": [
    {
     "name": "stderr",
     "output_type": "stream",
     "text": [
      "100%|██████████| 1446/1446 [01:28<00:00, 16.31it/s]\n"
     ]
    }
   ],
   "source": [
    "df_query_test[\"hybrid_topk\"] = None\n",
    "\n",
    "# Apply hybrid retrieval to each row\n",
    "for idx, row in tqdm(df_query_test.iterrows(), total=len(df_query_test)):\n",
    "    query_text = row[\"tweet_text\"]\n",
    "    top_docs = hybrid_retrieve(query_text, bm25, corpus_embeddings, cord_uids, top_k=20)\n",
    "    df_query_test.at[idx, \"hybrid_topk\"] = top_docs"
   ]
  },
  {
   "cell_type": "code",
   "execution_count": 64,
   "metadata": {},
   "outputs": [],
   "source": [
    "df_query_test['preds'] = df_query_test['bm25_topk'].apply(lambda x: x[:5])\n",
    "df_query_test[['post_id', 'preds']].to_csv('predictions_test.tsv', index=None, sep='\\t')"
   ]
  },
  {
   "cell_type": "markdown",
   "metadata": {},
   "source": "## 5) Several least successful approaches for documentation"
  },
  {
   "cell_type": "markdown",
   "metadata": {},
   "source": [
    "First, we consider a re-ranking approach with top_k=10 instead of top_k=5 and hope that this second re-ranking step optimizes the hybrid_topk results"
   ]
  },
  {
   "cell_type": "code",
   "execution_count": null,
   "metadata": {},
   "outputs": [
    {
     "name": "stderr",
     "output_type": "stream",
     "text": [
      "100%|██████████| 1400/1400 [16:26<00:00,  1.42it/s]"
     ]
    },
    {
     "name": "stdout",
     "output_type": "stream",
     "text": [
      "   cord_uid                   hybrid_minilm_cross_encoder_topk\n",
      "0  3qvh482o  [59up4v56, o4vvlmr4, mb18fj8a, hg3xpej0, jwei2...\n",
      "1  r58aohnu  [r58aohnu, icgsbelo, h3tor88n, wk61uyrt, eay6q...\n",
      "2  sts48u9i  [osct0lj6, tz2shoso, 3xw4qjoy, azl5dj74, gruir...\n",
      "3  3sr2exq9  [3sr2exq9, k0f4cwig, sv48gjkk, 9mdf927z, 35xql...\n",
      "4  ybwwmyqy  [ouvq2wpq, rs3umc1x, lzddnb8j, gzhc0x44, vabb2...\n"
     ]
    },
    {
     "name": "stderr",
     "output_type": "stream",
     "text": [
      "\n"
     ]
    }
   ],
   "source": [
    "# Initialize Cross-Encoder once\n",
    "cross_encoder = CrossEncoder('cross-encoder/ms-marco-MiniLM-L2-v2', max_length=512)\n",
    "\n",
    "def rank_chunks_with_cross_encoder(query, retrieved_chunks, top_k=10):\n",
    "    \"\"\"\n",
    "    Rank the retrieved chunks based on their relevance to the query using a Cross-Encoder.\n",
    "    \"\"\"\n",
    "    query_chunk_pairs = [[query, chunk] for chunk in retrieved_chunks]\n",
    "    scores = cross_encoder.predict(query_chunk_pairs)\n",
    "    ranked_chunks = sorted(zip(retrieved_chunks, scores), key=lambda x: x[1], reverse=True)\n",
    "    return ranked_chunks[:top_k]\n",
    "\n",
    "# Initialize new column\n",
    "df_query_dev[\"hybrid_minilm_cross_encoder_topk\"] = None\n",
    "\n",
    "# Loop over the rows to fill in reranked results\n",
    "for idx, row in tqdm(df_query_dev.iterrows(), total=len(df_query_dev)):\n",
    "    query_text = row[\"tweet_text\"]\n",
    "    topk_ids = row[\"hybrid_topk\"]\n",
    "\n",
    "    chunk_to_uid = {}\n",
    "    for uid in topk_ids:\n",
    "        paper_row = df_collection.loc[df_collection[\"cord_uid\"] == uid]\n",
    "        if paper_row.empty:\n",
    "            continue\n",
    "\n",
    "        title = paper_row[\"title\"].values[0] or \"\"\n",
    "        abstract = paper_row[\"abstract\"].values[0] or \"\"\n",
    "        full_text = f\"{title.strip()}\\n{abstract.strip()}\"\n",
    "        chunk_to_uid[full_text] = uid\n",
    "\n",
    "    reranked_chunks = rank_chunks_with_cross_encoder(query_text, list(chunk_to_uid.keys()))\n",
    "    reranked_uids = [chunk_to_uid[chunk] for chunk, _ in reranked_chunks]\n",
    "\n",
    "    # Assign directly to the dataframe\n",
    "    df_query_dev.at[idx, \"hybrid_minilm_cross_encoder_topk\"] = reranked_uids\n",
    "\n",
    "# Preview result\n",
    "print(df_query_dev[[\"cord_uid\", \"hybrid_minilm_cross_encoder_topk\"]].head())"
   ]
  },
  {
   "cell_type": "code",
   "execution_count": 71,
   "metadata": {},
   "outputs": [
    {
     "name": "stdout",
     "output_type": "stream",
     "text": [
      "Results on the hybrid reranked set: {1: np.float64(0.4785714285714286), 5: np.float64(0.5498333333333333), 10: np.float64(0.5584163832199547)}\n"
     ]
    }
   ],
   "source": [
    "results_reranked = get_performance_mrr(df_query_dev, 'cord_uid', 'hybrid_minilm_cross_encoder_topk')\n",
    "print(f\"Results on the hybrid reranked set: {results_reranked}\")"
   ]
  },
  {
   "cell_type": "markdown",
   "metadata": {},
   "source": [
    "Due to no success, we want to find out if we improve the results by ranking the first retrieval only with our Bi-Encoder SentenceTransformer(\"all-MiniLM-L6-v2\") model  "
   ]
  },
  {
   "cell_type": "code",
   "execution_count": null,
   "metadata": {},
   "outputs": [],
   "source": [
    "def encoder_retrieve(query, corpus_embeddings, cord_uids, top_k=20):\n",
    "    # Step 1: Get dense (bi-encoder) similarity scores\n",
    "    query_embedding = bi_encoder.encode(query, convert_to_tensor=True)\n",
    "    dense_scores = util.cos_sim(query_embedding, corpus_embeddings)[0].cpu().numpy()  # shape: (N,)\n",
    "\n",
    "    # Step 2: Get top-k documents based on hybrid score\n",
    "    top_indices = np.argsort(-dense_scores)[:top_k]\n",
    "    top_docs = [cord_uids[i] for i in top_indices]\n",
    "\n",
    "    return top_docs\n"
   ]
  },
  {
   "cell_type": "code",
   "execution_count": 73,
   "metadata": {},
   "outputs": [
    {
     "name": "stderr",
     "output_type": "stream",
     "text": [
      "100%|██████████| 1400/1400 [00:28<00:00, 49.91it/s]\n"
     ]
    }
   ],
   "source": [
    "df_query_dev[\"dense_topk\"] = None\n",
    "\n",
    "# Apply hybrid retrieval to each row\n",
    "for idx, row in tqdm(df_query_dev.iterrows(), total=len(df_query_dev)):\n",
    "    query_text = row[\"tweet_text\"]\n",
    "    top_docs = encoder_retrieve(query_text, corpus_embeddings, cord_uids, top_k=20)\n",
    "    df_query_dev.at[idx, \"dense_topk\"] = top_docs"
   ]
  },
  {
   "cell_type": "code",
   "execution_count": 74,
   "metadata": {},
   "outputs": [
    {
     "name": "stdout",
     "output_type": "stream",
     "text": [
      "Results on the dense set: {1: np.float64(0.4157142857142857), 5: np.float64(0.48966666666666664), 10: np.float64(0.4993826530612245)}\n"
     ]
    }
   ],
   "source": [
    "results_reranked = get_performance_mrr(df_query_dev, 'cord_uid', 'dense_topk')\n",
    "print(f\"Results on the dense set: {results_reranked}\")"
   ]
  },
  {
   "cell_type": "markdown",
   "metadata": {},
   "source": [
    "For now, we can observe that the hybrid retrieval approach outperforms all other approaches"
   ]
  },
  {
   "cell_type": "code",
   "execution_count": null,
   "metadata": {},
   "outputs": [],
   "source": []
  }
 ],
 "metadata": {
  "colab": {
   "provenance": []
  },
  "kernelspec": {
   "display_name": "AIR",
   "language": "python",
   "name": "python3"
  },
  "language_info": {
   "codemirror_mode": {
    "name": "ipython",
    "version": 3
   },
   "file_extension": ".py",
   "mimetype": "text/x-python",
   "name": "python",
   "nbconvert_exporter": "python",
   "pygments_lexer": "ipython3",
   "version": "3.12.3"
  }
 },
 "nbformat": 4,
 "nbformat_minor": 0
}
