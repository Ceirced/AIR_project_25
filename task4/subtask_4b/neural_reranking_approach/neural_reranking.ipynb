{
 "cells": [
  {
   "cell_type": "markdown",
   "metadata": {
    "id": "MfnQvGfvtH1w"
   },
   "source": [
    "# Getting started\n",
    "\n",
    "### CLEF 2025 - CheckThat! Lab  - Task 4 Scientific Web Discourse - Subtask 4b (Scientific Claim Source Retrieval)\n",
    "\n",
    "This notebook enables participants of subtask 4b to quickly get started. It includes the following:\n",
    "- Code to upload data, including:\n",
    "    - code to upload the collection set (CORD-19 academic papers' metadata)\n",
    "    - code to upload the query set (tweets with implicit references to CORD-19 papers)\n",
    "- Code to run a baseline retrieval model (BM25)\n",
    "- Code to evaluate the baseline model\n",
    "\n",
    "Participants are free to use this notebook and add their own models for the competition."
   ]
  },
  {
   "cell_type": "markdown",
   "metadata": {
    "id": "vpDCfBMouNAL"
   },
   "source": [
    "# 1) Importing data"
   ]
  },
  {
   "cell_type": "code",
   "execution_count": 6,
   "metadata": {
    "ExecuteTime": {
     "end_time": "2025-04-15T08:39:51.753617Z",
     "start_time": "2025-04-15T08:39:43.432954Z"
    },
    "executionInfo": {
     "elapsed": 403,
     "status": "ok",
     "timestamp": 1742975967136,
     "user": {
      "displayName": "Yavuz",
      "userId": "01318046262282431930"
     },
     "user_tz": -60
    },
    "id": "rQPqDKP_QHFM"
   },
   "outputs": [],
   "source": [
    "import numpy as np\n",
    "import pandas as pd"
   ]
  },
  {
   "cell_type": "markdown",
   "metadata": {
    "id": "u8N7h9BhQI5m"
   },
   "source": [
    "## 1.a) Import the collection set\n",
    "The collection set contains metadata of CORD-19 academic papers.\n",
    "\n",
    "The preprocessed and filtered CORD-19 dataset is available on the Gitlab repository here: https://gitlab.com/checkthat_lab/clef2025-checkthat-lab/-/tree/main/task4/subtask_4b\n",
    "\n",
    "Participants should first download the file then upload it on the Google Colab session with the following steps.\n"
   ]
  },
  {
   "cell_type": "code",
   "execution_count": 7,
   "metadata": {
    "ExecuteTime": {
     "end_time": "2025-04-15T08:39:52.015257Z",
     "start_time": "2025-04-15T08:39:51.995843Z"
    },
    "executionInfo": {
     "elapsed": 7,
     "status": "ok",
     "timestamp": 1742975971100,
     "user": {
      "displayName": "Yavuz",
      "userId": "01318046262282431930"
     },
     "user_tz": -60
    },
    "id": "2GQI4HcKR6hS"
   },
   "outputs": [],
   "source": [
    "# 1) Download the collection set from the Gitlab repository: https://gitlab.com/checkthat_lab/clef2025-checkthat-lab/-/tree/main/task4/subtask_4b\n",
    "# 2) Drag and drop the downloaded file to the \"Files\" section (left vertical menu on Colab)\n",
    "# 3) Modify the path to your local file path\n",
    "PATH_COLLECTION_DATA = '../subtask4b_collection_data.pkl' #MODIFY PATH"
   ]
  },
  {
   "cell_type": "code",
   "execution_count": 8,
   "metadata": {
    "ExecuteTime": {
     "end_time": "2025-04-15T08:39:52.297256Z",
     "start_time": "2025-04-15T08:39:52.067323Z"
    },
    "executionInfo": {
     "elapsed": 42,
     "status": "ok",
     "timestamp": 1742975975524,
     "user": {
      "displayName": "Yavuz",
      "userId": "01318046262282431930"
     },
     "user_tz": -60
    },
    "id": "SYBB3UYbMwTA"
   },
   "outputs": [],
   "source": [
    "df_collection = pd.read_pickle(PATH_COLLECTION_DATA)"
   ]
  },
  {
   "cell_type": "code",
   "execution_count": 9,
   "metadata": {
    "ExecuteTime": {
     "end_time": "2025-04-15T08:39:54.497555Z",
     "start_time": "2025-04-15T08:39:54.396112Z"
    },
    "colab": {
     "base_uri": "https://localhost:8080/"
    },
    "executionInfo": {
     "elapsed": 37,
     "status": "ok",
     "timestamp": 1742975976305,
     "user": {
      "displayName": "Yavuz",
      "userId": "01318046262282431930"
     },
     "user_tz": -60
    },
    "id": "4v3lygNOQQSn",
    "outputId": "ee5b9abd-f889-4a4e-ce11-32d2691433cb"
   },
   "outputs": [
    {
     "name": "stdout",
     "output_type": "stream",
     "text": [
      "<class 'pandas.core.frame.DataFrame'>\n",
      "Index: 7718 entries, 162 to 1056448\n",
      "Data columns (total 17 columns):\n",
      " #   Column            Non-Null Count  Dtype         \n",
      "---  ------            --------------  -----         \n",
      " 0   cord_uid          7718 non-null   object        \n",
      " 1   source_x          7718 non-null   object        \n",
      " 2   title             7718 non-null   object        \n",
      " 3   doi               7677 non-null   object        \n",
      " 4   pmcid             4959 non-null   object        \n",
      " 5   pubmed_id         6233 non-null   object        \n",
      " 6   license           7718 non-null   object        \n",
      " 7   abstract          7718 non-null   object        \n",
      " 8   publish_time      7715 non-null   object        \n",
      " 9   authors           7674 non-null   object        \n",
      " 10  journal           6668 non-null   object        \n",
      " 11  mag_id            0 non-null      float64       \n",
      " 12  who_covidence_id  528 non-null    object        \n",
      " 13  arxiv_id          20 non-null     object        \n",
      " 14  label             7718 non-null   object        \n",
      " 15  time              7715 non-null   datetime64[ns]\n",
      " 16  timet             7718 non-null   int64         \n",
      "dtypes: datetime64[ns](1), float64(1), int64(1), object(14)\n",
      "memory usage: 1.1+ MB\n"
     ]
    }
   ],
   "source": [
    "df_collection.info()"
   ]
  },
  {
   "cell_type": "code",
   "execution_count": 10,
   "metadata": {
    "ExecuteTime": {
     "end_time": "2025-04-15T08:39:54.743225Z",
     "start_time": "2025-04-15T08:39:54.663254Z"
    },
    "colab": {
     "base_uri": "https://localhost:8080/",
     "height": 608
    },
    "executionInfo": {
     "elapsed": 211,
     "status": "ok",
     "timestamp": 1742975978238,
     "user": {
      "displayName": "Yavuz",
      "userId": "01318046262282431930"
     },
     "user_tz": -60
    },
    "id": "9veNFFGDZRx7",
    "outputId": "5eec7f85-7d20-44d7-8986-a85cb00533d8"
   },
   "outputs": [
    {
     "data": {
      "text/html": [
       "<div>\n",
       "<style scoped>\n",
       "    .dataframe tbody tr th:only-of-type {\n",
       "        vertical-align: middle;\n",
       "    }\n",
       "\n",
       "    .dataframe tbody tr th {\n",
       "        vertical-align: top;\n",
       "    }\n",
       "\n",
       "    .dataframe thead th {\n",
       "        text-align: right;\n",
       "    }\n",
       "</style>\n",
       "<table border=\"1\" class=\"dataframe\">\n",
       "  <thead>\n",
       "    <tr style=\"text-align: right;\">\n",
       "      <th></th>\n",
       "      <th>cord_uid</th>\n",
       "      <th>source_x</th>\n",
       "      <th>title</th>\n",
       "      <th>doi</th>\n",
       "      <th>pmcid</th>\n",
       "      <th>pubmed_id</th>\n",
       "      <th>license</th>\n",
       "      <th>abstract</th>\n",
       "      <th>publish_time</th>\n",
       "      <th>authors</th>\n",
       "      <th>journal</th>\n",
       "      <th>mag_id</th>\n",
       "      <th>who_covidence_id</th>\n",
       "      <th>arxiv_id</th>\n",
       "      <th>label</th>\n",
       "      <th>time</th>\n",
       "      <th>timet</th>\n",
       "    </tr>\n",
       "  </thead>\n",
       "  <tbody>\n",
       "    <tr>\n",
       "      <th>162</th>\n",
       "      <td>umvrwgaw</td>\n",
       "      <td>PMC</td>\n",
       "      <td>Professional and Home-Made Face Masks Reduce E...</td>\n",
       "      <td>10.1371/journal.pone.0002618</td>\n",
       "      <td>PMC2440799</td>\n",
       "      <td>18612429</td>\n",
       "      <td>cc-by</td>\n",
       "      <td>BACKGROUND: Governments are preparing for a po...</td>\n",
       "      <td>2008-07-09</td>\n",
       "      <td>van der Sande, Marianne; Teunis, Peter; Sabel,...</td>\n",
       "      <td>PLoS One</td>\n",
       "      <td>NaN</td>\n",
       "      <td>NaN</td>\n",
       "      <td>NaN</td>\n",
       "      <td>umvrwgaw</td>\n",
       "      <td>2008-07-09</td>\n",
       "      <td>1215561600</td>\n",
       "    </tr>\n",
       "    <tr>\n",
       "      <th>611</th>\n",
       "      <td>spiud6ok</td>\n",
       "      <td>PMC</td>\n",
       "      <td>The Failure of R (0)</td>\n",
       "      <td>10.1155/2011/527610</td>\n",
       "      <td>PMC3157160</td>\n",
       "      <td>21860658</td>\n",
       "      <td>cc-by</td>\n",
       "      <td>The basic reproductive ratio, R (0), is one of...</td>\n",
       "      <td>2011-08-16</td>\n",
       "      <td>Li, Jing; Blakeley, Daniel; Smith?, Robert J.</td>\n",
       "      <td>Comput Math Methods Med</td>\n",
       "      <td>NaN</td>\n",
       "      <td>NaN</td>\n",
       "      <td>NaN</td>\n",
       "      <td>spiud6ok</td>\n",
       "      <td>2011-08-16</td>\n",
       "      <td>1313452800</td>\n",
       "    </tr>\n",
       "    <tr>\n",
       "      <th>918</th>\n",
       "      <td>aclzp3iy</td>\n",
       "      <td>PMC</td>\n",
       "      <td>Pulmonary sequelae in a patient recovered from...</td>\n",
       "      <td>10.4103/0970-2113.99118</td>\n",
       "      <td>PMC3424870</td>\n",
       "      <td>22919170</td>\n",
       "      <td>cc-by-nc-sa</td>\n",
       "      <td>The pandemic of swine flu (H1N1) influenza spr...</td>\n",
       "      <td>2012</td>\n",
       "      <td>Singh, Virendra; Sharma, Bharat Bhushan; Patel...</td>\n",
       "      <td>Lung India</td>\n",
       "      <td>NaN</td>\n",
       "      <td>NaN</td>\n",
       "      <td>NaN</td>\n",
       "      <td>aclzp3iy</td>\n",
       "      <td>2012-01-01</td>\n",
       "      <td>1325376000</td>\n",
       "    </tr>\n",
       "    <tr>\n",
       "      <th>993</th>\n",
       "      <td>ycxyn2a2</td>\n",
       "      <td>PMC</td>\n",
       "      <td>What was the primary mode of smallpox transmis...</td>\n",
       "      <td>10.3389/fcimb.2012.00150</td>\n",
       "      <td>PMC3509329</td>\n",
       "      <td>23226686</td>\n",
       "      <td>cc-by</td>\n",
       "      <td>The mode of infection transmission has profoun...</td>\n",
       "      <td>2012-11-29</td>\n",
       "      <td>Milton, Donald K.</td>\n",
       "      <td>Front Cell Infect Microbiol</td>\n",
       "      <td>NaN</td>\n",
       "      <td>NaN</td>\n",
       "      <td>NaN</td>\n",
       "      <td>ycxyn2a2</td>\n",
       "      <td>2012-11-29</td>\n",
       "      <td>1354147200</td>\n",
       "    </tr>\n",
       "    <tr>\n",
       "      <th>1053</th>\n",
       "      <td>zxe95qy9</td>\n",
       "      <td>PMC</td>\n",
       "      <td>Lessons from the History of Quarantine, from P...</td>\n",
       "      <td>10.3201/eid1902.120312</td>\n",
       "      <td>PMC3559034</td>\n",
       "      <td>23343512</td>\n",
       "      <td>no-cc</td>\n",
       "      <td>In the new millennium, the centuries-old strat...</td>\n",
       "      <td>2013-02-03</td>\n",
       "      <td>Tognotti, Eugenia</td>\n",
       "      <td>Emerg Infect Dis</td>\n",
       "      <td>NaN</td>\n",
       "      <td>NaN</td>\n",
       "      <td>NaN</td>\n",
       "      <td>zxe95qy9</td>\n",
       "      <td>2013-02-03</td>\n",
       "      <td>1359849600</td>\n",
       "    </tr>\n",
       "  </tbody>\n",
       "</table>\n",
       "</div>"
      ],
      "text/plain": [
       "      cord_uid source_x                                              title  \\\n",
       "162   umvrwgaw      PMC  Professional and Home-Made Face Masks Reduce E...   \n",
       "611   spiud6ok      PMC                               The Failure of R (0)   \n",
       "918   aclzp3iy      PMC  Pulmonary sequelae in a patient recovered from...   \n",
       "993   ycxyn2a2      PMC  What was the primary mode of smallpox transmis...   \n",
       "1053  zxe95qy9      PMC  Lessons from the History of Quarantine, from P...   \n",
       "\n",
       "                               doi       pmcid pubmed_id      license  \\\n",
       "162   10.1371/journal.pone.0002618  PMC2440799  18612429        cc-by   \n",
       "611            10.1155/2011/527610  PMC3157160  21860658        cc-by   \n",
       "918        10.4103/0970-2113.99118  PMC3424870  22919170  cc-by-nc-sa   \n",
       "993       10.3389/fcimb.2012.00150  PMC3509329  23226686        cc-by   \n",
       "1053        10.3201/eid1902.120312  PMC3559034  23343512        no-cc   \n",
       "\n",
       "                                               abstract publish_time  \\\n",
       "162   BACKGROUND: Governments are preparing for a po...   2008-07-09   \n",
       "611   The basic reproductive ratio, R (0), is one of...   2011-08-16   \n",
       "918   The pandemic of swine flu (H1N1) influenza spr...         2012   \n",
       "993   The mode of infection transmission has profoun...   2012-11-29   \n",
       "1053  In the new millennium, the centuries-old strat...   2013-02-03   \n",
       "\n",
       "                                                authors  \\\n",
       "162   van der Sande, Marianne; Teunis, Peter; Sabel,...   \n",
       "611       Li, Jing; Blakeley, Daniel; Smith?, Robert J.   \n",
       "918   Singh, Virendra; Sharma, Bharat Bhushan; Patel...   \n",
       "993                                   Milton, Donald K.   \n",
       "1053                                  Tognotti, Eugenia   \n",
       "\n",
       "                          journal  mag_id who_covidence_id arxiv_id     label  \\\n",
       "162                      PLoS One     NaN              NaN      NaN  umvrwgaw   \n",
       "611       Comput Math Methods Med     NaN              NaN      NaN  spiud6ok   \n",
       "918                    Lung India     NaN              NaN      NaN  aclzp3iy   \n",
       "993   Front Cell Infect Microbiol     NaN              NaN      NaN  ycxyn2a2   \n",
       "1053             Emerg Infect Dis     NaN              NaN      NaN  zxe95qy9   \n",
       "\n",
       "           time       timet  \n",
       "162  2008-07-09  1215561600  \n",
       "611  2011-08-16  1313452800  \n",
       "918  2012-01-01  1325376000  \n",
       "993  2012-11-29  1354147200  \n",
       "1053 2013-02-03  1359849600  "
      ]
     },
     "execution_count": 10,
     "metadata": {},
     "output_type": "execute_result"
    }
   ],
   "source": [
    "df_collection.head()"
   ]
  },
  {
   "cell_type": "markdown",
   "metadata": {
    "id": "AAUiDU0xXLBt"
   },
   "source": [
    "## 1.b) Import the query set\n",
    "\n",
    "The query set contains tweets with implicit references to academic papers from the collection set.\n",
    "\n",
    "The preprocessed query set is available on the Gitlab repository here: https://gitlab.com/checkthat_lab/clef2025-checkthat-lab/-/tree/main/task4/subtask_4b\n",
    "\n",
    "Participants should first download the file then upload it on the Google Colab session with the following steps."
   ]
  },
  {
   "cell_type": "code",
   "execution_count": 11,
   "metadata": {
    "ExecuteTime": {
     "end_time": "2025-04-15T08:39:55.186047Z",
     "start_time": "2025-04-15T08:39:55.172024Z"
    },
    "executionInfo": {
     "elapsed": 11,
     "status": "ok",
     "timestamp": 1742975982410,
     "user": {
      "displayName": "Yavuz",
      "userId": "01318046262282431930"
     },
     "user_tz": -60
    },
    "id": "v8gwkZDSXPsd"
   },
   "outputs": [],
   "source": [
    "# 1) Download the query tweets from the Gitlab repository: https://gitlab.com/checkthat_lab/clef2025-checkthat-lab/-/tree/main/task4/subtask_4b?ref_type=heads\n",
    "# 2) Drag and drop the downloaded file to the \"Files\" section (left vertical menu on Colab)\n",
    "# 3) Modify the path to your local file path\n",
    "PATH_QUERY_TRAIN_DATA = '../subtask4b_query_tweets_train.tsv' #MODIFY PATH\n",
    "PATH_QUERY_DEV_DATA = '../subtask4b_query_tweets_dev.tsv' #MODIFY PATH"
   ]
  },
  {
   "cell_type": "code",
   "execution_count": 12,
   "metadata": {
    "ExecuteTime": {
     "end_time": "2025-04-15T08:39:55.620918Z",
     "start_time": "2025-04-15T08:39:55.291045Z"
    },
    "executionInfo": {
     "elapsed": 17,
     "status": "ok",
     "timestamp": 1742976006985,
     "user": {
      "displayName": "Yavuz",
      "userId": "01318046262282431930"
     },
     "user_tz": -60
    },
    "id": "VqxjYq2tYDmE"
   },
   "outputs": [],
   "source": [
    "df_query_train = pd.read_csv(PATH_QUERY_TRAIN_DATA, sep = '\\t')\n",
    "df_query_dev = pd.read_csv(PATH_QUERY_DEV_DATA, sep = '\\t')"
   ]
  },
  {
   "cell_type": "code",
   "execution_count": 13,
   "metadata": {
    "ExecuteTime": {
     "end_time": "2025-04-15T08:39:55.769747Z",
     "start_time": "2025-04-15T08:39:55.735671Z"
    },
    "id": "szMEK3OkYLvX"
   },
   "outputs": [
    {
     "data": {
      "text/html": [
       "<div>\n",
       "<style scoped>\n",
       "    .dataframe tbody tr th:only-of-type {\n",
       "        vertical-align: middle;\n",
       "    }\n",
       "\n",
       "    .dataframe tbody tr th {\n",
       "        vertical-align: top;\n",
       "    }\n",
       "\n",
       "    .dataframe thead th {\n",
       "        text-align: right;\n",
       "    }\n",
       "</style>\n",
       "<table border=\"1\" class=\"dataframe\">\n",
       "  <thead>\n",
       "    <tr style=\"text-align: right;\">\n",
       "      <th></th>\n",
       "      <th>post_id</th>\n",
       "      <th>tweet_text</th>\n",
       "      <th>cord_uid</th>\n",
       "    </tr>\n",
       "  </thead>\n",
       "  <tbody>\n",
       "    <tr>\n",
       "      <th>0</th>\n",
       "      <td>0</td>\n",
       "      <td>Oral care in rehabilitation medicine: oral vul...</td>\n",
       "      <td>htlvpvz5</td>\n",
       "    </tr>\n",
       "    <tr>\n",
       "      <th>1</th>\n",
       "      <td>1</td>\n",
       "      <td>this study isn't receiving sufficient attentio...</td>\n",
       "      <td>4kfl29ul</td>\n",
       "    </tr>\n",
       "    <tr>\n",
       "      <th>2</th>\n",
       "      <td>2</td>\n",
       "      <td>thanks, xi jinping. a reminder that this study...</td>\n",
       "      <td>jtwb17u8</td>\n",
       "    </tr>\n",
       "    <tr>\n",
       "      <th>3</th>\n",
       "      <td>3</td>\n",
       "      <td>Taiwan - a population of 23 million has had ju...</td>\n",
       "      <td>0w9k8iy1</td>\n",
       "    </tr>\n",
       "    <tr>\n",
       "      <th>4</th>\n",
       "      <td>4</td>\n",
       "      <td>Obtaining a diagnosis of autism in lower incom...</td>\n",
       "      <td>tiqksd69</td>\n",
       "    </tr>\n",
       "  </tbody>\n",
       "</table>\n",
       "</div>"
      ],
      "text/plain": [
       "   post_id                                         tweet_text  cord_uid\n",
       "0        0  Oral care in rehabilitation medicine: oral vul...  htlvpvz5\n",
       "1        1  this study isn't receiving sufficient attentio...  4kfl29ul\n",
       "2        2  thanks, xi jinping. a reminder that this study...  jtwb17u8\n",
       "3        3  Taiwan - a population of 23 million has had ju...  0w9k8iy1\n",
       "4        4  Obtaining a diagnosis of autism in lower incom...  tiqksd69"
      ]
     },
     "execution_count": 13,
     "metadata": {},
     "output_type": "execute_result"
    }
   ],
   "source": [
    "df_query_train.head()"
   ]
  },
  {
   "cell_type": "code",
   "execution_count": 14,
   "metadata": {
    "ExecuteTime": {
     "end_time": "2025-04-15T08:39:56.560863Z",
     "start_time": "2025-04-15T08:39:56.515523Z"
    },
    "id": "aslmTTJQyL2X"
   },
   "outputs": [
    {
     "name": "stdout",
     "output_type": "stream",
     "text": [
      "<class 'pandas.core.frame.DataFrame'>\n",
      "RangeIndex: 12853 entries, 0 to 12852\n",
      "Data columns (total 3 columns):\n",
      " #   Column      Non-Null Count  Dtype \n",
      "---  ------      --------------  ----- \n",
      " 0   post_id     12853 non-null  int64 \n",
      " 1   tweet_text  12853 non-null  object\n",
      " 2   cord_uid    12853 non-null  object\n",
      "dtypes: int64(1), object(2)\n",
      "memory usage: 301.4+ KB\n"
     ]
    }
   ],
   "source": [
    "df_query_train.info()"
   ]
  },
  {
   "cell_type": "code",
   "execution_count": 15,
   "metadata": {
    "colab": {
     "base_uri": "https://localhost:8080/",
     "height": 206
    },
    "executionInfo": {
     "elapsed": 28,
     "status": "ok",
     "timestamp": 1742976030778,
     "user": {
      "displayName": "Yavuz",
      "userId": "01318046262282431930"
     },
     "user_tz": -60
    },
    "id": "B5X8FwLhLY3u",
    "outputId": "36e21737-8257-4568-8346-0d3e0980ee53"
   },
   "outputs": [
    {
     "data": {
      "text/html": [
       "<div>\n",
       "<style scoped>\n",
       "    .dataframe tbody tr th:only-of-type {\n",
       "        vertical-align: middle;\n",
       "    }\n",
       "\n",
       "    .dataframe tbody tr th {\n",
       "        vertical-align: top;\n",
       "    }\n",
       "\n",
       "    .dataframe thead th {\n",
       "        text-align: right;\n",
       "    }\n",
       "</style>\n",
       "<table border=\"1\" class=\"dataframe\">\n",
       "  <thead>\n",
       "    <tr style=\"text-align: right;\">\n",
       "      <th></th>\n",
       "      <th>post_id</th>\n",
       "      <th>tweet_text</th>\n",
       "      <th>cord_uid</th>\n",
       "    </tr>\n",
       "  </thead>\n",
       "  <tbody>\n",
       "    <tr>\n",
       "      <th>0</th>\n",
       "      <td>16</td>\n",
       "      <td>covid recovery: this study from the usa reveal...</td>\n",
       "      <td>3qvh482o</td>\n",
       "    </tr>\n",
       "    <tr>\n",
       "      <th>1</th>\n",
       "      <td>69</td>\n",
       "      <td>\"Among 139 clients exposed to two symptomatic ...</td>\n",
       "      <td>r58aohnu</td>\n",
       "    </tr>\n",
       "    <tr>\n",
       "      <th>2</th>\n",
       "      <td>73</td>\n",
       "      <td>I recall early on reading that researchers who...</td>\n",
       "      <td>sts48u9i</td>\n",
       "    </tr>\n",
       "    <tr>\n",
       "      <th>3</th>\n",
       "      <td>93</td>\n",
       "      <td>You know you're credible when NIH website has ...</td>\n",
       "      <td>3sr2exq9</td>\n",
       "    </tr>\n",
       "    <tr>\n",
       "      <th>4</th>\n",
       "      <td>96</td>\n",
       "      <td>Resistance to antifungal medications is a grow...</td>\n",
       "      <td>ybwwmyqy</td>\n",
       "    </tr>\n",
       "  </tbody>\n",
       "</table>\n",
       "</div>"
      ],
      "text/plain": [
       "   post_id                                         tweet_text  cord_uid\n",
       "0       16  covid recovery: this study from the usa reveal...  3qvh482o\n",
       "1       69  \"Among 139 clients exposed to two symptomatic ...  r58aohnu\n",
       "2       73  I recall early on reading that researchers who...  sts48u9i\n",
       "3       93  You know you're credible when NIH website has ...  3sr2exq9\n",
       "4       96  Resistance to antifungal medications is a grow...  ybwwmyqy"
      ]
     },
     "execution_count": 15,
     "metadata": {},
     "output_type": "execute_result"
    }
   ],
   "source": [
    "df_query_dev.head()"
   ]
  },
  {
   "cell_type": "code",
   "execution_count": 16,
   "metadata": {
    "colab": {
     "base_uri": "https://localhost:8080/"
    },
    "executionInfo": {
     "elapsed": 14,
     "status": "ok",
     "timestamp": 1742976032804,
     "user": {
      "displayName": "Yavuz",
      "userId": "01318046262282431930"
     },
     "user_tz": -60
    },
    "id": "t6gDlBZnLcdH",
    "outputId": "11cd57d2-a4b7-4b06-a9af-9ba5e29c191b"
   },
   "outputs": [
    {
     "name": "stdout",
     "output_type": "stream",
     "text": [
      "<class 'pandas.core.frame.DataFrame'>\n",
      "RangeIndex: 1400 entries, 0 to 1399\n",
      "Data columns (total 3 columns):\n",
      " #   Column      Non-Null Count  Dtype \n",
      "---  ------      --------------  ----- \n",
      " 0   post_id     1400 non-null   int64 \n",
      " 1   tweet_text  1400 non-null   object\n",
      " 2   cord_uid    1400 non-null   object\n",
      "dtypes: int64(1), object(2)\n",
      "memory usage: 32.9+ KB\n"
     ]
    }
   ],
   "source": [
    "df_query_dev.info()"
   ]
  },
  {
   "cell_type": "markdown",
   "metadata": {
    "id": "jr_BDzufPmmP"
   },
   "source": [
    "# 2) Running the baseline\n",
    "The following code runs a BM25 baseline.\n"
   ]
  },
  {
   "cell_type": "code",
   "execution_count": 45,
   "metadata": {
    "ExecuteTime": {
     "end_time": "2025-04-15T08:42:58.732479Z",
     "start_time": "2025-04-15T08:42:49.389060Z"
    },
    "colab": {
     "base_uri": "https://localhost:8080/"
    },
    "executionInfo": {
     "elapsed": 3156,
     "status": "ok",
     "timestamp": 1742976045832,
     "user": {
      "displayName": "Yavuz",
      "userId": "01318046262282431930"
     },
     "user_tz": -60
    },
    "id": "BHfJ7ItxO8u8",
    "outputId": "8a4d8f08-31c0-4a9d-814e-b921b80fbe35"
   },
   "outputs": [],
   "source": [
    "from rank_bm25 import BM25Okapi"
   ]
  },
  {
   "cell_type": "code",
   "execution_count": 46,
   "metadata": {
    "ExecuteTime": {
     "end_time": "2025-04-15T08:43:05.372799Z",
     "start_time": "2025-04-15T08:42:59.299631Z"
    },
    "executionInfo": {
     "elapsed": 1414,
     "status": "ok",
     "timestamp": 1742976047296,
     "user": {
      "displayName": "Yavuz",
      "userId": "01318046262282431930"
     },
     "user_tz": -60
    },
    "id": "jXCC7K_ZPQL2"
   },
   "outputs": [],
   "source": [
    "# Create the BM25 corpus\n",
    "corpus = df_collection[:][['title', 'abstract']].apply(lambda x: f\"{x['title']} {x['abstract']}\", axis=1).tolist()\n",
    "cord_uids = df_collection[:]['cord_uid'].tolist()\n",
    "tokenized_corpus = [doc.split(' ') for doc in corpus]\n",
    "bm25 = BM25Okapi(tokenized_corpus)"
   ]
  },
  {
   "cell_type": "code",
   "execution_count": 47,
   "metadata": {
    "ExecuteTime": {
     "end_time": "2025-04-15T08:43:05.409520Z",
     "start_time": "2025-04-15T08:43:05.394335Z"
    },
    "executionInfo": {
     "elapsed": 6,
     "status": "ok",
     "timestamp": 1742976047304,
     "user": {
      "displayName": "Yavuz",
      "userId": "01318046262282431930"
     },
     "user_tz": -60
    },
    "id": "e8NeJWGYPQZG"
   },
   "outputs": [],
   "source": [
    "def get_top_cord_uids(query):\n",
    "  text2bm25top = {}\n",
    "  if query in text2bm25top.keys():\n",
    "      return text2bm25top[query]\n",
    "  else:\n",
    "      tokenized_query = query.split(' ')\n",
    "      doc_scores = bm25.get_scores(tokenized_query)\n",
    "      indices = np.argsort(-doc_scores)[:20]\n",
    "      bm25_topk = [cord_uids[x] for x in indices]\n",
    "\n",
    "      text2bm25top[query] = bm25_topk\n",
    "      return bm25_topk\n"
   ]
  },
  {
   "cell_type": "code",
   "execution_count": null,
   "metadata": {
    "ExecuteTime": {
     "end_time": "2025-04-15T09:29:41.657961Z",
     "start_time": "2025-04-15T08:43:07.398098Z"
    },
    "id": "Fk4-BqEtTgUj"
   },
   "outputs": [
    {
     "name": "stderr",
     "output_type": "stream",
     "text": [
      "100%|██████████| 1400/1400 [01:47<00:00, 13.04it/s]\n"
     ]
    }
   ],
   "source": [
    "# Retrieve topk candidates using the BM25 model\n",
    "tqdm.pandas()\n",
    "df_query_train['bm25_topk'] = df_query_train['tweet_text'].progress_apply(lambda x: get_top_cord_uids(x))\n",
    "df_query_dev['bm25_topk'] = df_query_dev['tweet_text'].progress_apply(lambda x: get_top_cord_uids(x))"
   ]
  },
  {
   "cell_type": "code",
   "execution_count": 21,
   "metadata": {},
   "outputs": [
    {
     "data": {
      "text/plain": [
       "['2cwvga0k', '33znyrn8', 'st3fyb64', '74dw6emg', 'b68c8qwm']"
      ]
     },
     "execution_count": 21,
     "metadata": {},
     "output_type": "execute_result"
    }
   ],
   "source": [
    "df_query_train['bm25_topk'][1]"
   ]
  },
  {
   "cell_type": "markdown",
   "metadata": {
    "id": "QVKBlTCZUMSc"
   },
   "source": [
    "# 3) Evaluating the baseline\n",
    "The following code evaluates the BM25 retrieval baseline on the query set using the Mean Reciprocal Rank score (MRR@5)."
   ]
  },
  {
   "cell_type": "code",
   "execution_count": 50,
   "metadata": {
    "executionInfo": {
     "elapsed": 3,
     "status": "ok",
     "timestamp": 1742976555898,
     "user": {
      "displayName": "Yavuz",
      "userId": "01318046262282431930"
     },
     "user_tz": -60
    },
    "id": "c-vdGWXXTgjZ"
   },
   "outputs": [],
   "source": [
    "# Evaluate retrieved candidates using MRR@k\n",
    "def get_performance_mrr(data, col_gold, col_pred, list_k = [1, 5, 10]):\n",
    "    d_performance = {}\n",
    "    for k in list_k:\n",
    "        data[\"in_topx\"] = data.apply(lambda x: (1/([i for i in x[col_pred][:k]].index(x[col_gold]) + 1) if x[col_gold] in [i for i in x[col_pred][:k]] else 0), axis=1)\n",
    "        #performances.append(data[\"in_topx\"].mean())\n",
    "        d_performance[k] = data[\"in_topx\"].mean()\n",
    "    return d_performance\n"
   ]
  },
  {
   "cell_type": "code",
   "execution_count": 51,
   "metadata": {
    "colab": {
     "base_uri": "https://localhost:8080/"
    },
    "executionInfo": {
     "elapsed": 44,
     "status": "ok",
     "timestamp": 1742976568622,
     "user": {
      "displayName": "Yavuz",
      "userId": "01318046262282431930"
     },
     "user_tz": -60
    },
    "id": "xLX9SMg5USkH",
    "outputId": "7c414679-6486-4e08-dffe-23d8cffbddf0"
   },
   "outputs": [
    {
     "name": "stdout",
     "output_type": "stream",
     "text": [
      "Results on the train set: {1: np.float64(0.5081303975725512), 5: np.float64(0.5509777224513084), 10: np.float64(0.5509777224513084)}\n",
      "Results on the dev set: {1: np.float64(0.505), 5: np.float64(0.5519166666666666), 10: np.float64(0.5573010204081632)}\n"
     ]
    }
   ],
   "source": [
    "results_train = get_performance_mrr(df_query_train, 'cord_uid', 'bm25_topk')\n",
    "results_dev = get_performance_mrr(df_query_dev, 'cord_uid', 'bm25_topk')\n",
    "# Printed MRR@k results in the following format: {k: MRR@k}\n",
    "print(f\"Results on the train set: {results_train}\")\n",
    "print(f\"Results on the dev set: {results_dev}\")"
   ]
  },
  {
   "cell_type": "markdown",
   "metadata": {
    "id": "RazcRTV84KQC"
   },
   "source": [
    "# 4) Exporting results to prepare the submission on Codalab"
   ]
  },
  {
   "cell_type": "code",
   "execution_count": 24,
   "metadata": {
    "executionInfo": {
     "elapsed": 39,
     "status": "ok",
     "timestamp": 1742976603546,
     "user": {
      "displayName": "Yavuz",
      "userId": "01318046262282431930"
     },
     "user_tz": -60
    },
    "id": "DFng4ocDw3Hk"
   },
   "outputs": [],
   "source": [
    "df_query_dev['preds'] = df_query_dev['bm25_topk'].apply(lambda x: x[:5])"
   ]
  },
  {
   "cell_type": "code",
   "execution_count": 25,
   "metadata": {
    "executionInfo": {
     "elapsed": 13,
     "status": "ok",
     "timestamp": 1742976608184,
     "user": {
      "displayName": "Yavuz",
      "userId": "01318046262282431930"
     },
     "user_tz": -60
    },
    "id": "nAVBQYh_xP8O"
   },
   "outputs": [],
   "source": [
    "df_query_dev[['post_id', 'preds']].to_csv('predictions.tsv', index=None, sep='\\t')"
   ]
  },
  {
   "cell_type": "code",
   "execution_count": 26,
   "metadata": {
    "id": "opGI1H1h4Og5"
   },
   "outputs": [
    {
     "data": {
      "text/html": [
       "<div>\n",
       "<style scoped>\n",
       "    .dataframe tbody tr th:only-of-type {\n",
       "        vertical-align: middle;\n",
       "    }\n",
       "\n",
       "    .dataframe tbody tr th {\n",
       "        vertical-align: top;\n",
       "    }\n",
       "\n",
       "    .dataframe thead th {\n",
       "        text-align: right;\n",
       "    }\n",
       "</style>\n",
       "<table border=\"1\" class=\"dataframe\">\n",
       "  <thead>\n",
       "    <tr style=\"text-align: right;\">\n",
       "      <th></th>\n",
       "      <th>post_id</th>\n",
       "      <th>tweet_text</th>\n",
       "      <th>cord_uid</th>\n",
       "      <th>bm25_topk</th>\n",
       "      <th>in_topx</th>\n",
       "      <th>preds</th>\n",
       "    </tr>\n",
       "  </thead>\n",
       "  <tbody>\n",
       "    <tr>\n",
       "      <th>0</th>\n",
       "      <td>16</td>\n",
       "      <td>covid recovery: this study from the usa reveal...</td>\n",
       "      <td>3qvh482o</td>\n",
       "      <td>[25aj8rj5, gatxuwz7, 59up4v56, styavbvi, 6sy80...</td>\n",
       "      <td>0.0</td>\n",
       "      <td>[25aj8rj5, gatxuwz7, 59up4v56, styavbvi, 6sy80...</td>\n",
       "    </tr>\n",
       "    <tr>\n",
       "      <th>1</th>\n",
       "      <td>69</td>\n",
       "      <td>\"Among 139 clients exposed to two symptomatic ...</td>\n",
       "      <td>r58aohnu</td>\n",
       "      <td>[r58aohnu, p0kg6dyz, 9dlaaye8, iu1d9i57, d06np...</td>\n",
       "      <td>1.0</td>\n",
       "      <td>[r58aohnu, p0kg6dyz, 9dlaaye8, iu1d9i57, d06np...</td>\n",
       "    </tr>\n",
       "    <tr>\n",
       "      <th>2</th>\n",
       "      <td>73</td>\n",
       "      <td>I recall early on reading that researchers who...</td>\n",
       "      <td>sts48u9i</td>\n",
       "      <td>[tz2shoso, o877uul1, m1sf159a, sgo76prc, gruir...</td>\n",
       "      <td>0.0</td>\n",
       "      <td>[tz2shoso, o877uul1, m1sf159a, sgo76prc, gruir...</td>\n",
       "    </tr>\n",
       "    <tr>\n",
       "      <th>3</th>\n",
       "      <td>93</td>\n",
       "      <td>You know you're credible when NIH website has ...</td>\n",
       "      <td>3sr2exq9</td>\n",
       "      <td>[3sr2exq9, hgpiig0g, sv48gjkk, k0f4cwig, ihgxt...</td>\n",
       "      <td>1.0</td>\n",
       "      <td>[3sr2exq9, hgpiig0g, sv48gjkk, k0f4cwig, ihgxt...</td>\n",
       "    </tr>\n",
       "    <tr>\n",
       "      <th>4</th>\n",
       "      <td>96</td>\n",
       "      <td>Resistance to antifungal medications is a grow...</td>\n",
       "      <td>ybwwmyqy</td>\n",
       "      <td>[lzddnb8j, ouvq2wpq, sxx3yid9, vabb2f26, y9fqa...</td>\n",
       "      <td>0.0</td>\n",
       "      <td>[lzddnb8j, ouvq2wpq, sxx3yid9, vabb2f26, y9fqa...</td>\n",
       "    </tr>\n",
       "  </tbody>\n",
       "</table>\n",
       "</div>"
      ],
      "text/plain": [
       "   post_id                                         tweet_text  cord_uid  \\\n",
       "0       16  covid recovery: this study from the usa reveal...  3qvh482o   \n",
       "1       69  \"Among 139 clients exposed to two symptomatic ...  r58aohnu   \n",
       "2       73  I recall early on reading that researchers who...  sts48u9i   \n",
       "3       93  You know you're credible when NIH website has ...  3sr2exq9   \n",
       "4       96  Resistance to antifungal medications is a grow...  ybwwmyqy   \n",
       "\n",
       "                                           bm25_topk  in_topx  \\\n",
       "0  [25aj8rj5, gatxuwz7, 59up4v56, styavbvi, 6sy80...      0.0   \n",
       "1  [r58aohnu, p0kg6dyz, 9dlaaye8, iu1d9i57, d06np...      1.0   \n",
       "2  [tz2shoso, o877uul1, m1sf159a, sgo76prc, gruir...      0.0   \n",
       "3  [3sr2exq9, hgpiig0g, sv48gjkk, k0f4cwig, ihgxt...      1.0   \n",
       "4  [lzddnb8j, ouvq2wpq, sxx3yid9, vabb2f26, y9fqa...      0.0   \n",
       "\n",
       "                                               preds  \n",
       "0  [25aj8rj5, gatxuwz7, 59up4v56, styavbvi, 6sy80...  \n",
       "1  [r58aohnu, p0kg6dyz, 9dlaaye8, iu1d9i57, d06np...  \n",
       "2  [tz2shoso, o877uul1, m1sf159a, sgo76prc, gruir...  \n",
       "3  [3sr2exq9, hgpiig0g, sv48gjkk, k0f4cwig, ihgxt...  \n",
       "4  [lzddnb8j, ouvq2wpq, sxx3yid9, vabb2f26, y9fqa...  "
      ]
     },
     "execution_count": 26,
     "metadata": {},
     "output_type": "execute_result"
    }
   ],
   "source": [
    "df_query_dev.head()"
   ]
  },
  {
   "cell_type": "code",
   "execution_count": 27,
   "metadata": {},
   "outputs": [
    {
     "data": {
      "text/html": [
       "<div>\n",
       "<style scoped>\n",
       "    .dataframe tbody tr th:only-of-type {\n",
       "        vertical-align: middle;\n",
       "    }\n",
       "\n",
       "    .dataframe tbody tr th {\n",
       "        vertical-align: top;\n",
       "    }\n",
       "\n",
       "    .dataframe thead th {\n",
       "        text-align: right;\n",
       "    }\n",
       "</style>\n",
       "<table border=\"1\" class=\"dataframe\">\n",
       "  <thead>\n",
       "    <tr style=\"text-align: right;\">\n",
       "      <th></th>\n",
       "      <th>post_id</th>\n",
       "      <th>tweet_text</th>\n",
       "      <th>cord_uid</th>\n",
       "      <th>bm25_topk</th>\n",
       "      <th>in_topx</th>\n",
       "    </tr>\n",
       "  </thead>\n",
       "  <tbody>\n",
       "    <tr>\n",
       "      <th>0</th>\n",
       "      <td>0</td>\n",
       "      <td>Oral care in rehabilitation medicine: oral vul...</td>\n",
       "      <td>htlvpvz5</td>\n",
       "      <td>[htlvpvz5, h7hj64q5, rwgqkow3, dbgtslc8, am11y...</td>\n",
       "      <td>1.000000</td>\n",
       "    </tr>\n",
       "    <tr>\n",
       "      <th>1</th>\n",
       "      <td>1</td>\n",
       "      <td>this study isn't receiving sufficient attentio...</td>\n",
       "      <td>4kfl29ul</td>\n",
       "      <td>[2cwvga0k, 33znyrn8, st3fyb64, 74dw6emg, b68c8...</td>\n",
       "      <td>0.000000</td>\n",
       "    </tr>\n",
       "    <tr>\n",
       "      <th>2</th>\n",
       "      <td>2</td>\n",
       "      <td>thanks, xi jinping. a reminder that this study...</td>\n",
       "      <td>jtwb17u8</td>\n",
       "      <td>[8hkxbxz9, w98847ai, jtwb17u8, iy1enazk, pg0l9...</td>\n",
       "      <td>0.333333</td>\n",
       "    </tr>\n",
       "    <tr>\n",
       "      <th>3</th>\n",
       "      <td>3</td>\n",
       "      <td>Taiwan - a population of 23 million has had ju...</td>\n",
       "      <td>0w9k8iy1</td>\n",
       "      <td>[32ua8wb6, zxe95qy9, 30pl5tx3, l4y7v729, b97ac...</td>\n",
       "      <td>0.000000</td>\n",
       "    </tr>\n",
       "    <tr>\n",
       "      <th>4</th>\n",
       "      <td>4</td>\n",
       "      <td>Obtaining a diagnosis of autism in lower incom...</td>\n",
       "      <td>tiqksd69</td>\n",
       "      <td>[tiqksd69, k7smwz6w, b0dzhsrh, yc7cvbii, iiafu...</td>\n",
       "      <td>1.000000</td>\n",
       "    </tr>\n",
       "  </tbody>\n",
       "</table>\n",
       "</div>"
      ],
      "text/plain": [
       "   post_id                                         tweet_text  cord_uid  \\\n",
       "0        0  Oral care in rehabilitation medicine: oral vul...  htlvpvz5   \n",
       "1        1  this study isn't receiving sufficient attentio...  4kfl29ul   \n",
       "2        2  thanks, xi jinping. a reminder that this study...  jtwb17u8   \n",
       "3        3  Taiwan - a population of 23 million has had ju...  0w9k8iy1   \n",
       "4        4  Obtaining a diagnosis of autism in lower incom...  tiqksd69   \n",
       "\n",
       "                                           bm25_topk   in_topx  \n",
       "0  [htlvpvz5, h7hj64q5, rwgqkow3, dbgtslc8, am11y...  1.000000  \n",
       "1  [2cwvga0k, 33znyrn8, st3fyb64, 74dw6emg, b68c8...  0.000000  \n",
       "2  [8hkxbxz9, w98847ai, jtwb17u8, iy1enazk, pg0l9...  0.333333  \n",
       "3  [32ua8wb6, zxe95qy9, 30pl5tx3, l4y7v729, b97ac...  0.000000  \n",
       "4  [tiqksd69, k7smwz6w, b0dzhsrh, yc7cvbii, iiafu...  1.000000  "
      ]
     },
     "execution_count": 27,
     "metadata": {},
     "output_type": "execute_result"
    }
   ],
   "source": [
    "df_query_train.head()"
   ]
  },
  {
   "cell_type": "markdown",
   "metadata": {},
   "source": [
    "## 5) Re-ranking approach"
   ]
  },
  {
   "cell_type": "code",
   "execution_count": 60,
   "metadata": {},
   "outputs": [
    {
     "name": "stderr",
     "output_type": "stream",
     "text": [
      "100%|██████████| 1400/1400 [04:02<00:00,  5.78it/s]"
     ]
    },
    {
     "name": "stdout",
     "output_type": "stream",
     "text": [
      "   cord_uid                                 cross_encoder_topk\n",
      "0  3qvh482o  [o4vvlmr4, hg3xpej0, 25aj8rj5, 59up4v56, bqn29...\n",
      "1  r58aohnu  [r58aohnu, tu1vevx9, yrowv62k, mcmqx7og, zd8c1...\n",
      "2  sts48u9i  [osct0lj6, o47v5vgw, sts48u9i, gruir7aw, o877u...\n",
      "3  3sr2exq9  [kdegnr6i, 3sr2exq9, k0f4cwig, sv48gjkk, z795y...\n",
      "4  ybwwmyqy  [ybwwmyqy, vabb2f26, ouvq2wpq, sxx3yid9, lzddn...\n"
     ]
    },
    {
     "name": "stderr",
     "output_type": "stream",
     "text": [
      "\n"
     ]
    }
   ],
   "source": [
    "from sentence_transformers import CrossEncoder\n",
    "from tqdm import tqdm\n",
    "\n",
    "# Initialize Cross-Encoder once\n",
    "cross_encoder = CrossEncoder('cross-encoder/ms-marco-TinyBERT-L2-v2', max_length=512)\n",
    "\n",
    "def rank_chunks_with_cross_encoder(query, retrieved_chunks, top_k=5):\n",
    "    \"\"\"\n",
    "    Rank the retrieved chunks based on their relevance to the query using a Cross-Encoder.\n",
    "    \"\"\"\n",
    "    query_chunk_pairs = [[query, chunk] for chunk in retrieved_chunks]\n",
    "    scores = cross_encoder.predict(query_chunk_pairs)\n",
    "    ranked_chunks = sorted(zip(retrieved_chunks, scores), key=lambda x: x[1], reverse=True)\n",
    "    return ranked_chunks[:top_k]\n",
    "\n",
    "# Initialize new column\n",
    "df_query_dev[\"cross_encoder_topk\"] = None\n",
    "\n",
    "# Loop over the rows to fill in reranked results\n",
    "for idx, row in tqdm(df_query_dev.iterrows(), total=len(df_query_dev)):\n",
    "    query_text = row[\"tweet_text\"]\n",
    "    topk_ids = row[\"bm25_topk\"]\n",
    "\n",
    "    chunk_to_uid = {}\n",
    "    for uid in topk_ids:\n",
    "        paper_row = df_collection.loc[df_collection[\"cord_uid\"] == uid]\n",
    "        if paper_row.empty:\n",
    "            continue\n",
    "\n",
    "        title = paper_row[\"title\"].values[0] or \"\"\n",
    "        abstract = paper_row[\"abstract\"].values[0] or \"\"\n",
    "        full_text = f\"{title.strip()}\\n{abstract.strip()}\"\n",
    "        chunk_to_uid[full_text] = uid\n",
    "\n",
    "    reranked_chunks = rank_chunks_with_cross_encoder(query_text, list(chunk_to_uid.keys()))\n",
    "    reranked_uids = [chunk_to_uid[chunk] for chunk, _ in reranked_chunks]\n",
    "\n",
    "    # Assign directly to the dataframe\n",
    "    df_query_dev.at[idx, \"cross_encoder_topk\"] = reranked_uids\n",
    "\n",
    "# Preview result\n",
    "print(df_query_dev[[\"cord_uid\", \"cross_encoder_topk\"]].head())\n",
    "\n"
   ]
  },
  {
   "cell_type": "code",
   "execution_count": 61,
   "metadata": {},
   "outputs": [
    {
     "name": "stdout",
     "output_type": "stream",
     "text": [
      "Results on the reranked set: {1: np.float64(0.55), 5: np.float64(0.5952857142857143), 10: np.float64(0.5952857142857143)}\n"
     ]
    }
   ],
   "source": [
    "results_reranked = get_performance_mrr(df_query_dev, 'cord_uid', 'cross_encoder_topk')\n",
    "print(f\"Results on the reranked set: {results_reranked}\")"
   ]
  },
  {
   "cell_type": "code",
   "execution_count": 59,
   "metadata": {},
   "outputs": [
    {
     "name": "stderr",
     "output_type": "stream",
     "text": [
      "100%|██████████| 7718/7718 [00:00<00:00, 125024.19it/s]\n"
     ]
    }
   ],
   "source": [
    "from sklearn.preprocessing import MinMaxScaler\n",
    "import numpy as np\n",
    "from sentence_transformers import SentenceTransformer, util\n",
    "\n",
    "\n",
    "corpus = df_collection.progress_apply(lambda x: f\"{x['title']} {x['abstract']}\", axis=1).tolist()\n",
    "cord_uids = df_collection['cord_uid'].tolist()\n",
    "\n",
    "# Encode corpus once\n",
    "bi_encoder = SentenceTransformer(\"all-MiniLM-L6-v2\")\n",
    "corpus_embeddings = bi_encoder.encode(corpus, convert_to_tensor=True)\n",
    "\n",
    "def hybrid_retrieve(query, bm25, corpus_embeddings, cord_uids, top_k=20):\n",
    "    # Step 1: Get BM25 scores\n",
    "    bm25_scores = bm25.get_scores(query.split())  # shape: (N,)\n",
    "\n",
    "    # Step 2: Get dense (bi-encoder) similarity scores\n",
    "    query_embedding = bi_encoder.encode(query, convert_to_tensor=True)\n",
    "    dense_scores = util.cos_sim(query_embedding, corpus_embeddings)[0].cpu().numpy()  # shape: (N,)\n",
    "\n",
    "    # Step 3: Normalize both score types\n",
    "    scaler = MinMaxScaler()\n",
    "    combined_scores = scaler.fit_transform(np.vstack([bm25_scores, dense_scores]).T)  # shape: (N, 2)\n",
    "    hybrid_scores = combined_scores.sum(axis=1)  # shape: (N,)\n",
    "\n",
    "    # Step 4: Get top-k documents based on hybrid score\n",
    "    top_indices = np.argsort(-hybrid_scores)[:top_k]\n",
    "    top_docs = [cord_uids[i] for i in top_indices]\n",
    "\n",
    "    return top_docs\n",
    "\n"
   ]
  },
  {
   "cell_type": "code",
   "execution_count": 62,
   "metadata": {},
   "outputs": [
    {
     "name": "stderr",
     "output_type": "stream",
     "text": [
      "100%|██████████| 1400/1400 [02:18<00:00, 10.13it/s]\n"
     ]
    }
   ],
   "source": [
    "df_query_dev[\"hybrid_topk\"] = None\n",
    "\n",
    "# Apply hybrid retrieval to each row\n",
    "for idx, row in tqdm(df_query_dev.iterrows(), total=len(df_query_dev)):\n",
    "    query_text = row[\"tweet_text\"]\n",
    "    top_docs = hybrid_retrieve(query_text, bm25, corpus_embeddings, cord_uids, top_k=20)\n",
    "    df_query_dev.at[idx, \"hybrid_topk\"] = top_docs"
   ]
  },
  {
   "cell_type": "code",
   "execution_count": 63,
   "metadata": {},
   "outputs": [
    {
     "data": {
      "text/plain": [
       "0       [25aj8rj5, styavbvi, jrqlhjsm, hg3xpej0, o4vvl...\n",
       "1       [r58aohnu, yrowv62k, d06npvro, mcmqx7og, mz1bo...\n",
       "2       [sts48u9i, 8m59whf9, gruir7aw, qkg8fwbp, osct0...\n",
       "3       [3sr2exq9, k0f4cwig, z795y51f, sv48gjkk, 4fzzo...\n",
       "4       [ybwwmyqy, lzddnb8j, vabb2f26, ouvq2wpq, sxx3y...\n",
       "                              ...                        \n",
       "1395    [0gn3b98n, 0e97tdez, soa71kwx, d8x3b9a3, n5sei...\n",
       "1396    [92z77upt, s1qnjgev, 763v4duh, 64ugdvfe, q10pv...\n",
       "1397    [qn6wawxk, 059oj76m, rtus1qyw, wrsk5vh9, t8jli...\n",
       "1398    [47p4g80o, 2tax8ajw, rfv0omd6, unl3n0tn, wt6az...\n",
       "1399    [nih4l4ok, w4dyadpa, dfhxcqr8, p82l6d9a, msut5...\n",
       "Name: hybrid_topk, Length: 1400, dtype: object"
      ]
     },
     "execution_count": 63,
     "metadata": {},
     "output_type": "execute_result"
    }
   ],
   "source": [
    "df_query_dev[\"hybrid_topk\"]"
   ]
  },
  {
   "cell_type": "code",
   "execution_count": null,
   "metadata": {},
   "outputs": [
    {
     "name": "stdout",
     "output_type": "stream",
     "text": [
      "Results on the reranked set: {1: np.float64(0.57), 5: np.float64(0.6207261904761905), 10: np.float64(0.6278222789115646)}\n"
     ]
    }
   ],
   "source": [
    "results_reranked = get_performance_mrr(df_query_dev, 'cord_uid', 'hybrid_topk')\n",
    "print(f\"Results on the hybrid set: {results_reranked}\")"
   ]
  },
  {
   "cell_type": "markdown",
   "metadata": {},
   "source": [
    "## Use different cross encoder settings on first hybrid retrieve"
   ]
  },
  {
   "cell_type": "code",
   "execution_count": null,
   "metadata": {},
   "outputs": [
    {
     "name": "stderr",
     "output_type": "stream",
     "text": [
      "100%|██████████| 1400/1400 [04:05<00:00,  5.71it/s]"
     ]
    },
    {
     "name": "stdout",
     "output_type": "stream",
     "text": [
      "   cord_uid                          hybrid_cross_encoder_topk\n",
      "0  3qvh482o  [nksd3wuw, o4vvlmr4, jrqlhjsm, 8t2tic9n, hg3xp...\n",
      "1  r58aohnu  [r58aohnu, wk61uyrt, icgsbelo, tu1vevx9, kiq6x...\n",
      "2  sts48u9i  [u5nxm9tu, 4aps0kvp, osct0lj6, o47v5vgw, sts48...\n",
      "3  3sr2exq9  [3sr2exq9, k0f4cwig, sv48gjkk, kc3nb2pc, wbw7g...\n",
      "4  ybwwmyqy  [ybwwmyqy, vabb2f26, 3l6ipiwk, ouvq2wpq, sxx3y...\n"
     ]
    },
    {
     "name": "stderr",
     "output_type": "stream",
     "text": [
      "\n"
     ]
    }
   ],
   "source": [
    "from sentence_transformers import CrossEncoder\n",
    "from tqdm import tqdm\n",
    "\n",
    "# Initialize Cross-Encoder once\n",
    "cross_encoder = CrossEncoder('cross-encoder/ms-marco-TinyBERT-L2-v2', max_length=512)\n",
    "\n",
    "def rank_chunks_with_cross_encoder(query, retrieved_chunks, top_k=5):\n",
    "    \"\"\"\n",
    "    Rank the retrieved chunks based on their relevance to the query using a Cross-Encoder.\n",
    "    \"\"\"\n",
    "    query_chunk_pairs = [[query, chunk] for chunk in retrieved_chunks]\n",
    "    scores = cross_encoder.predict(query_chunk_pairs)\n",
    "    ranked_chunks = sorted(zip(retrieved_chunks, scores), key=lambda x: x[1], reverse=True)\n",
    "    return ranked_chunks[:top_k]\n",
    "\n",
    "# Initialize new column\n",
    "df_query_dev[\"hybrid_cross_encoder_topk\"] = None\n",
    "\n",
    "# Loop over the rows to fill in reranked results\n",
    "for idx, row in tqdm(df_query_dev.iterrows(), total=len(df_query_dev)):\n",
    "    query_text = row[\"tweet_text\"]\n",
    "    topk_ids = row[\"hybrid_topk\"]\n",
    "\n",
    "    chunk_to_uid = {}\n",
    "    for uid in topk_ids:\n",
    "        paper_row = df_collection.loc[df_collection[\"cord_uid\"] == uid]\n",
    "        if paper_row.empty:\n",
    "            continue\n",
    "\n",
    "        title = paper_row[\"title\"].values[0] or \"\"\n",
    "        abstract = paper_row[\"abstract\"].values[0] or \"\"\n",
    "        full_text = f\"{title.strip()}\\n{abstract.strip()}\"\n",
    "        chunk_to_uid[full_text] = uid\n",
    "\n",
    "    reranked_chunks = rank_chunks_with_cross_encoder(query_text, list(chunk_to_uid.keys()))\n",
    "    reranked_uids = [chunk_to_uid[chunk] for chunk, _ in reranked_chunks]\n",
    "\n",
    "    # Assign directly to the dataframe\n",
    "    df_query_dev.at[idx, \"hybrid_cross_encoder_topk\"] = reranked_uids\n",
    "\n",
    "# Preview result\n",
    "print(df_query_dev[[\"cord_uid\", \"hybrid_cross_encoder_topk\"]].head())"
   ]
  },
  {
   "cell_type": "code",
   "execution_count": 66,
   "metadata": {},
   "outputs": [
    {
     "name": "stdout",
     "output_type": "stream",
     "text": [
      "Results on the hybrid reranked set: {1: np.float64(0.5657142857142857), 5: np.float64(0.6185119047619048), 10: np.float64(0.6251488095238095)}\n"
     ]
    }
   ],
   "source": [
    "results_reranked = get_performance_mrr(df_query_dev, 'cord_uid', 'hybrid_cross_encoder_topk')\n",
    "print(f\"Results on the hybrid reranked set: {results_reranked}\")"
   ]
  },
  {
   "cell_type": "code",
   "execution_count": 68,
   "metadata": {},
   "outputs": [
    {
     "name": "stderr",
     "output_type": "stream",
     "text": [
      "100%|██████████| 1400/1400 [04:06<00:00,  5.68it/s]"
     ]
    },
    {
     "name": "stdout",
     "output_type": "stream",
     "text": [
      "   cord_uid                          hybrid_cross_encoder_top5\n",
      "0  3qvh482o  [nksd3wuw, o4vvlmr4, jrqlhjsm, 8t2tic9n, hg3xp...\n",
      "1  r58aohnu  [r58aohnu, wk61uyrt, icgsbelo, tu1vevx9, kiq6x...\n",
      "2  sts48u9i  [u5nxm9tu, 4aps0kvp, osct0lj6, o47v5vgw, sts48...\n",
      "3  3sr2exq9  [3sr2exq9, k0f4cwig, sv48gjkk, kc3nb2pc, wbw7g...\n",
      "4  ybwwmyqy  [ybwwmyqy, vabb2f26, 3l6ipiwk, ouvq2wpq, sxx3y...\n"
     ]
    },
    {
     "name": "stderr",
     "output_type": "stream",
     "text": [
      "\n"
     ]
    }
   ],
   "source": [
    "from sentence_transformers import CrossEncoder\n",
    "from tqdm import tqdm\n",
    "\n",
    "# Initialize Cross-Encoder once\n",
    "cross_encoder = CrossEncoder('cross-encoder/ms-marco-TinyBERT-L2-v2', max_length=512)\n",
    "\n",
    "def rank_chunks_with_cross_encoder(query, retrieved_chunks, top_k=5):\n",
    "    \"\"\"\n",
    "    Rank the retrieved chunks based on their relevance to the query using a Cross-Encoder.\n",
    "    \"\"\"\n",
    "    query_chunk_pairs = [[query, chunk] for chunk in retrieved_chunks]\n",
    "    scores = cross_encoder.predict(query_chunk_pairs)\n",
    "    ranked_chunks = sorted(zip(retrieved_chunks, scores), key=lambda x: x[1], reverse=True)\n",
    "    return ranked_chunks[:top_k]\n",
    "\n",
    "# Initialize new column\n",
    "df_query_dev[\"hybrid_cross_encoder_top5\"] = None\n",
    "\n",
    "# Loop over the rows to fill in reranked results\n",
    "for idx, row in tqdm(df_query_dev.iterrows(), total=len(df_query_dev)):\n",
    "    query_text = row[\"tweet_text\"]\n",
    "    topk_ids = row[\"hybrid_topk\"]\n",
    "\n",
    "    chunk_to_uid = {}\n",
    "    for uid in topk_ids:\n",
    "        paper_row = df_collection.loc[df_collection[\"cord_uid\"] == uid]\n",
    "        if paper_row.empty:\n",
    "            continue\n",
    "\n",
    "        title = paper_row[\"title\"].values[0] or \"\"\n",
    "        abstract = paper_row[\"abstract\"].values[0] or \"\"\n",
    "        full_text = f\"{title.strip()}\\n{abstract.strip()}\"\n",
    "        chunk_to_uid[full_text] = uid\n",
    "\n",
    "    reranked_chunks = rank_chunks_with_cross_encoder(query_text, list(chunk_to_uid.keys()))\n",
    "    reranked_uids = [chunk_to_uid[chunk] for chunk, _ in reranked_chunks]\n",
    "\n",
    "    # Assign directly to the dataframe\n",
    "    df_query_dev.at[idx, \"hybrid_cross_encoder_top5\"] = reranked_uids\n",
    "\n",
    "# Preview result\n",
    "print(df_query_dev[[\"cord_uid\", \"hybrid_cross_encoder_top5\"]].head())"
   ]
  },
  {
   "cell_type": "code",
   "execution_count": 69,
   "metadata": {},
   "outputs": [
    {
     "name": "stdout",
     "output_type": "stream",
     "text": [
      "Results on the hybrid reranked set: {1: np.float64(0.5657142857142857), 5: np.float64(0.6185119047619048), 10: np.float64(0.6185119047619048)}\n"
     ]
    }
   ],
   "source": [
    "results_reranked = get_performance_mrr(df_query_dev, 'cord_uid', 'hybrid_cross_encoder_top5')\n",
    "print(f\"Results on the hybrid reranked set: {results_reranked}\")"
   ]
  },
  {
   "cell_type": "code",
   "execution_count": 70,
   "metadata": {},
   "outputs": [
    {
     "name": "stderr",
     "output_type": "stream",
     "text": [
      "100%|██████████| 1400/1400 [16:26<00:00,  1.42it/s]"
     ]
    },
    {
     "name": "stdout",
     "output_type": "stream",
     "text": [
      "   cord_uid                   hybrid_minilm_cross_encoder_topk\n",
      "0  3qvh482o  [59up4v56, o4vvlmr4, mb18fj8a, hg3xpej0, jwei2...\n",
      "1  r58aohnu  [r58aohnu, icgsbelo, h3tor88n, wk61uyrt, eay6q...\n",
      "2  sts48u9i  [osct0lj6, tz2shoso, 3xw4qjoy, azl5dj74, gruir...\n",
      "3  3sr2exq9  [3sr2exq9, k0f4cwig, sv48gjkk, 9mdf927z, 35xql...\n",
      "4  ybwwmyqy  [ouvq2wpq, rs3umc1x, lzddnb8j, gzhc0x44, vabb2...\n"
     ]
    },
    {
     "name": "stderr",
     "output_type": "stream",
     "text": [
      "\n"
     ]
    }
   ],
   "source": [
    "from sentence_transformers import CrossEncoder\n",
    "from tqdm import tqdm\n",
    "\n",
    "# Initialize Cross-Encoder once\n",
    "cross_encoder = CrossEncoder('cross-encoder/ms-marco-MiniLM-L2-v2', max_length=512)\n",
    "\n",
    "def rank_chunks_with_cross_encoder(query, retrieved_chunks, top_k=10):\n",
    "    \"\"\"\n",
    "    Rank the retrieved chunks based on their relevance to the query using a Cross-Encoder.\n",
    "    \"\"\"\n",
    "    query_chunk_pairs = [[query, chunk] for chunk in retrieved_chunks]\n",
    "    scores = cross_encoder.predict(query_chunk_pairs)\n",
    "    ranked_chunks = sorted(zip(retrieved_chunks, scores), key=lambda x: x[1], reverse=True)\n",
    "    return ranked_chunks[:top_k]\n",
    "\n",
    "# Initialize new column\n",
    "df_query_dev[\"hybrid_minilm_cross_encoder_topk\"] = None\n",
    "\n",
    "# Loop over the rows to fill in reranked results\n",
    "for idx, row in tqdm(df_query_dev.iterrows(), total=len(df_query_dev)):\n",
    "    query_text = row[\"tweet_text\"]\n",
    "    topk_ids = row[\"hybrid_topk\"]\n",
    "\n",
    "    chunk_to_uid = {}\n",
    "    for uid in topk_ids:\n",
    "        paper_row = df_collection.loc[df_collection[\"cord_uid\"] == uid]\n",
    "        if paper_row.empty:\n",
    "            continue\n",
    "\n",
    "        title = paper_row[\"title\"].values[0] or \"\"\n",
    "        abstract = paper_row[\"abstract\"].values[0] or \"\"\n",
    "        full_text = f\"{title.strip()}\\n{abstract.strip()}\"\n",
    "        chunk_to_uid[full_text] = uid\n",
    "\n",
    "    reranked_chunks = rank_chunks_with_cross_encoder(query_text, list(chunk_to_uid.keys()))\n",
    "    reranked_uids = [chunk_to_uid[chunk] for chunk, _ in reranked_chunks]\n",
    "\n",
    "    # Assign directly to the dataframe\n",
    "    df_query_dev.at[idx, \"hybrid_minilm_cross_encoder_topk\"] = reranked_uids\n",
    "\n",
    "# Preview result\n",
    "print(df_query_dev[[\"cord_uid\", \"hybrid_minilm_cross_encoder_topk\"]].head())"
   ]
  },
  {
   "cell_type": "code",
   "execution_count": 71,
   "metadata": {},
   "outputs": [
    {
     "name": "stdout",
     "output_type": "stream",
     "text": [
      "Results on the hybrid reranked set: {1: np.float64(0.4785714285714286), 5: np.float64(0.5498333333333333), 10: np.float64(0.5584163832199547)}\n"
     ]
    }
   ],
   "source": [
    "results_reranked = get_performance_mrr(df_query_dev, 'cord_uid', 'hybrid_minilm_cross_encoder_topk')\n",
    "print(f\"Results on the hybrid reranked set: {results_reranked}\")"
   ]
  },
  {
   "cell_type": "markdown",
   "metadata": {},
   "source": [
    "## Use different retrieval approaches"
   ]
  },
  {
   "cell_type": "code",
   "execution_count": 72,
   "metadata": {},
   "outputs": [],
   "source": [
    "import numpy as np\n",
    "from sentence_transformers import util\n",
    "\n",
    "\n",
    "def encoder_retrieve(query, corpus_embeddings, cord_uids, top_k=20):\n",
    "    # Step 1: Get dense (bi-encoder) similarity scores\n",
    "    query_embedding = bi_encoder.encode(query, convert_to_tensor=True)\n",
    "    dense_scores = util.cos_sim(query_embedding, corpus_embeddings)[0].cpu().numpy()  # shape: (N,)\n",
    "\n",
    "    # Step 2: Get top-k documents based on hybrid score\n",
    "    top_indices = np.argsort(-dense_scores)[:top_k]\n",
    "    top_docs = [cord_uids[i] for i in top_indices]\n",
    "\n",
    "    return top_docs\n"
   ]
  },
  {
   "cell_type": "code",
   "execution_count": 73,
   "metadata": {},
   "outputs": [
    {
     "name": "stderr",
     "output_type": "stream",
     "text": [
      "100%|██████████| 1400/1400 [00:28<00:00, 49.91it/s]\n"
     ]
    }
   ],
   "source": [
    "df_query_dev[\"dense_topk\"] = None\n",
    "\n",
    "# Apply hybrid retrieval to each row\n",
    "for idx, row in tqdm(df_query_dev.iterrows(), total=len(df_query_dev)):\n",
    "    query_text = row[\"tweet_text\"]\n",
    "    top_docs = encoder_retrieve(query_text, corpus_embeddings, cord_uids, top_k=20)\n",
    "    df_query_dev.at[idx, \"dense_topk\"] = top_docs"
   ]
  },
  {
   "cell_type": "code",
   "execution_count": 74,
   "metadata": {},
   "outputs": [
    {
     "name": "stdout",
     "output_type": "stream",
     "text": [
      "Results on the dense set: {1: np.float64(0.4157142857142857), 5: np.float64(0.48966666666666664), 10: np.float64(0.4993826530612245)}\n"
     ]
    }
   ],
   "source": [
    "results_reranked = get_performance_mrr(df_query_dev, 'cord_uid', 'dense_topk')\n",
    "print(f\"Results on the dense set: {results_reranked}\")"
   ]
  },
  {
   "cell_type": "markdown",
   "metadata": {},
   "source": [
    "For now, we can observe that the hybrid retrieval approach outperforms all other approaches"
   ]
  },
  {
   "cell_type": "code",
   "execution_count": null,
   "metadata": {},
   "outputs": [],
   "source": []
  }
 ],
 "metadata": {
  "colab": {
   "provenance": []
  },
  "kernelspec": {
   "display_name": "AIR",
   "language": "python",
   "name": "python3"
  },
  "language_info": {
   "codemirror_mode": {
    "name": "ipython",
    "version": 3
   },
   "file_extension": ".py",
   "mimetype": "text/x-python",
   "name": "python",
   "nbconvert_exporter": "python",
   "pygments_lexer": "ipython3",
   "version": "3.12.3"
  }
 },
 "nbformat": 4,
 "nbformat_minor": 0
}
